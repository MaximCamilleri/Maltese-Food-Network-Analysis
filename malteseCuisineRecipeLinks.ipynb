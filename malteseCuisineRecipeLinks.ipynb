{
 "cells": [
  {
   "cell_type": "code",
   "execution_count": 8,
   "metadata": {},
   "outputs": [],
   "source": [
    "# Libraries needed to get the html from a site and to parse the html\n",
    "from bs4 import BeautifulSoup as bs\n",
    "import requests\n",
    "from parse_ingredients import parse_ingredient"
   ]
  },
  {
   "cell_type": "code",
   "execution_count": 2,
   "metadata": {},
   "outputs": [],
   "source": [
    "# Saving the url to a variable, getting the url and parsing the html\n",
    "mainURL = \"https://maltesecuisine.com/\"\n",
    "req = requests.get(mainURL)\n",
    "soup = bs(req.text, \"html.parser\")"
   ]
  },
  {
   "cell_type": "code",
   "execution_count": 3,
   "metadata": {},
   "outputs": [],
   "source": [
    "def getPages():\n",
    "    hrefs = []\n",
    "    for i in range(1, 12):\n",
    "        if i == 1:\n",
    "            req = requests.get(\"https://maltesecuisine.com\")\n",
    "            soup = bs(req.text, \"html.parser\")\n",
    "            temp = soup.findAll(\"div\", class_=\"post-img\")\n",
    "            for j in temp:\n",
    "                allAs = j.findAll(\"a\")\n",
    "                for a in allAs:\n",
    "                    hrefs.append(a.get('href'))\n",
    "        else:\n",
    "            siteURL = \"https://maltesecuisine.com/page/\" + str(i)\n",
    "            req = requests.get(siteURL)\n",
    "            soup = bs(req.text, \"html.parser\")\n",
    "            temp = soup.findAll(\"div\", class_=\"post-img\")\n",
    "            for j in temp:\n",
    "                allAs = j.findAll(\"a\")\n",
    "                for a in allAs:\n",
    "                    hrefs.append(a.get('href'))\n",
    "    return hrefs"
   ]
  },
  {
   "cell_type": "code",
   "execution_count": 4,
   "metadata": {},
   "outputs": [],
   "source": [
    "hrefs = getPages()"
   ]
  },
  {
   "cell_type": "code",
   "execution_count": 5,
   "metadata": {},
   "outputs": [
    {
     "name": "stdout",
     "output_type": "stream",
     "text": [
      "['https://maltesecuisine.com/2022/02/05/veal-chop-kustilja-tal-vitella/', 'https://maltesecuisine.com/2021/12/19/sweet-ricotta-tart/', 'https://maltesecuisine.com/2021/12/05/baked-pasta-shells-with-pumpkin/', 'https://maltesecuisine.com/2021/11/23/pizza-4-seasons/', 'https://maltesecuisine.com/2021/10/23/fried-mozzarella-sandwich/', 'https://maltesecuisine.com/2021/10/17/tiramisu/', 'https://maltesecuisine.com/2021/08/11/oven-baked-ftira/', 'https://maltesecuisine.com/2021/07/31/zaqq-tal-majjal-fil-forn-pork-belly-oven-cooked/', 'https://maltesecuisine.com/2021/06/19/roasted-red-pepper-soup-soppa-tal-bzar-ahmar/', 'https://maltesecuisine.com/2021/05/30/stuffed-calamari/', 'https://maltesecuisine.com/2021/05/15/ghagin-bit-tadam-imqadded/', 'https://maltesecuisine.com/2021/04/29/strawberry-roly-poly/', 'https://maltesecuisine.com/2021/04/03/potato-and-blue-cheese-soup/', 'https://maltesecuisine.com/2021/03/27/lemon-cheesecake/', 'https://maltesecuisine.com/2021/03/20/insalta-tal-bakkaljaw-salt-cod-salad/', 'https://maltesecuisine.com/2021/03/13/ghagin-bil-lumi-lemon-pasta/', 'https://maltesecuisine.com/2021/03/07/torta-taz-zaqq-tal-majjal-pork-belly-pie/', 'https://maltesecuisine.com/2021/02/20/stuffat-tat-tonn-taz-zejt/', 'https://maltesecuisine.com/2021/01/30/rabbit-liver-pappardelle/', 'https://maltesecuisine.com/2021/01/23/orange-cake-kejk-tal-laring/', 'https://maltesecuisine.com/2021/01/17/ravjul-ravioli-with-artichoke-hearts-filling/', 'https://maltesecuisine.com/2021/01/10/qassatat/', 'https://maltesecuisine.com/2021/01/03/maltese-lasagna-and-a-cheeselets-panna-cotta-entree/', 'https://maltesecuisine.com/2020/12/27/lamb-shank-cooked-in-red-wine-and-tomatoes/', 'https://maltesecuisine.com/2020/12/19/mice-pies/', 'https://maltesecuisine.com/2020/12/13/pork-roulade-bragjoli-tal-majjal/', 'https://maltesecuisine.com/2020/12/05/qaghaq-tal-ghasel-honey-rings/', 'https://maltesecuisine.com/2020/11/28/scotch-egg-with-maltese-sausage/', 'https://maltesecuisine.com/2020/11/22/penne-with-maltese-sausage-in-a-pastry-plate/', 'https://maltesecuisine.com/2020/11/19/pasta-salad/', 'https://maltesecuisine.com/2020/11/01/pulpetti-tal-qarabaghli-u-wraps-bil-laham/', 'https://maltesecuisine.com/2020/10/24/ghadam-bones/', 'https://maltesecuisine.com/2020/10/17/maltese-platter/', 'https://maltesecuisine.com/2020/10/11/wraps-three-ways/', 'https://maltesecuisine.com/2020/10/03/maltese-trifle/', 'https://maltesecuisine.com/2020/09/26/pulled-pork-ftira-wrap/', 'https://maltesecuisine.com/2020/09/20/spalla-tal-majjal-pulled-pork-with-cream-cheese-potato/', 'https://maltesecuisine.com/2020/09/13/torta-tal-lampuki-lampuki-pie/', 'https://maltesecuisine.com/2020/08/29/stuffed-peppers-and-pork-chops/', 'https://maltesecuisine.com/2020/08/21/pixxispad-mixwi-grilled-swordfish/', 'https://maltesecuisine.com/2020/08/07/spaghetti-taste-of-malta/', 'https://maltesecuisine.com/2020/08/01/stuffed-aubergine-and-pork-burgers/', 'https://maltesecuisine.com/2020/07/24/salads-pt-2/', 'https://maltesecuisine.com/2020/07/19/crusted-salmon/', 'https://maltesecuisine.com/2020/07/13/salads-pt1/', 'https://maltesecuisine.com/2020/07/06/rustic-bread/', 'https://maltesecuisine.com/2020/06/28/aljoli-dip/', 'https://maltesecuisine.com/2020/06/20/pulpetti-tal-makku-whitebait-fritters/', 'https://maltesecuisine.com/2020/06/12/stuffed-maltese-bread/', 'https://maltesecuisine.com/2020/06/07/pasta-with-king-prawns/', 'https://maltesecuisine.com/2020/05/20/pizza-maltija-maltese-pizza/', 'https://maltesecuisine.com/2020/05/12/tarja-moqlija-fried-vermicelli-omelette/', 'https://maltesecuisine.com/2020/05/02/kawlata/', 'https://maltesecuisine.com/2020/04/25/stuffat-tal-wardiet-tal-majjal-pork-cheeks/', 'https://maltesecuisine.com/2020/04/20/kusksu/', 'https://maltesecuisine.com/2020/04/14/qaqocc-mimli-stuffed-artichokes/', 'https://maltesecuisine.com/2020/04/07/figolli/', 'https://maltesecuisine.com/2020/04/04/kwarezimal/', 'https://maltesecuisine.com/2020/04/02/broccoli-and-blue-cheese-quiche/', 'https://maltesecuisine.com/2020/03/22/sfinec/', 'https://maltesecuisine.com/2020/03/14/zeppoli/', 'https://maltesecuisine.com/2020/03/08/torta-tal-pastard-u-l-ispinaci/', 'https://maltesecuisine.com/2020/03/02/ghagin-il-forn-bl-irkotta-u-l-ful/', 'https://maltesecuisine.com/2020/02/25/poached-cod-with-lemon-vinaigrette-merluzz-bil-lumi/', 'https://maltesecuisine.com/2020/02/24/rabbit-with-mustard-fenek-bil-mustarda/', 'https://maltesecuisine.com/2020/02/23/prinjolata/', 'https://maltesecuisine.com/2020/02/16/204/', 'https://maltesecuisine.com/2020/01/25/spinach-and-tuna-pie-torta-tal-ispinaci-u-t-tonn/', 'https://maltesecuisine.com/2020/01/17/fried-rabbit-liver-with-carrob-syrup/', 'https://maltesecuisine.com/2020/01/13/ftira-with-pork-and-ricotta/', 'https://maltesecuisine.com/2022/02/13/goat-cheese-soup/', 'https://maltesecuisine.com/2022/02/01/torta-tal-bciecen-pigeon-pie/', 'https://maltesecuisine.com/2022/01/15/maltese-shakshuka/', 'https://maltesecuisine.com/2022/01/11/burger-malti-maltese-burger/', 'https://maltesecuisine.com/2021/12/11/salmon-and-prawn-terrine/', 'https://maltesecuisine.com/2021/11/07/spaghetti-with-anchovies/', 'https://maltesecuisine.com/2021/10/31/spinach-and-ricotta-pie/', 'https://maltesecuisine.com/2021/10/23/fried-mozzarella-sandwich/', 'https://maltesecuisine.com/2021/10/17/tiramisu/', 'https://maltesecuisine.com/2021/10/10/xikel-tal-vitella-veal-shanks/', 'https://maltesecuisine.com/2021/09/19/chicken-thighs-with-creamy-tomato-spinach-sauce/', 'https://maltesecuisine.com/2021/09/12/spaghetti-with-olives-and-capers-sauce/', 'https://maltesecuisine.com/2021/09/05/chicken-breast-stuffed-with-spinach-and-feta/', 'https://maltesecuisine.com/2021/08/30/ribs-with-baked-potatoes-and-sausage/', 'https://maltesecuisine.com/2021/08/21/kapunata/', 'https://maltesecuisine.com/2021/08/14/bucatini-with-sausage-and-marinated-mozzarella/', 'https://maltesecuisine.com/2021/08/11/oven-baked-ftira/', 'https://maltesecuisine.com/2021/07/31/zaqq-tal-majjal-fil-forn-pork-belly-oven-cooked/', 'https://maltesecuisine.com/2021/07/16/bragjoli-tal-brungiel/', 'https://maltesecuisine.com/2021/07/04/balbuljata/', 'https://maltesecuisine.com/2021/06/27/kannelloni-bil-laham-meat-filled-cannelloni/', 'https://maltesecuisine.com/2021/06/19/roasted-red-pepper-soup-soppa-tal-bzar-ahmar/', 'https://maltesecuisine.com/2021/06/12/olive-dip/', 'https://maltesecuisine.com/2021/06/06/pulpettun-meatloaf/', 'https://maltesecuisine.com/2021/05/30/stuffed-calamari/', 'https://maltesecuisine.com/2021/05/22/torta-tal-ikkapuljat-minced-beef-pie/', 'https://maltesecuisine.com/2021/05/15/ghagin-bit-tadam-imqadded/', 'https://maltesecuisine.com/2021/05/01/chicken-cacciatore/', 'https://maltesecuisine.com/2021/04/29/strawberry-roly-poly/', 'https://maltesecuisine.com/2021/04/10/shrimp-pasta/', 'https://maltesecuisine.com/2021/04/03/potato-and-blue-cheese-soup/', 'https://maltesecuisine.com/2021/03/27/lemon-cheesecake/', 'https://maltesecuisine.com/2021/03/20/insalta-tal-bakkaljaw-salt-cod-salad/', 'https://maltesecuisine.com/2021/03/13/ghagin-bil-lumi-lemon-pasta/', 'https://maltesecuisine.com/2021/03/07/torta-taz-zaqq-tal-majjal-pork-belly-pie/', 'https://maltesecuisine.com/2021/02/27/pesto-lasagne/', 'https://maltesecuisine.com/2021/02/20/stuffat-tat-tonn-taz-zejt/', 'https://maltesecuisine.com/2021/02/14/baked-feta-pasta/', 'https://maltesecuisine.com/2021/02/07/mini-beef-wellingtons-and-white-parmiggiana-with-fresh-cheeselets/', 'https://maltesecuisine.com/2021/01/30/rabbit-liver-pappardelle/', 'https://maltesecuisine.com/2021/01/23/orange-cake-kejk-tal-laring/', 'https://maltesecuisine.com/2021/01/17/ravjul-ravioli-with-artichoke-hearts-filling/', 'https://maltesecuisine.com/2021/01/10/qassatat/', 'https://maltesecuisine.com/2021/01/03/maltese-lasagna-and-a-cheeselets-panna-cotta-entree/', 'https://maltesecuisine.com/2020/12/27/lamb-shank-cooked-in-red-wine-and-tomatoes/', 'https://maltesecuisine.com/2020/12/19/mice-pies/', 'https://maltesecuisine.com/2020/12/13/pork-roulade-bragjoli-tal-majjal/', 'https://maltesecuisine.com/2020/12/05/qaghaq-tal-ghasel-honey-rings/', 'https://maltesecuisine.com/2020/11/28/scotch-egg-with-maltese-sausage/', 'https://maltesecuisine.com/2020/11/22/penne-with-maltese-sausage-in-a-pastry-plate/', 'https://maltesecuisine.com/2020/11/19/pasta-salad/', 'https://maltesecuisine.com/2020/11/01/pulpetti-tal-qarabaghli-u-wraps-bil-laham/', 'https://maltesecuisine.com/2020/10/24/ghadam-bones/', 'https://maltesecuisine.com/2020/10/17/maltese-platter/', 'https://maltesecuisine.com/2020/10/11/wraps-three-ways/', 'https://maltesecuisine.com/2020/10/03/maltese-trifle/', 'https://maltesecuisine.com/2020/09/26/pulled-pork-ftira-wrap/', 'https://maltesecuisine.com/2020/09/20/spalla-tal-majjal-pulled-pork-with-cream-cheese-potato/', 'https://maltesecuisine.com/2020/09/13/torta-tal-lampuki-lampuki-pie/', 'https://maltesecuisine.com/2020/08/29/stuffed-peppers-and-pork-chops/', 'https://maltesecuisine.com/2020/08/21/pixxispad-mixwi-grilled-swordfish/', 'https://maltesecuisine.com/2020/08/07/spaghetti-taste-of-malta/', 'https://maltesecuisine.com/2020/08/01/stuffed-aubergine-and-pork-burgers/', 'https://maltesecuisine.com/2020/07/24/salads-pt-2/', 'https://maltesecuisine.com/2020/07/19/crusted-salmon/', 'https://maltesecuisine.com/2020/07/13/salads-pt1/', 'https://maltesecuisine.com/2020/07/06/rustic-bread/', 'https://maltesecuisine.com/2020/06/28/aljoli-dip/', 'https://maltesecuisine.com/2020/06/20/pulpetti-tal-makku-whitebait-fritters/', 'https://maltesecuisine.com/2020/06/12/stuffed-maltese-bread/', 'https://maltesecuisine.com/2020/06/07/pasta-with-king-prawns/', 'https://maltesecuisine.com/2020/05/28/kejk-ahmar-tal-coconut/', 'https://maltesecuisine.com/2020/05/20/pizza-maltija-maltese-pizza/', 'https://maltesecuisine.com/2020/05/12/tarja-moqlija-fried-vermicelli-omelette/', 'https://maltesecuisine.com/2020/05/02/kawlata/', 'https://maltesecuisine.com/2020/04/25/stuffat-tal-wardiet-tal-majjal-pork-cheeks/', 'https://maltesecuisine.com/2020/04/20/kusksu/', 'https://maltesecuisine.com/2020/04/14/qaqocc-mimli-stuffed-artichokes/', 'https://maltesecuisine.com/2020/04/07/figolli/', 'https://maltesecuisine.com/2020/04/04/kwarezimal/', 'https://maltesecuisine.com/2020/04/02/broccoli-and-blue-cheese-quiche/', 'https://maltesecuisine.com/2020/03/22/sfinec/', 'https://maltesecuisine.com/2020/03/14/zeppoli/', 'https://maltesecuisine.com/2020/03/08/torta-tal-pastard-u-l-ispinaci/', 'https://maltesecuisine.com/2020/03/02/ghagin-il-forn-bl-irkotta-u-l-ful/', 'https://maltesecuisine.com/2020/02/25/poached-cod-with-lemon-vinaigrette-merluzz-bil-lumi/', 'https://maltesecuisine.com/2020/02/24/rabbit-with-mustard-fenek-bil-mustarda/', 'https://maltesecuisine.com/2020/02/24/gbejna-or-feta-in-filo-with-honey/', 'https://maltesecuisine.com/2020/02/23/prinjolata/', 'https://maltesecuisine.com/2020/02/16/204/', 'https://maltesecuisine.com/2020/01/25/spinach-and-tuna-pie-torta-tal-ispinaci-u-t-tonn/', 'https://maltesecuisine.com/2020/01/17/fried-rabbit-liver-with-carrob-syrup/', 'https://maltesecuisine.com/2020/01/13/ftira-with-pork-and-ricotta/', 'https://maltesecuisine.com/2020/01/13/134/', 'https://maltesecuisine.com/2020/01/13/qarabali-stuffed-marrows/', 'https://maltesecuisine.com/2020/01/13/meditteranean-octopus-stew/', 'https://maltesecuisine.com/2020/01/13/rabbit-casserole-stuffat-tal-fenek/', 'https://maltesecuisine.com/2020/01/13/bread-pudding-pudina/', 'https://maltesecuisine.com/2020/01/13/basic-pastry-recipe/', 'https://maltesecuisine.com/2020/01/13/timpana/', 'https://maltesecuisine.com/2020/01/13/pumpkin-soup-soppa-tal-qargha-hamra/', 'https://maltesecuisine.com/2020/01/13/kannoli/', 'https://maltesecuisine.com/2020/01/13/christmas-pudding/', 'https://maltesecuisine.com/2020/01/13/pork-cooked-in-milk/', 'https://maltesecuisine.com/2020/01/11/imbuljuta-tal-qastan/', 'https://maltesecuisine.com/2020/01/08/hot-chocolate/']\n"
     ]
    }
   ],
   "source": [
    "print (hrefs)"
   ]
  },
  {
   "cell_type": "code",
   "execution_count": 6,
   "metadata": {},
   "outputs": [
    {
     "name": "stdout",
     "output_type": "stream",
     "text": [
      "176\n"
     ]
    }
   ],
   "source": [
    "print(len(hrefs))"
   ]
  },
  {
   "cell_type": "code",
   "execution_count": 9,
   "metadata": {},
   "outputs": [],
   "source": [
    "data = []\n",
    "ingredientList = []\n",
    "\n",
    "for recipe in hrefs:\n",
    "    req = requests.get(recipe) # Accesses the next recipe\n",
    "    soup = bs(req.text, \"html.parser\")\n",
    "    title = soup.findAll('h1') # finds the name of the recipe\n",
    "    \n",
    "    ingredientsDiv = soup.findAll('div', class_='recipe-ingredients') # finds all the divs containing the ingredients\n",
    "    \n",
    "    # For each div go trough and extract the ingredients\n",
    "    for ul in ingredientsDiv:\n",
    "        ingredients = ul.findAll(\"li\")\n",
    "        \n",
    "        for i in ingredients:\n",
    "            for j in title:\n",
    "                data.append(str(j.get_text(strip=False))) # Dish Name\n",
    "                \n",
    "            parseResult = parse_ingredient(str(i.get_text(strip=False)))\n",
    "            \n",
    "            data.append(parseResult.original_string) #Original String\n",
    "            data.append(parseResult.name) #Ingredient\n",
    "            data.append(parseResult.quantity) #Quantity\n",
    "            data.append(parseResult.unit) #Unit\n",
    "            data.append(parseResult.comment) #Comment\n",
    "            \n",
    "            ingredientList.append(data)   \n",
    "            data = []"
   ]
  },
  {
   "cell_type": "code",
   "execution_count": null,
   "metadata": {},
   "outputs": [],
   "source": [
    "import csv\n",
    "\n",
    "header = ['Dish Name', 'Original String', 'Ingredient', 'Quantity', 'Unit', 'Comment']\n",
    "\n",
    "\n",
    "with open('CSV/malteseCuisineRecipes.csv', 'w', encoding='UTF8', newline='') as f:\n",
    "    writer = csv.writer(f)\n",
    "\n",
    "    # write the header\n",
    "    writer.writerow(header)\n",
    "\n",
    "    # write multiple rows\n",
    "    writer.writerows(ingredientList)"
   ]
  }
 ],
 "metadata": {
  "kernelspec": {
   "display_name": "Python 3",
   "language": "python",
   "name": "python3"
  },
  "language_info": {
   "codemirror_mode": {
    "name": "ipython",
    "version": 3
   },
   "file_extension": ".py",
   "mimetype": "text/x-python",
   "name": "python",
   "nbconvert_exporter": "python",
   "pygments_lexer": "ipython3",
   "version": "3.9.10"
  }
 },
 "nbformat": 4,
 "nbformat_minor": 4
}
