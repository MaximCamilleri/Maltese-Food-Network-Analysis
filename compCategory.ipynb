{
 "cells": [
  {
   "cell_type": "code",
   "execution_count": 35,
   "metadata": {},
   "outputs": [],
   "source": [
    "import pandas as pd"
   ]
  },
  {
   "cell_type": "code",
   "execution_count": 36,
   "metadata": {},
   "outputs": [],
   "source": [
    "ing_info = pd.read_csv(\"CSV/ingr_info.tsv\", sep = '\\t')\n",
    "sbsIng_info = pd.read_csv(\"CSV/sbsRecipes3.csv\")"
   ]
  },
  {
   "cell_type": "code",
   "execution_count": 37,
   "metadata": {},
   "outputs": [
    {
     "name": "stdout",
     "output_type": "stream",
     "text": [
      "0           corn_flour\n",
      "1                 salt\n",
      "2                water\n",
      "3               butter\n",
      "4            olive_oil\n",
      "            ...       \n",
      "378        cauliflower\n",
      "379             tomato\n",
      "380    vegetable_broth\n",
      "381             pepper\n",
      "382         soft_bread\n",
      "Name: Ingredient, Length: 383, dtype: object\n"
     ]
    }
   ],
   "source": [
    "for count in range(0, len(sbsIng_info[\"Ingredient\"])):\n",
    "    sbsIng_info[\"Ingredient\"][count] = sbsIng_info[\"Ingredient\"][count].replace(\" \", \"_\")\n",
    "print(sbsIng_info[\"Ingredient\"])"
   ]
  },
  {
   "cell_type": "code",
   "execution_count": 38,
   "metadata": {},
   "outputs": [
    {
     "name": "stdout",
     "output_type": "stream",
     "text": [
      "0               magnolia_tripetala\n",
      "1        calyptranthes_parriculata\n",
      "2       chamaecyparis_pisifera_oil\n",
      "3                         mackerel\n",
      "4           mimusops_elengi_flower\n",
      "                   ...            \n",
      "1525                   tobacco_oil\n",
      "1526                 cinnamon_leaf\n",
      "1527                     green_tea\n",
      "1528        artemisia_porrecta_oil\n",
      "1529                munster_cheese\n",
      "Name: ingredient name, Length: 1530, dtype: object\n"
     ]
    }
   ],
   "source": [
    "print(ing_info['ingredient name'])"
   ]
  },
  {
   "cell_type": "code",
   "execution_count": 39,
   "metadata": {},
   "outputs": [],
   "source": [
    "category = ['NULL'] * len(sbsIng_info[\"Ingredient\"])"
   ]
  },
  {
   "cell_type": "code",
   "execution_count": 40,
   "metadata": {},
   "outputs": [],
   "source": [
    "for ing in range(0, len(sbsIng_info[\"Ingredient\"])):\n",
    "    for ing2 in range(0, len(ing_info[\"ingredient name\"])):\n",
    "        if(sbsIng_info[\"Ingredient\"][ing] == ing_info[\"ingredient name\"][ing2]):\n",
    "            category[ing] = ing_info[\"category\"][ing2]\n",
    "            continue"
   ]
  },
  {
   "cell_type": "code",
   "execution_count": 41,
   "metadata": {},
   "outputs": [],
   "source": [
    "df = pd.DataFrame({\"Category\":category})\n",
    "sbsIng_info = sbsIng_info.assign(Category = category)\n",
    "\n",
    "sbsIng_info.to_csv(\"CSV/sbsRecipes3.cat.csv\")"
   ]
  }
 ],
 "metadata": {
  "interpreter": {
   "hash": "40705e9542a8b496168c7de40fc20a1bf74806b2ae9ef80841c701ebaf97a414"
  },
  "kernelspec": {
   "display_name": "Python 3.9.10 64-bit (windows store)",
   "language": "python",
   "name": "python3"
  },
  "language_info": {
   "codemirror_mode": {
    "name": "ipython",
    "version": 3
   },
   "file_extension": ".py",
   "mimetype": "text/x-python",
   "name": "python",
   "nbconvert_exporter": "python",
   "pygments_lexer": "ipython3",
   "version": "3.9.10"
  },
  "orig_nbformat": 4
 },
 "nbformat": 4,
 "nbformat_minor": 2
}
