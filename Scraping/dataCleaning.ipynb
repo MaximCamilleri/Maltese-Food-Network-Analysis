{
 "cells": [
  {
   "cell_type": "code",
   "execution_count": 1,
   "metadata": {},
   "outputs": [],
   "source": [
    "import pandas as pd"
   ]
  },
  {
   "cell_type": "code",
   "execution_count": 14,
   "metadata": {},
   "outputs": [],
   "source": [
    "oldCSV = pd.read_csv('../CSV/recipeList.csv')"
   ]
  },
  {
   "cell_type": "code",
   "execution_count": 20,
   "metadata": {},
   "outputs": [],
   "source": [
    "newCSV = pd.DataFrame()"
   ]
  },
  {
   "cell_type": "code",
   "execution_count": null,
   "metadata": {},
   "outputs": [],
   "source": [
    "curRec = 'Maltese kapunata'\n",
    "dishList = []\n",
    "ingList = []\n",
    "catList = []\n",
    "idxList = []\n",
    "\n",
    "for row in oldCSV.iterrows():\n",
    "    if curRec != row[1][0]:\n",
    "        curRec = row[1][0]\n",
    "        tempCSV = pd.DataFrame(list(zip(dishList, ingList, catList, idxList)), columns = ['Recipe', 'Ingredient', 'Ingredint Category', 'Ingredint Index'])\n",
    "        newCSV = newCSV.append(tempCSV)\n",
    "\n",
    "        del tempCSV\n",
    "        dishList = []\n",
    "        ingList = []\n",
    "        catList = []\n",
    "        idxList = []\n",
    "\n",
    "    elif row[1][1] not in ingList:\n",
    "        dishList.append(row[1][0])\n",
    "        ingList.append(row[1][1])\n",
    "        catList.append(row[1][2])\n",
    "        idxList.append(row[1][3])\n",
    "    \n",
    "    else:\n",
    "        continue\n",
    "\n",
    "del curRec\n",
    "del dishList\n",
    "del ingList\n",
    "del catList\n",
    "del idxList"
   ]
  },
  {
   "cell_type": "code",
   "execution_count": 12,
   "metadata": {},
   "outputs": [
    {
     "data": {
      "text/html": [
       "<div>\n",
       "<style scoped>\n",
       "    .dataframe tbody tr th:only-of-type {\n",
       "        vertical-align: middle;\n",
       "    }\n",
       "\n",
       "    .dataframe tbody tr th {\n",
       "        vertical-align: top;\n",
       "    }\n",
       "\n",
       "    .dataframe thead th {\n",
       "        text-align: right;\n",
       "    }\n",
       "</style>\n",
       "<table border=\"1\" class=\"dataframe\">\n",
       "  <thead>\n",
       "    <tr style=\"text-align: right;\">\n",
       "      <th></th>\n",
       "      <th>Recipe</th>\n",
       "      <th>Ingredient</th>\n",
       "      <th>Ingredint Category</th>\n",
       "      <th>Ingredint Index</th>\n",
       "    </tr>\n",
       "  </thead>\n",
       "  <tbody>\n",
       "    <tr>\n",
       "      <th>0</th>\n",
       "      <td>Maltese kapunata</td>\n",
       "      <td>eggplant</td>\n",
       "      <td>NaN</td>\n",
       "      <td>NaN</td>\n",
       "    </tr>\n",
       "    <tr>\n",
       "      <th>1</th>\n",
       "      <td>Maltese kapunata</td>\n",
       "      <td>salt</td>\n",
       "      <td>NaN</td>\n",
       "      <td>NaN</td>\n",
       "    </tr>\n",
       "    <tr>\n",
       "      <th>2</th>\n",
       "      <td>Maltese kapunata</td>\n",
       "      <td>olive_oil</td>\n",
       "      <td>plant derivative</td>\n",
       "      <td>998.0</td>\n",
       "    </tr>\n",
       "    <tr>\n",
       "      <th>3</th>\n",
       "      <td>Maltese kapunata</td>\n",
       "      <td>onion</td>\n",
       "      <td>vegetable</td>\n",
       "      <td>1447.0</td>\n",
       "    </tr>\n",
       "    <tr>\n",
       "      <th>4</th>\n",
       "      <td>Maltese kapunata</td>\n",
       "      <td>garlic</td>\n",
       "      <td>vegetable</td>\n",
       "      <td>136.0</td>\n",
       "    </tr>\n",
       "    <tr>\n",
       "      <th>...</th>\n",
       "      <td>...</td>\n",
       "      <td>...</td>\n",
       "      <td>...</td>\n",
       "      <td>...</td>\n",
       "    </tr>\n",
       "    <tr>\n",
       "      <th>6</th>\n",
       "      <td>Pork Cooked in Milk</td>\n",
       "      <td>thyme</td>\n",
       "      <td>herb</td>\n",
       "      <td>675.0</td>\n",
       "    </tr>\n",
       "    <tr>\n",
       "      <th>7</th>\n",
       "      <td>Pork Cooked in Milk</td>\n",
       "      <td>garlic</td>\n",
       "      <td>vegetable</td>\n",
       "      <td>136.0</td>\n",
       "    </tr>\n",
       "    <tr>\n",
       "      <th>8</th>\n",
       "      <td>Pork Cooked in Milk</td>\n",
       "      <td>rosemary</td>\n",
       "      <td>herb</td>\n",
       "      <td>112.0</td>\n",
       "    </tr>\n",
       "    <tr>\n",
       "      <th>9</th>\n",
       "      <td>Pork Cooked in Milk</td>\n",
       "      <td>lemon</td>\n",
       "      <td>fruit</td>\n",
       "      <td>1132.0</td>\n",
       "    </tr>\n",
       "    <tr>\n",
       "      <th>10</th>\n",
       "      <td>Pork Cooked in Milk</td>\n",
       "      <td>pepper</td>\n",
       "      <td>spice</td>\n",
       "      <td>1471.0</td>\n",
       "    </tr>\n",
       "  </tbody>\n",
       "</table>\n",
       "<p>2215 rows × 4 columns</p>\n",
       "</div>"
      ],
      "text/plain": [
       "                 Recipe Ingredient Ingredint Category  Ingredint Index\n",
       "0      Maltese kapunata   eggplant                NaN              NaN\n",
       "1      Maltese kapunata       salt                NaN              NaN\n",
       "2      Maltese kapunata  olive_oil   plant derivative            998.0\n",
       "3      Maltese kapunata      onion          vegetable           1447.0\n",
       "4      Maltese kapunata     garlic          vegetable            136.0\n",
       "..                  ...        ...                ...              ...\n",
       "6   Pork Cooked in Milk      thyme               herb            675.0\n",
       "7   Pork Cooked in Milk     garlic          vegetable            136.0\n",
       "8   Pork Cooked in Milk   rosemary               herb            112.0\n",
       "9   Pork Cooked in Milk      lemon              fruit           1132.0\n",
       "10  Pork Cooked in Milk     pepper              spice           1471.0\n",
       "\n",
       "[2215 rows x 4 columns]"
      ]
     },
     "execution_count": 12,
     "metadata": {},
     "output_type": "execute_result"
    }
   ],
   "source": [
    "newCSV"
   ]
  },
  {
   "cell_type": "code",
   "execution_count": null,
   "metadata": {},
   "outputs": [],
   "source": [
    "newCSV.to_csv('../CSV/recipeList.csv', index=False)"
   ]
  }
 ],
 "metadata": {
  "interpreter": {
   "hash": "1f8d80d535cfd832283e4e3a1095d2ce45fe6627336684f2622a1965babb2f1c"
  },
  "kernelspec": {
   "display_name": "Python 3.9.10 64-bit (windows store)",
   "language": "python",
   "name": "python3"
  },
  "language_info": {
   "codemirror_mode": {
    "name": "ipython",
    "version": 3
   },
   "file_extension": ".py",
   "mimetype": "text/x-python",
   "name": "python",
   "nbconvert_exporter": "python",
   "pygments_lexer": "ipython3",
   "version": "3.9.10"
  },
  "orig_nbformat": 4
 },
 "nbformat": 4,
 "nbformat_minor": 2
}
