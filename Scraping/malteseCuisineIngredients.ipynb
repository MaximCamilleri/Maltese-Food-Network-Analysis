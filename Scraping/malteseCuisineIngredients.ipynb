{
 "cells": [
  {
   "cell_type": "code",
   "execution_count": 9,
   "metadata": {},
   "outputs": [],
   "source": [
    "from bs4 import BeautifulSoup as bs\n",
    "import requests\n",
    "import pyfood\n",
    "from pyfood.utils import Shelf"
   ]
  },
  {
   "cell_type": "code",
   "execution_count": 4,
   "metadata": {},
   "outputs": [],
   "source": [
    "exURL = 'https://maltesecuisine.com/2022/02/05/veal-chop-kustilja-tal-vitella/'"
   ]
  },
  {
   "cell_type": "code",
   "execution_count": 24,
   "metadata": {},
   "outputs": [],
   "source": [
    "def getListOfIngredients(URL):\n",
    "    ingredients = []\n",
    "    req = requests.get(URL)\n",
    "    soup = bs(req.text, \"html.parser\")\n",
    "    temp = soup.findAll(\"div\", class_=\"recipe-ingredients\")\n",
    "    for ul in temp:\n",
    "        t = ul.findAll(\"li\")\n",
    "        for ing in t:\n",
    "            strippedIng = str(ing.get_text(strip=False))\n",
    "            ingredients.append(strippedIng)\n",
    "    return ingredients"
   ]
  },
  {
   "cell_type": "code",
   "execution_count": 25,
   "metadata": {},
   "outputs": [],
   "source": [
    "ingList = getListOfIngredients(exURL)"
   ]
  },
  {
   "cell_type": "code",
   "execution_count": 26,
   "metadata": {
    "scrolled": false
   },
   "outputs": [
    {
     "name": "stdout",
     "output_type": "stream",
     "text": [
      "['2 veal chops ', '2 beaten eggs', 'Half a cup of flour', '1 cup of bread crumbs', '1 cup of oil for frying', '1 pinch of Italian seasoning', '2 tbs of golden drop 1olive oil', '2 garlic cloves minced', '3 basil leaves crushed', 'chilli flakes', '1 tsp oregano', '1 cup of tomato sauce', 'salt & pepper', 'Fresh Basil', 'Fior di Vita mozzarella']\n"
     ]
    }
   ],
   "source": [
    "print(ingList)"
   ]
  },
  {
   "cell_type": "code",
   "execution_count": null,
   "metadata": {},
   "outputs": [],
   "source": []
  }
 ],
 "metadata": {
  "kernelspec": {
   "display_name": "Python 3",
   "language": "python",
   "name": "python3"
  },
  "language_info": {
   "codemirror_mode": {
    "name": "ipython",
    "version": 3
   },
   "file_extension": ".py",
   "mimetype": "text/x-python",
   "name": "python",
   "nbconvert_exporter": "python",
   "pygments_lexer": "ipython3",
   "version": "3.8.5"
  }
 },
 "nbformat": 4,
 "nbformat_minor": 4
}
