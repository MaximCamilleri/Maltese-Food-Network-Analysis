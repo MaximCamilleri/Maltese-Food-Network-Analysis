{
 "cells": [
  {
   "cell_type": "markdown",
   "metadata": {},
   "source": [
    "# Maltese Cuisine Food Recipes \n",
    "---"
   ]
  },
  {
   "cell_type": "code",
   "execution_count": 1,
   "metadata": {},
   "outputs": [],
   "source": [
    "# Libraries needed to get the html from a site and to parse the html\n",
    "from bs4 import BeautifulSoup as bs\n",
    "import requests\n",
    "from parse_ingredients import parse_ingredient\n",
    "import pandas\n",
    "import pyfood as pyf"
   ]
  },
  {
   "cell_type": "markdown",
   "metadata": {},
   "source": [
    "## Base URL\n",
    "This is the main URL or home page of the Maltese Cuisine site. It is being accessed, parsed and stored in the soup variable."
   ]
  },
  {
   "cell_type": "code",
   "execution_count": 2,
   "metadata": {},
   "outputs": [],
   "source": [
    "# Saving the url to a variable, getting the url and parsing the html\n",
    "mainURL = \"https://maltesecuisine.com/\"\n",
    "req = requests.get(mainURL)\n",
    "soup = bs(req.text, \"html.parser\")"
   ]
  },
  {
   "cell_type": "markdown",
   "metadata": {},
   "source": [
    "## getPages\n",
    "This function will go through the main URL and the next pages. These pages all contain hrefs to the recipes on this site. It will save the links of these hrefs to the the hrefs list variable that is being returned"
   ]
  },
  {
   "cell_type": "code",
   "execution_count": 3,
   "metadata": {},
   "outputs": [],
   "source": [
    "def getPages():\n",
    "    hrefs = []\n",
    "    for i in range(1, 12):\n",
    "        if i == 1:\n",
    "            req = requests.get(\"https://maltesecuisine.com\")\n",
    "            soup = bs(req.text, \"html.parser\")\n",
    "            temp = soup.findAll(\"div\", class_=\"post-img\")\n",
    "            for j in temp:\n",
    "                allAs = j.findAll(\"a\")\n",
    "                for a in allAs:\n",
    "                    hrefs.append(a.get('href'))\n",
    "        else:\n",
    "            siteURL = \"https://maltesecuisine.com/page/\" + str(i)\n",
    "            req = requests.get(siteURL)\n",
    "            soup = bs(req.text, \"html.parser\")\n",
    "            temp = soup.findAll(\"div\", class_=\"post-img\")\n",
    "            for j in temp:\n",
    "                allAs = j.findAll(\"a\")\n",
    "                for a in allAs:\n",
    "                    hrefs.append(a.get('href'))\n",
    "    return hrefs"
   ]
  },
  {
   "cell_type": "code",
   "execution_count": 22,
   "metadata": {},
   "outputs": [],
   "source": [
    "hrefs = getPages()"
   ]
  },
  {
   "cell_type": "markdown",
   "metadata": {},
   "source": [
    "## Save recipe links to CSV\n",
    "These chunks of code will create a CSV file, ListOfRecipes which will have two columns. The one of the left being the recipe's name and the one on the left will store the link to the recipe.\n",
    "\n",
    "To get the recipe's name, it is using the list of links/hrefs, accessing and parsing the page. Then it finds the h1 tag in the html wihch should be the dish name."
   ]
  },
  {
   "cell_type": "code",
   "execution_count": 5,
   "metadata": {},
   "outputs": [],
   "source": [
    "RecipeList = []\n",
    "\n",
    "for recipe in hrefs:\n",
    "    req = requests.get(recipe) # Accesses the next recipe\n",
    "    soup = bs(req.text, \"html.parser\")\n",
    "    title = soup.findAll('h1') # finds the name of the recipe\n",
    "\n",
    "    row = []\n",
    "\n",
    "    for j in title:\n",
    "        row.append(str(j.get_text(strip=False)))\n",
    "\n",
    "    row.append(recipe)\n",
    "\n",
    "    RecipeList.append(row)"
   ]
  },
  {
   "cell_type": "code",
   "execution_count": 6,
   "metadata": {},
   "outputs": [],
   "source": [
    "linkList = []\n",
    "dishList = []\n",
    "\n",
    "for entry in RecipeList:\n",
    "    linkList.append(entry[1])\n",
    "    dishList.append(entry[0])"
   ]
  },
  {
   "cell_type": "code",
   "execution_count": 7,
   "metadata": {},
   "outputs": [],
   "source": [
    "listOfRecipesCSV = pandas.read_csv('../CSV/recipeLinks.csv')"
   ]
  },
  {
   "cell_type": "code",
   "execution_count": 8,
   "metadata": {},
   "outputs": [],
   "source": [
    "recipeListDF = pandas.DataFrame(list(zip(dishList, linkList)), columns=['Recipe Name', 'Links'])"
   ]
  },
  {
   "cell_type": "code",
   "execution_count": 9,
   "metadata": {},
   "outputs": [
    {
     "name": "stderr",
     "output_type": "stream",
     "text": [
      "C:\\Users\\maxma\\AppData\\Local\\Temp\\ipykernel_21732\\2522523042.py:1: FutureWarning: The frame.append method is deprecated and will be removed from pandas in a future version. Use pandas.concat instead.\n",
      "  listOfRecipesCSV = listOfRecipesCSV.append(recipeListDF, ignore_index = True)\n"
     ]
    }
   ],
   "source": [
    "listOfRecipesCSV = listOfRecipesCSV.append(recipeListDF, ignore_index = True)"
   ]
  },
  {
   "cell_type": "code",
   "execution_count": 10,
   "metadata": {},
   "outputs": [],
   "source": [
    "listOfRecipesCSV.to_csv('../CSV/recipeLinks.csv')"
   ]
  },
  {
   "cell_type": "markdown",
   "metadata": {},
   "source": [
    "## Append ingredients to CSV file\n",
    "The CSV file created before is being used to get all the Maltese Cuisine dishes and their links.\n",
    "\n",
    "The getListOfIngredients function will go through a recipe's page whose URL is passed as a parameter. The list of ingredients is being returned. This function does not parse the ingredients insted it takes the entire string found on the page, meaning that if one of the recipe ingredients were '2 breaded veal chops' it will return '2 breaded veal chops'.\n",
    "\n",
    "The parseIngredientsAndPyfoodFunc function will parse the ingredient passed as a parameter. This function will parse the ingredient and return the parsed ingredient back. Meaning that the example used before, '2 breaded veal chops' will return 'veal' instead."
   ]
  },
  {
   "cell_type": "code",
   "execution_count": 30,
   "metadata": {},
   "outputs": [],
   "source": [
    "listOfRecipesCSV = pandas.read_csv('../CSV/recipeLinks.csv')"
   ]
  },
  {
   "cell_type": "code",
   "execution_count": 26,
   "metadata": {},
   "outputs": [],
   "source": [
    "def getListOfIngredients(URL):\n",
    "    ingredients = []\n",
    "    req = requests.get(URL)\n",
    "    soup = bs(req.text, \"html.parser\")\n",
    "    temp = soup.findAll(\"div\", class_=\"recipe-ingredients\")\n",
    "    for ul in temp:\n",
    "        t = ul.findAll(\"li\")\n",
    "        for ing in t:\n",
    "            strippedIng = str(ing.get_text(strip=False))\n",
    "            ingredients.append(strippedIng)\n",
    "    return ingredients"
   ]
  },
  {
   "cell_type": "code",
   "execution_count": 27,
   "metadata": {},
   "outputs": [],
   "source": [
    "def parseIngredientsAndPyfoodFunc(ing):\n",
    "    shelf = pyf.Shelf(region='Italy', month_id=0)\n",
    "    \n",
    "    parseResult = parse_ingredient(ing)\n",
    "\n",
    "    results = shelf.process_ingredients([parseResult.name])\n",
    "    try:\n",
    "        pIng = results['ingredients'][0]['foodname'].replace(\" \", \"_\")\n",
    "    except:\n",
    "        try:\n",
    "            pIng = results['HS'][0].replace(\" \", \"_\")\n",
    "        except:\n",
    "            pIng = parseResult.name.replace(\" \", \"_\")\n",
    "\n",
    "    return pIng"
   ]
  },
  {
   "cell_type": "code",
   "execution_count": 34,
   "metadata": {
    "scrolled": true
   },
   "outputs": [
    {
     "name": "stderr",
     "output_type": "stream",
     "text": [
      "C:\\Users\\maxma\\AppData\\Local\\Packages\\PythonSoftwareFoundation.Python.3.9_qbz5n2kfra8p0\\LocalCache\\local-packages\\Python39\\site-packages\\sklearn\\base.py:329: UserWarning: Trying to unpickle estimator TfidfTransformer from version 0.24.1 when using version 1.0.2. This might lead to breaking code or invalid results. Use at your own risk. For more info please refer to:\n",
      "https://scikit-learn.org/stable/modules/model_persistence.html#security-maintainability-limitations\n",
      "  warnings.warn(\n",
      "C:\\Users\\maxma\\AppData\\Local\\Packages\\PythonSoftwareFoundation.Python.3.9_qbz5n2kfra8p0\\LocalCache\\local-packages\\Python39\\site-packages\\sklearn\\base.py:329: UserWarning: Trying to unpickle estimator TfidfVectorizer from version 0.24.1 when using version 1.0.2. This might lead to breaking code or invalid results. Use at your own risk. For more info please refer to:\n",
      "https://scikit-learn.org/stable/modules/model_persistence.html#security-maintainability-limitations\n",
      "  warnings.warn(\n"
     ]
    }
   ],
   "source": [
    "mcLinkList = []\n",
    "mcDishList = []\n",
    "mcIngDishList = []\n",
    "mcParsedIngList = []\n",
    "counter = 0\n",
    "\n",
    "for row in listOfRecipesCSV.iterrows():\n",
    "    temp = []\n",
    "    if 'maltesecuisine' in row[1][2]:\n",
    "        mcLinkList.append(row[1][2])\n",
    "        mcDishList.append(row[1][1])\n",
    "        mcIngDishList.append(getListOfIngredients(row[1][2]))\n",
    "        if counter == 0:\n",
    "            for dish in mcIngDishList:\n",
    "                for ing in dish:\n",
    "                    temp.append(parseIngredientsAndPyfoodFunc(ing))\n",
    "            counter += 1\n",
    "        else:\n",
    "            for ing in mcIngDishList[-1]:\n",
    "                temp.append(parseIngredientsAndPyfoodFunc(ing))\n",
    "        mcParsedIngList.append(temp)\n",
    "    else:\n",
    "        continue\n",
    "    del temp"
   ]
  },
  {
   "cell_type": "code",
   "execution_count": 35,
   "metadata": {},
   "outputs": [
    {
     "name": "stdout",
     "output_type": "stream",
     "text": [
      "['brown_sugar', 'sugar', 'egg', 'mascarpone', 'Qing_Pi', 'cinnamon', 'buttermilk', 'salt', 'vanilla', 'flour', 'apple']\n"
     ]
    }
   ],
   "source": [
    "print(mcParsedIngList[0])"
   ]
  },
  {
   "cell_type": "markdown",
   "metadata": {},
   "source": [
    "## Finding each ingredients type and index"
   ]
  },
  {
   "cell_type": "code",
   "execution_count": 36,
   "metadata": {},
   "outputs": [],
   "source": [
    "ing_info = pandas.read_csv(\"../CSV/Compound CSVs/ingr_info.tsv\", sep=\"\\t\")\n",
    "\n",
    "ingNameList = list(ing_info['ingredient name'])\n",
    "ingIdxList = list(ing_info['# id'])\n",
    "ingCatList = list(ing_info['category'])"
   ]
  },
  {
   "cell_type": "code",
   "execution_count": 37,
   "metadata": {},
   "outputs": [],
   "source": [
    "mcIngCatList = []\n",
    "mcIngIdxList = []\n",
    "\n",
    "for dishIdx in range(0, len(mcParsedIngList)):\n",
    "    for ingIdx in range(0, len(mcParsedIngList[dishIdx])):\n",
    "        try:\n",
    "            foundIdx = ingNameList.index(mcParsedIngList[dishIdx][ingIdx])\n",
    "            mcIngCatList.append(ingCatList[foundIdx])\n",
    "            mcIngIdxList.append(ingIdxList[foundIdx])\n",
    "        except:\n",
    "            mcIngCatList.append(None)\n",
    "            mcIngIdxList.append(None)"
   ]
  },
  {
   "cell_type": "markdown",
   "metadata": {},
   "source": [
    "# Preparing List for Dataframe\n",
    "Two of the prievous lists need to be arranged before being placed in the dataframe. The dish list variable needs to have repeated dish names and the ingredients per dish list needs to be flattened. "
   ]
  },
  {
   "cell_type": "code",
   "execution_count": 38,
   "metadata": {},
   "outputs": [],
   "source": [
    "repMCdishList = []\n",
    "\n",
    "for i in range(0, len(mcIngDishList)):\n",
    "    for j in mcIngDishList[i]:\n",
    "        repMCdishList.append(mcDishList[i])"
   ]
  },
  {
   "cell_type": "code",
   "execution_count": 39,
   "metadata": {},
   "outputs": [],
   "source": [
    "flatMCingDishList = [ing for dish in mcParsedIngList for ing in dish]"
   ]
  },
  {
   "cell_type": "code",
   "execution_count": 40,
   "metadata": {},
   "outputs": [
    {
     "name": "stdout",
     "output_type": "stream",
     "text": [
      "2337\n",
      "2337\n",
      "2337\n",
      "2337\n"
     ]
    }
   ],
   "source": [
    "print(len(repMCdishList))\n",
    "print(len(flatMCingDishList))\n",
    "print(len(mcIngCatList))\n",
    "print(len(mcIngIdxList))"
   ]
  },
  {
   "cell_type": "markdown",
   "metadata": {},
   "source": [
    "# Creating and Appending Maltese Cuisine Dataframe"
   ]
  },
  {
   "cell_type": "code",
   "execution_count": 41,
   "metadata": {},
   "outputs": [],
   "source": [
    "mcIngDF =  pandas.DataFrame(list(zip(repMCdishList,flatMCingDishList, mcIngCatList, mcIngIdxList)), columns=['Recipe', 'Ingredient', 'Ingredint Category', 'Ingredint Index'])"
   ]
  },
  {
   "cell_type": "code",
   "execution_count": 42,
   "metadata": {},
   "outputs": [],
   "source": [
    "recList = pandas.read_csv(\"../CSV/recipeList.csv\")"
   ]
  },
  {
   "cell_type": "code",
   "execution_count": 43,
   "metadata": {},
   "outputs": [
    {
     "name": "stderr",
     "output_type": "stream",
     "text": [
      "C:\\Users\\maxma\\AppData\\Local\\Temp\\ipykernel_21732\\3030135066.py:1: FutureWarning: The frame.append method is deprecated and will be removed from pandas in a future version. Use pandas.concat instead.\n",
      "  recList = recList.append(mcIngDF)\n"
     ]
    }
   ],
   "source": [
    "recList = recList.append(mcIngDF)"
   ]
  },
  {
   "cell_type": "code",
   "execution_count": 16,
   "metadata": {},
   "outputs": [],
   "source": [
    "recList.to_csv(\"../CSV/recipeList.csv\", index = False)"
   ]
  }
 ],
 "metadata": {
  "kernelspec": {
   "display_name": "Python 3",
   "language": "python",
   "name": "python3"
  },
  "language_info": {
   "codemirror_mode": {
    "name": "ipython",
    "version": 3
   },
   "file_extension": ".py",
   "mimetype": "text/x-python",
   "name": "python",
   "nbconvert_exporter": "python",
   "pygments_lexer": "ipython3",
   "version": "3.9.10"
  }
 },
 "nbformat": 4,
 "nbformat_minor": 4
}
