{
 "cells": [
  {
   "cell_type": "code",
   "execution_count": 2,
   "metadata": {},
   "outputs": [],
   "source": [
    "# Libraries needed to get the html from a site and to parse the html\n",
    "from bs4 import BeautifulSoup as bs\n",
    "import requests\n",
    "from parse_ingredients import parse_ingredient\n",
    "import pandas\n",
    "import pyfood as pyf"
   ]
  },
  {
   "cell_type": "markdown",
   "metadata": {},
   "source": [
    "# Base URL\n",
    "This is the main URL or home page of the Maltese Cuisine site. It is being accessed, parsed and stored in the soup variable."
   ]
  },
  {
   "cell_type": "code",
   "execution_count": 24,
   "metadata": {},
   "outputs": [],
   "source": [
    "# Saving the url to a variable, getting the url and parsing the html\n",
    "mainURL = \"https://maltesecuisine.com/\"\n",
    "req = requests.get(mainURL)\n",
    "soup = bs(req.text, \"html.parser\")"
   ]
  },
  {
   "cell_type": "markdown",
   "metadata": {},
   "source": [
    "# getPages\n",
    "This function will go through the main URL and the next pages. These pages all contain hrefs to the recipes on this site. It will save the links of these hrefs to the the hrefs list variable that is being returned"
   ]
  },
  {
   "cell_type": "code",
   "execution_count": 25,
   "metadata": {},
   "outputs": [],
   "source": [
    "def getPages():\n",
    "    hrefs = []\n",
    "    for i in range(1, 12):\n",
    "        if i == 1:\n",
    "            req = requests.get(\"https://maltesecuisine.com\")\n",
    "            soup = bs(req.text, \"html.parser\")\n",
    "            temp = soup.findAll(\"div\", class_=\"post-img\")\n",
    "            for j in temp:\n",
    "                allAs = j.findAll(\"a\")\n",
    "                for a in allAs:\n",
    "                    hrefs.append(a.get('href'))\n",
    "        else:\n",
    "            siteURL = \"https://maltesecuisine.com/page/\" + str(i)\n",
    "            req = requests.get(siteURL)\n",
    "            soup = bs(req.text, \"html.parser\")\n",
    "            temp = soup.findAll(\"div\", class_=\"post-img\")\n",
    "            for j in temp:\n",
    "                allAs = j.findAll(\"a\")\n",
    "                for a in allAs:\n",
    "                    hrefs.append(a.get('href'))\n",
    "    return hrefs"
   ]
  },
  {
   "cell_type": "code",
   "execution_count": 4,
   "metadata": {},
   "outputs": [],
   "source": [
    "hrefs = getPages()"
   ]
  },
  {
   "cell_type": "markdown",
   "metadata": {},
   "source": [
    "# Save recipe links to CSV\n",
    "These chunks of code will create a CSV file, ListOfRecipes which will have two columns. The one of the left being the recipe's name and the one on the left will store the link to the recipe.\n",
    "\n",
    "To get the recipe's name, it is using the list of links/hrefs, accessing and parsing the page. Then it finds the h1 tag in the html wihch should be the dish name."
   ]
  },
  {
   "cell_type": "code",
   "execution_count": 10,
   "metadata": {},
   "outputs": [],
   "source": [
    "RecipeList = []\n",
    "\n",
    "for recipe in hrefs:\n",
    "    req = requests.get(recipe) # Accesses the next recipe\n",
    "    soup = bs(req.text, \"html.parser\")\n",
    "    title = soup.findAll('h1') # finds the name of the recipe\n",
    "\n",
    "    row = []\n",
    "\n",
    "    for j in title:\n",
    "        row.append(str(j.get_text(strip=False)))\n",
    "\n",
    "    row.append(recipe)\n",
    "\n",
    "    RecipeList.append(row)"
   ]
  },
  {
   "cell_type": "code",
   "execution_count": 17,
   "metadata": {},
   "outputs": [],
   "source": [
    "linkList = []\n",
    "dishList = []\n",
    "\n",
    "for entry in RecipeList:\n",
    "    linkList.append(entry[1])\n",
    "    dishList.append(entry[0])"
   ]
  },
  {
   "cell_type": "code",
   "execution_count": 19,
   "metadata": {},
   "outputs": [],
   "source": [
    "listOfRecipesCSV = pandas.read_csv('../CSV/listOfRecipes.csv')"
   ]
  },
  {
   "cell_type": "code",
   "execution_count": 18,
   "metadata": {},
   "outputs": [],
   "source": [
    "recipeListDF = pandas.DataFrame(list(zip(linkList, dishList)), columns=['Links', 'Recipe Name'])"
   ]
  },
  {
   "cell_type": "code",
   "execution_count": 20,
   "metadata": {},
   "outputs": [],
   "source": [
    "listOfRecipesCSV = listOfRecipesCSV.append(recipeListDF, ignore_index = True)"
   ]
  },
  {
   "cell_type": "code",
   "execution_count": 22,
   "metadata": {},
   "outputs": [],
   "source": [
    "listOfRecipesCSV.to_csv('../CSV/ListOfRecipes.csv')"
   ]
  },
  {
   "cell_type": "markdown",
   "metadata": {},
   "source": [
    "# Append ingredients to CSV file\n",
    "The CSV file created before is being used to get all the Maltese Cuisine dishes and their links.\n",
    "\n",
    "The getListOfIngredients function will go through a recipe's page whose URL is passed as a parameter. The list of ingredients is being returned. This function does not parse the ingredients insted it takes the entire string found on the page, meaning that if one of the recipe ingredients were '2 breaded veal chops' it will return '2 breaded veal chops'.\n",
    "\n",
    "The parseIngredientsAndPyfoodFunc function will parse the ingredient passed as a parameter. This function will parse the ingredient and return the parsed ingredient back. Meaning that the example used before, '2 breaded veal chops' will return 'veal' instead."
   ]
  },
  {
   "cell_type": "code",
   "execution_count": 3,
   "metadata": {},
   "outputs": [],
   "source": [
    "listOfRecipesCSV = pandas.read_csv('../CSV/listOfRecipes.csv')"
   ]
  },
  {
   "cell_type": "code",
   "execution_count": 4,
   "metadata": {},
   "outputs": [],
   "source": [
    "def getListOfIngredients(URL):\n",
    "    ingredients = []\n",
    "    req = requests.get(URL)\n",
    "    soup = bs(req.text, \"html.parser\")\n",
    "    temp = soup.findAll(\"div\", class_=\"recipe-ingredients\")\n",
    "    for ul in temp:\n",
    "        t = ul.findAll(\"li\")\n",
    "        for ing in t:\n",
    "            strippedIng = str(ing.get_text(strip=False))\n",
    "            ingredients.append(strippedIng)\n",
    "    return ingredients"
   ]
  },
  {
   "cell_type": "code",
   "execution_count": 34,
   "metadata": {},
   "outputs": [],
   "source": [
    "def parseIngredientsAndPyfoodFunc(ing):\n",
    "    shelf = pyf.Shelf(region='Italy', month_id=0)\n",
    "    \n",
    "    parseResult = parse_ingredient(ing)\n",
    "\n",
    "    results = shelf.process_ingredients([parseResult.name])\n",
    "    try:\n",
    "        pIng = results['ingredients'][0]['foodname'] # vegetarian, vegan, nutrition, seasonality\n",
    "    except:\n",
    "        try:\n",
    "            pIng = results['HS'][0]\n",
    "        except:\n",
    "            pIng = parseResult.name\n",
    "\n",
    "    return pIng"
   ]
  },
  {
   "cell_type": "code",
   "execution_count": 46,
   "metadata": {
    "scrolled": true
   },
   "outputs": [],
   "source": [
    "mcLinkList = []\n",
    "mcDishList = []\n",
    "mcIngDishList = []\n",
    "mcParsedIngList = []\n",
    "counter = 0\n",
    "\n",
    "for row in listOfRecipesCSV.iterrows():\n",
    "    temp = []\n",
    "    if 'maltesecuisine' in row[1][1]:\n",
    "        mcLinkList.append(row[1][1])\n",
    "        mcDishList.append(row[1][2])\n",
    "        mcIngDishList.append(getListOfIngredients(row[1][1]))\n",
    "        if counter == 0:\n",
    "            for dish in mcIngDishList:\n",
    "                for ing in dish:\n",
    "                    temp.append(parseIngredientsAndPyfoodFunc(ing))\n",
    "            counter += 1\n",
    "        else:\n",
    "            for ing in mcIngDishList[-1]:\n",
    "                temp.append(parseIngredientsAndPyfoodFunc(ing))\n",
    "        mcParsedIngList.append(temp)\n",
    "    else:\n",
    "        continue\n",
    "    del temp"
   ]
  },
  {
   "cell_type": "code",
   "execution_count": null,
   "metadata": {},
   "outputs": [],
   "source": []
  }
 ],
 "metadata": {
  "kernelspec": {
   "display_name": "Python 3",
   "language": "python",
   "name": "python3"
  },
  "language_info": {
   "codemirror_mode": {
    "name": "ipython",
    "version": 3
   },
   "file_extension": ".py",
   "mimetype": "text/x-python",
   "name": "python",
   "nbconvert_exporter": "python",
   "pygments_lexer": "ipython3",
   "version": "3.8.5"
  }
 },
 "nbformat": 4,
 "nbformat_minor": 4
}
