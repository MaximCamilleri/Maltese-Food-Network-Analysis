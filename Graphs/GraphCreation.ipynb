{
 "cells": [
  {
   "cell_type": "code",
   "execution_count": 2,
   "metadata": {},
   "outputs": [],
   "source": [
    "from neo4j import GraphDatabase, basic_auth\n",
    "import nxneo4j as nx #using nxneo4j\n",
    "from py2neo import Graph, Node \n",
    "import pandas"
   ]
  },
  {
   "cell_type": "code",
   "execution_count": 3,
   "metadata": {},
   "outputs": [],
   "source": [
    "cGraph = Graph(\"neo4j+s://101fd6b7.databases.neo4j.io\", auth=('neo4j', \"gB9F-fD2doYqInIcXR3DJZwnvvDWm-ZpgvOJ3BGCl54\"))"
   ]
  },
  {
   "cell_type": "code",
   "execution_count": 4,
   "metadata": {},
   "outputs": [],
   "source": [
    "recipeList = pandas.read_csv('../CSV/recipeList.csv')\n",
    "listOfRecipes = pandas.read_csv('../CSV/listOfRecipes.csv')"
   ]
  },
  {
   "cell_type": "code",
   "execution_count": 26,
   "metadata": {},
   "outputs": [],
   "source": [
    "uniqueIng = []\n",
    "\n",
    "for index, row in recipeList.iterrows():\n",
    "    temp = [row[1].replace(\"_\", \" \"), row[2]]\n",
    "    if temp not in uniqueIng:\n",
    "        uniqueIng.append(temp)\n",
    "        "
   ]
  },
  {
   "cell_type": "code",
   "execution_count": 27,
   "metadata": {},
   "outputs": [],
   "source": [
    "uniqueRecipe = []\n",
    "\n",
    "for index, row in listOfRecipes.iterrows():\n",
    "    temp = [row[2], row[1]]\n",
    "    if temp not in uniqueRecipe:\n",
    "        uniqueRecipe.append(temp)"
   ]
  },
  {
   "cell_type": "code",
   "execution_count": 49,
   "metadata": {},
   "outputs": [],
   "source": [
    "for currIng, ingType in uniqueIng:\n",
    "    currIng = currIng.replace(\"'\", \"-\")\n",
    "    addNode = \"CREATE (n:Ingredient {name : '\" + currIng + \"', type: '\" + str(ingType) + \"'})\"\n",
    "        \n",
    "    cGraph.query(addNode)"
   ]
  },
  {
   "cell_type": "code",
   "execution_count": 50,
   "metadata": {},
   "outputs": [],
   "source": [
    "for recipe in uniqueRecipe:\n",
    "    addNode = \"CREATE (n:Recipe {name : '\" + recipe[0].replace(\"'\", \"-\") + \"', link : '\" + recipe[1] + \"'})\"\n",
    "    cGraph.query(addNode)"
   ]
  },
  {
   "cell_type": "code",
   "execution_count": 31,
   "metadata": {},
   "outputs": [],
   "source": [
    "ingPairWeights = pandas.read_csv('../CSV/ingPairWeights.csv')"
   ]
  },
  {
   "cell_type": "code",
   "execution_count": 32,
   "metadata": {},
   "outputs": [],
   "source": [
    "counter = 0\n",
    "tempArray = []\n",
    "splitIngPairWeights = []\n",
    "for index, row in ingPairWeights.iterrows():\n",
    "    if counter == 3000:\n",
    "        splitIngPairWeights.append(tempArray)\n",
    "        tempArray = []\n",
    "        counter = 0\n",
    "\n",
    "    tempArray.append(row)\n",
    "    counter += 1\n",
    "\n",
    "splitIngPairWeights.append(tempArray)"
   ]
  },
  {
   "cell_type": "code",
   "execution_count": 52,
   "metadata": {},
   "outputs": [
    {
     "name": "stdout",
     "output_type": "stream",
     "text": [
      "First Ingredient                              eggplant\n",
      "Second Ingredient                    green_bell_pepper\n",
      "Normalized Common Recipe Weight                    0.0\n",
      "Normalized Common Compound weight                 -1.0\n",
      "Name: 4, dtype: object\n"
     ]
    }
   ],
   "source": [
    "print(splitIngPairWeights[0][4])\n"
   ]
  },
  {
   "cell_type": "code",
   "execution_count": null,
   "metadata": {},
   "outputs": [],
   "source": [
    "iterCounter = 0 # change to the next index before you run (currently at 0) (up to 13)\n",
    "\n",
    "for counter in range(0, len(splitIngPairWeights[iterCounter])): \n",
    "    splitIngPairWeights[iterCounter][counter][0] = splitIngPairWeights[iterCounter][counter][0].replace(\"'\", \"-\")\n",
    "    splitIngPairWeights[iterCounter][counter][1] = splitIngPairWeights[iterCounter][counter][1].replace(\"'\", \"-\")\n",
    "\n",
    "    exists = cGraph.query(\"MATCH ({name : '\" + splitIngPairWeights[iterCounter][counter][0] + \"'})-[r]-({name : '\" + splitIngPairWeights[iterCounter][counter][1] + \"'}) RETURN r\")\n",
    "    exists = exists.data()\n",
    "\n",
    "    if len(exists) == 0 and (splitIngPairWeights[iterCounter][counter][2] != 0 or splitIngPairWeights[iterCounter][counter][3] != 0):\n",
    "        addEdge = \"MATCH (a:Ingredient), (b:Ingredient) WHERE a.name = '\" + splitIngPairWeights[iterCounter][counter][0] + \"' AND b.name = '\" + splitIngPairWeights[iterCounter][counter][1] + \"' CREATE (a)-[r:IngPair {comRecWeight:\" + str(splitIngPairWeights[iterCounter][counter][2]) + \", comCompWeight:\" + str(splitIngPairWeights[iterCounter][counter][3]) + \"}]->(b) RETURN type(r)\"\n",
    "        cGraph.query(addEdge)"
   ]
  },
  {
   "cell_type": "code",
   "execution_count": null,
   "metadata": {},
   "outputs": [],
   "source": [
    "# for index, row in ingPairWeights.iterrows():\n",
    "#     row[0] = row[0].replace(\"'\", \"-\")\n",
    "#     row[1] = row[1].replace(\"'\", \"-\")\n",
    "\n",
    "#     exists = cGraph.query(\"MATCH ({name : '\" + row[0] + \"'})-[r]-({name : '\" + row[1] + \"'}) RETURN r\")\n",
    "#     exists = exists.data()\n",
    "\n",
    "#     if len(exists) == 0 and (row[2] != 0 or row[3] != 0):\n",
    "#         addEdge = \"MATCH (a:Ingredient), (b:Ingredient) WHERE a.name = '\" + row[0] + \"' AND b.name = '\" + row[1] + \"' CREATE (a)-[r:IngPair {comRecWeight:\" + str(row[2]) + \", comCompWeight:\" + str(row[3]) + \"}]->(b) RETURN type(r)\"\n",
    "#         cGraph.query(addEdge)"
   ]
  },
  {
   "cell_type": "code",
   "execution_count": null,
   "metadata": {},
   "outputs": [],
   "source": [
    "for index, row in recipeList.iterrows():\n",
    "    row[0] = row[0].replace(\"'\", \"-\")\n",
    "    row[1] = row[1].replace(\"'\", \"-\")\n",
    "\n",
    "    exists = cGraph.query(\"MATCH ({name : '\" + row[0] + \"'})-[r]-({name : '\" + row[1] + \"'}) RETURN r\")\n",
    "    exists = exists.data()\n",
    "\n",
    "    if len(exists) == 0:\n",
    "        addEdge = \"MATCH (a:Recipe), (b:Ingredient) WHERE a.name = '\" + row[0] + \"' AND b.name = '\" + row[1] + \"' CREATE (a)-[r:RecIng]->(b) RETURN type(r)\"\n",
    "        cGraph.query(addEdge)"
   ]
  }
 ],
 "metadata": {
  "interpreter": {
   "hash": "40705e9542a8b496168c7de40fc20a1bf74806b2ae9ef80841c701ebaf97a414"
  },
  "kernelspec": {
   "display_name": "Python 3.9.10 64-bit (windows store)",
   "language": "python",
   "name": "python3"
  },
  "language_info": {
   "codemirror_mode": {
    "name": "ipython",
    "version": 3
   },
   "file_extension": ".py",
   "mimetype": "text/x-python",
   "name": "python",
   "nbconvert_exporter": "python",
   "pygments_lexer": "ipython3",
   "version": "3.9.10"
  },
  "orig_nbformat": 4
 },
 "nbformat": 4,
 "nbformat_minor": 2
}
