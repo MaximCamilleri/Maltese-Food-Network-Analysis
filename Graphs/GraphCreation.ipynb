{
 "cells": [
  {
   "cell_type": "code",
   "execution_count": 67,
   "metadata": {},
   "outputs": [],
   "source": [
    "from neo4j import GraphDatabase, basic_auth\n",
    "import nxneo4j as nx #using nxneo4j\n",
    "from py2neo import Graph, Node \n",
    "import pandas"
   ]
  },
  {
   "cell_type": "code",
   "execution_count": 68,
   "metadata": {},
   "outputs": [],
   "source": [
    "cGraph = Graph(\"neo4j+s://101fd6b7.databases.neo4j.io\", auth=('neo4j', \"gB9F-fD2doYqInIcXR3DJZwnvvDWm-ZpgvOJ3BGCl54\"))"
   ]
  },
  {
   "cell_type": "code",
   "execution_count": 87,
   "metadata": {},
   "outputs": [],
   "source": [
    "recipeList = pandas.read_csv('../CSV/recipeList.csv')\n",
    "listOfRecipes = pandas.read_csv('../CSV/recipeLinks.csv')"
   ]
  },
  {
   "cell_type": "code",
   "execution_count": 88,
   "metadata": {},
   "outputs": [],
   "source": [
    "uniqueIng = []\n",
    "\n",
    "for index, row in recipeList.iterrows():\n",
    "    temp = [row[1].replace(\"_\", \" \"), row[2]]\n",
    "    if temp not in uniqueIng:\n",
    "        uniqueIng.append(temp)\n",
    "        "
   ]
  },
  {
   "cell_type": "code",
   "execution_count": 89,
   "metadata": {},
   "outputs": [],
   "source": [
    "uniqueRecipe = []\n",
    "uniqueRecipeAndLink = []\n",
    "\n",
    "for index, row in listOfRecipes.iterrows():\n",
    "    temp = [row[1], row[2]]\n",
    "    if row[1] not in uniqueRecipe:\n",
    "        uniqueRecipe.append(row[1])\n",
    "        uniqueRecipeAndLink.append(temp)"
   ]
  },
  {
   "cell_type": "code",
   "execution_count": 112,
   "metadata": {},
   "outputs": [],
   "source": [
    "for currIng, ingType in uniqueIng:\n",
    "    currIng = currIng.replace(\"'\", \"-\")\n",
    "    addNode = \"CREATE (n:Ingredient {name : '\" + currIng + \"', type: '\" + str(ingType) + \"'})\"\n",
    "        \n",
    "    cGraph.query(addNode)"
   ]
  },
  {
   "cell_type": "code",
   "execution_count": 113,
   "metadata": {},
   "outputs": [],
   "source": [
    "for recipe in uniqueRecipeAndLink:\n",
    "    addNode = \"CREATE (n:Recipe {name : '\" + recipe[0].replace(\"'\", \"-\") + \"', link : '\" + recipe[1] + \"'})\"\n",
    "    cGraph.query(addNode)"
   ]
  },
  {
   "cell_type": "code",
   "execution_count": 106,
   "metadata": {},
   "outputs": [],
   "source": [
    "ingPairWeights = pandas.read_csv('../CSV/ingPairWeights.csv')"
   ]
  },
  {
   "cell_type": "code",
   "execution_count": 107,
   "metadata": {},
   "outputs": [],
   "source": [
    "counter = 0\n",
    "tempArray = []\n",
    "splitIngPairWeights = []\n",
    "for index, row in ingPairWeights.iterrows():\n",
    "    if counter == 3000:\n",
    "        splitIngPairWeights.append(tempArray)\n",
    "        tempArray = []\n",
    "        counter = 0\n",
    "\n",
    "    tempArray.append(row)\n",
    "    counter += 1\n",
    "\n",
    "splitIngPairWeights.append(tempArray)"
   ]
  },
  {
   "cell_type": "code",
   "execution_count": 144,
   "metadata": {},
   "outputs": [
    {
     "data": {
      "text/plain": [
       "2112"
      ]
     },
     "execution_count": 144,
     "metadata": {},
     "output_type": "execute_result"
    }
   ],
   "source": [
    "counter = 0\n",
    "c = 12\n",
    "for i in range(0, len(splitIngPairWeights[c])):\n",
    "    if splitIngPairWeights[c][i][2] != 0 or splitIngPairWeights[c][i][3] != 0:\n",
    "        counter += 1\n",
    "\n",
    "counter"
   ]
  },
  {
   "cell_type": "code",
   "execution_count": 145,
   "metadata": {},
   "outputs": [],
   "source": [
    "iterCounter = 12 # change to the next index before you run (last run was done on 12) (up to 12)\n",
    "\n",
    "for counter in range(0, len(splitIngPairWeights[iterCounter])): \n",
    "    splitIngPairWeights[iterCounter][counter][0] = splitIngPairWeights[iterCounter][counter][0].replace(\"'\", \"-\").replace(\"_\", \" \")\n",
    "    splitIngPairWeights[iterCounter][counter][1] = splitIngPairWeights[iterCounter][counter][1].replace(\"'\", \"-\").replace(\"_\", \" \")\n",
    "\n",
    "    if splitIngPairWeights[iterCounter][counter][2] != 0 or splitIngPairWeights[iterCounter][counter][3] != 0:\n",
    "        addEdge = \"MATCH (a:Ingredient), (b:Ingredient) WHERE a.name = '\" + splitIngPairWeights[iterCounter][counter][0] + \"' AND b.name = '\" + splitIngPairWeights[iterCounter][counter][1] + \"' CREATE (a)-[r:IngPair {comRecWeight:\" + str(splitIngPairWeights[iterCounter][counter][2]) + \", comCompWeight:\" + str(splitIngPairWeights[iterCounter][counter][3]) + \"}]->(b) RETURN type(r)\"\n",
    "        cGraph.query(addEdge)"
   ]
  },
  {
   "cell_type": "code",
   "execution_count": 115,
   "metadata": {},
   "outputs": [
    {
     "name": "stdout",
     "output_type": "stream",
     "text": [
      "1636\n"
     ]
    }
   ],
   "source": [
    "recipeIngredients = []\n",
    "\n",
    "for counter in range(0, len(recipeList)):\n",
    "    prepIngredient = recipeList['Ingredient'][counter].replace(\"'\", \"-\").replace(\"_\", \" \")\n",
    "    prepRecipe = recipeList['Recipe'][counter].replace(\"'\", \"-\").replace(\"_\", \" \")\n",
    "    entry = [prepRecipe, prepIngredient]\n",
    "    if entry not in recipeIngredients:\n",
    "        recipeIngredients.append(entry)\n",
    "\n",
    "print(len(recipeIngredients))"
   ]
  },
  {
   "cell_type": "code",
   "execution_count": 116,
   "metadata": {},
   "outputs": [],
   "source": [
    "result = []\n",
    "tempResult = []\n",
    "for entry in recipeIngredients:\n",
    "    addEdge = \"MATCH (a:Recipe), (b:Ingredient) WHERE a.name = '\" + entry[0] + \"' AND b.name = '\" + entry[1] + \"' CREATE (a)-[r:RecIng]->(b) RETURN type(r)\"\n",
    "    temp = cGraph.query(addEdge)\n",
    "    tempResult = [entry, temp.data()]\n",
    "    result.append(tempResult)"
   ]
  },
  {
   "cell_type": "code",
   "execution_count": null,
   "metadata": {},
   "outputs": [],
   "source": []
  }
 ],
 "metadata": {
  "interpreter": {
   "hash": "40705e9542a8b496168c7de40fc20a1bf74806b2ae9ef80841c701ebaf97a414"
  },
  "kernelspec": {
   "display_name": "Python 3.9.10 64-bit (windows store)",
   "language": "python",
   "name": "python3"
  },
  "language_info": {
   "codemirror_mode": {
    "name": "ipython",
    "version": 3
   },
   "file_extension": ".py",
   "mimetype": "text/x-python",
   "name": "python",
   "nbconvert_exporter": "python",
   "pygments_lexer": "ipython3",
   "version": "3.9.10"
  },
  "orig_nbformat": 4
 },
 "nbformat": 4,
 "nbformat_minor": 2
}
