{
 "cells": [
  {
   "cell_type": "markdown",
   "metadata": {},
   "source": [
    "# Creating the Backend Graphs\n"
   ]
  },
  {
   "cell_type": "code",
   "execution_count": 8,
   "metadata": {},
   "outputs": [],
   "source": [
    "from neo4j import GraphDatabase, basic_auth\n",
    "import nxneo4j as nx #using nxneo4j\n",
    "from py2neo import Graph, Node \n",
    "import pandas"
   ]
  },
  {
   "cell_type": "markdown",
   "metadata": {},
   "source": [
    "## Creating the graphs\n",
    "\n",
    "The Graphs are created using neo4j and hosted using db aura. This allows us to access the graphs remotely. The following code connects to the db."
   ]
  },
  {
   "cell_type": "code",
   "execution_count": 3,
   "metadata": {},
   "outputs": [],
   "source": [
    "graph = GraphDatabase.driver(\"neo4j+s://101fd6b7.databases.neo4j.io\", auth=basic_auth(\"neo4j\",\"gB9F-fD2doYqInIcXR3DJZwnvvDWm-ZpgvOJ3BGCl54\"))\n",
    "\n",
    "cGraph = Graph(\"neo4j+s://101fd6b7.databases.neo4j.io\", auth=('neo4j', \"gB9F-fD2doYqInIcXR3DJZwnvvDWm-ZpgvOJ3BGCl54\"))"
   ]
  },
  {
   "cell_type": "code",
   "execution_count": 4,
   "metadata": {},
   "outputs": [],
   "source": [
    "G = nx.Graph(graph) #create the empty graph"
   ]
  },
  {
   "cell_type": "code",
   "execution_count": 5,
   "metadata": {},
   "outputs": [],
   "source": [
    "fromFile = pandas.read_csv('../CSV/recipeList.csv')"
   ]
  },
  {
   "cell_type": "markdown",
   "metadata": {},
   "source": [
    "## Preparing the data for nodes \n",
    "\n",
    "To start we need to get all the unique ingredients in the dataset. These will be used as ingredient nodes in the graph."
   ]
  },
  {
   "cell_type": "code",
   "execution_count": 31,
   "metadata": {},
   "outputs": [],
   "source": [
    "uniqueIng = []\n",
    "for index, row in fromFile.iterrows():\n",
    "    if row[1] not in uniqueIng:\n",
    "        uniqueIng.append(row[1])"
   ]
  },
  {
   "cell_type": "markdown",
   "metadata": {},
   "source": [
    "Next we find all the unique combinations of ingredients. These will be used for the edges later on"
   ]
  },
  {
   "cell_type": "code",
   "execution_count": 32,
   "metadata": {},
   "outputs": [],
   "source": [
    "ingCombo = []\n",
    "for curIndex in range(0, len(uniqueIng)):\n",
    "    for tempIndex in range((curIndex + 1), len(uniqueIng)):\n",
    "        tempCombo = []\n",
    "        tempCombo.append(uniqueIng[curIndex])\n",
    "        tempCombo.append(uniqueIng[tempIndex])\n",
    "        ingCombo.append(tempCombo)"
   ]
  },
  {
   "cell_type": "code",
   "execution_count": 33,
   "metadata": {},
   "outputs": [],
   "source": [
    "ingWeight = [0] * len(ingCombo)"
   ]
  },
  {
   "cell_type": "markdown",
   "metadata": {},
   "source": [
    "Next we create a dictionary that contains all of the recipes as the keys, and all of the ingredients found in that recipe as the content. This will be used to connect the ingredients to there respective recipe in the graph."
   ]
  },
  {
   "cell_type": "code",
   "execution_count": 34,
   "metadata": {},
   "outputs": [],
   "source": [
    "curRecipe = ''\n",
    "recIng = {}\n",
    "ingList = []\n",
    "\n",
    "listOfRecipes = []\n",
    "\n",
    "for index, row in fromFile.iterrows():\n",
    "    if curRecipe == row[0]: # the data has a lot of black space after it. This removes it\n",
    "        ingList.append(row[1])\n",
    "    else:\n",
    "        recIng[curRecipe] = ingList\n",
    "        curRecipe = row[0]\n",
    "        ingList = []\n",
    "        listOfRecipes.append(row[0])\n",
    "\n",
    "recIng[curRecipe] = ingList\n",
    "curRecipe = row[0]\n",
    "ingList = []\n",
    "del recIng['']"
   ]
  },
  {
   "cell_type": "markdown",
   "metadata": {},
   "source": [
    "The weight of the connection is calculated based on the amount of recipes the pair has in common. The next snippet of code does exactly that. The weight is then normalized to be between 0 and 1."
   ]
  },
  {
   "cell_type": "code",
   "execution_count": 35,
   "metadata": {},
   "outputs": [],
   "source": [
    "for ingComboIndex in range(0, len(ingCombo)):\n",
    "    firstIng = ingCombo[ingComboIndex][0]\n",
    "    secondIng = ingCombo[ingComboIndex][1]\n",
    "    for recipe, ings in recIng.items():\n",
    "        if firstIng in ings and secondIng in ings:\n",
    "            ingWeight[ingComboIndex] += 1\n",
    "        else:\n",
    "            continue"
   ]
  },
  {
   "cell_type": "code",
   "execution_count": 36,
   "metadata": {},
   "outputs": [],
   "source": [
    "maxWeight = max(ingWeight)"
   ]
  },
  {
   "cell_type": "code",
   "execution_count": 37,
   "metadata": {},
   "outputs": [],
   "source": [
    "normWeights = [i/maxWeight for i in ingWeight]"
   ]
  },
  {
   "cell_type": "code",
   "execution_count": 38,
   "metadata": {},
   "outputs": [],
   "source": [
    "firstIngs = []\n",
    "secondIngs = []\n",
    "for fI, sI in ingCombo:\n",
    "    firstIngs.append(fI)\n",
    "    secondIngs.append(sI)"
   ]
  },
  {
   "cell_type": "markdown",
   "metadata": {},
   "source": [
    "The Data is saved to CSV so it can be accessed easily "
   ]
  },
  {
   "cell_type": "code",
   "execution_count": 39,
   "metadata": {},
   "outputs": [],
   "source": [
    "combosDataframe = pandas.DataFrame(list(zip(firstIngs, secondIngs, normWeights)),\n",
    "               columns =['FirstIng', 'SecondIng', 'ComboWeight'])"
   ]
  },
  {
   "cell_type": "code",
   "execution_count": 40,
   "metadata": {},
   "outputs": [],
   "source": [
    "combosDataframe.to_csv('../CSV/sbsCompComboWeights.csv', index=False)"
   ]
  },
  {
   "cell_type": "code",
   "execution_count": 41,
   "metadata": {},
   "outputs": [],
   "source": [
    "compFirstIngs = []\n",
    "compSecondIngs = []\n",
    "compNormWeights = []\n",
    "for normWeightsIndex in range(0, len(normWeights)):\n",
    "    if normWeights[normWeightsIndex] != 0.0:\n",
    "        compFirstIngs.append(firstIngs[normWeightsIndex])\n",
    "        compSecondIngs.append(secondIngs[normWeightsIndex])\n",
    "        compNormWeights.append(normWeights[normWeightsIndex])\n",
    "    else:\n",
    "        continue"
   ]
  },
  {
   "cell_type": "code",
   "execution_count": 19,
   "metadata": {},
   "outputs": [],
   "source": [
    "compCombosDataframe = pandas.DataFrame(list(zip(compFirstIngs, compSecondIngs, compNormWeights)),\n",
    "               columns =['FirstIng', 'SecondIng', 'ComboWeight'])\n",
    "compCombosDataframe.to_csv('../CSV/sbsComboWeights.csv', index=False)"
   ]
  },
  {
   "cell_type": "code",
   "execution_count": 42,
   "metadata": {},
   "outputs": [],
   "source": [
    "uniqueConIng = []\n",
    "for index in range(0, len(compFirstIngs)):\n",
    "    if compFirstIngs[index] not in uniqueConIng:\n",
    "        uniqueConIng.append(compFirstIngs[index])\n",
    "\n",
    "    if compSecondIngs[index] not in uniqueConIng:\n",
    "        uniqueConIng.append(compSecondIngs[index])"
   ]
  },
  {
   "cell_type": "markdown",
   "metadata": {},
   "source": [
    "Creating all the ingredient nodes"
   ]
  },
  {
   "cell_type": "code",
   "execution_count": 114,
   "metadata": {},
   "outputs": [],
   "source": [
    "for currIng in uniqueIng:\n",
    "    addNode = \"CREATE (n:Ingredient {name : '\" + currIng + \"'})\"\n",
    "    cGraph.query(addNode)"
   ]
  },
  {
   "cell_type": "markdown",
   "metadata": {},
   "source": [
    "Creating all the recipe nodes"
   ]
  },
  {
   "cell_type": "code",
   "execution_count": 115,
   "metadata": {},
   "outputs": [],
   "source": [
    "for recipe in listOfRecipes:\n",
    "    recipe = recipe.replace(\"'\", \"\")\n",
    "    addNode = \"CREATE (n:Recipe {name : '\" + recipe + \"'})\"\n",
    "    cGraph.query(addNode)"
   ]
  },
  {
   "cell_type": "markdown",
   "metadata": {},
   "source": [
    "Creating all the edges between ingredients "
   ]
  },
  {
   "cell_type": "code",
   "execution_count": 118,
   "metadata": {},
   "outputs": [],
   "source": [
    "for index in range(0,len(compFirstIngs)):\n",
    "    addEdge = \"MATCH (a:Ingredient), (b:Ingredient) WHERE a.name = '\" + compFirstIngs[index] + \"' AND b.name = '\" + compSecondIngs[index] + \"' CREATE (a)-[r:CommonRecipes {weight:\" + str(compNormWeights[index]) + \" }]->(b) RETURN type(r)\"\n",
    "    \n",
    "    cGraph.query(addEdge)\n"
   ]
  },
  {
   "cell_type": "markdown",
   "metadata": {},
   "source": [
    "Creading all the edges between ingredients and recipes"
   ]
  },
  {
   "cell_type": "code",
   "execution_count": 44,
   "metadata": {},
   "outputs": [
    {
     "name": "stderr",
     "output_type": "stream",
     "text": [
      "C:\\Users\\maxma\\AppData\\Local\\Temp\\ipykernel_21732\\2981499573.py:2: SettingWithCopyWarning: \n",
      "A value is trying to be set on a copy of a slice from a DataFrame\n",
      "\n",
      "See the caveats in the documentation: https://pandas.pydata.org/pandas-docs/stable/user_guide/indexing.html#returning-a-view-versus-a-copy\n",
      "  fromFile[\"Recipe\"][counter] = fromFile[\"Recipe\"][counter].replace(\"'\", \"\")\n"
     ]
    }
   ],
   "source": [
    "for counter in range(0, len(fromFile[\"Recipe\"])):\n",
    "    fromFile[\"Recipe\"][counter] = fromFile[\"Recipe\"][counter].replace(\"'\", \"\")\n",
    "    addEdge = \"MATCH (a:Recipe), (b:Ingredient) WHERE a.name = '\" + fromFile[\"Recipe\"][counter] + \"' AND b.name = '\" + fromFile[\"Ingredient\"][counter] + \"' CREATE (a)-[r:inRecipe]->(b) RETURN type(r)\"\n",
    "    \n",
    "    cGraph.query(addEdge)\n",
    "    "
   ]
  },
  {
   "cell_type": "markdown",
   "metadata": {},
   "source": [
    "Querying the Graph"
   ]
  },
  {
   "cell_type": "code",
   "execution_count": 50,
   "metadata": {},
   "outputs": [
    {
     "name": "stdout",
     "output_type": "stream",
     "text": [
      " i.name    | connections \n",
      "-----------|-------------\n",
      " olive_oil |          27 \n",
      " tomato    |          17 \n",
      " garlic    |          17 \n",
      "\n"
     ]
    }
   ],
   "source": [
    "query = \"MATCH (i:Ingredient)-[r:inRecipe]-(c:Recipe) RETURN i.name, count(r) AS connections ORDER BY connections DESC\"\n",
    "\n",
    "result = cGraph.query(query)\n",
    "print(result)"
   ]
  },
  {
   "cell_type": "code",
   "execution_count": null,
   "metadata": {},
   "outputs": [],
   "source": []
  }
 ],
 "metadata": {
  "kernelspec": {
   "display_name": "Python 3",
   "language": "python",
   "name": "python3"
  },
  "language_info": {
   "codemirror_mode": {
    "name": "ipython",
    "version": 3
   },
   "file_extension": ".py",
   "mimetype": "text/x-python",
   "name": "python",
   "nbconvert_exporter": "python",
   "pygments_lexer": "ipython3",
   "version": "3.9.10"
  }
 },
 "nbformat": 4,
 "nbformat_minor": 4
}
