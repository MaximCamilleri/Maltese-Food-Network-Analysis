{
 "cells": [
  {
   "cell_type": "markdown",
   "metadata": {},
   "source": [
    "# Creating the Backend Graphs\n"
   ]
  },
  {
   "cell_type": "code",
   "execution_count": 4,
   "metadata": {},
   "outputs": [],
   "source": [
    "from neo4j import GraphDatabase, basic_auth\n",
    "import nxneo4j as nx #using nxneo4j\n",
    "from py2neo import Graph, Node \n",
    "import pandas"
   ]
  },
  {
   "cell_type": "markdown",
   "metadata": {},
   "source": [
    "### Creating the graphs\n",
    "\n",
    "The Graphs are created using neo4j and hosted using db aura, where one can remote into. The following code connects to the db."
   ]
  },
  {
   "cell_type": "code",
   "execution_count": 5,
   "metadata": {},
   "outputs": [],
   "source": [
    "graph = GraphDatabase.driver(\"neo4j+s://101fd6b7.databases.neo4j.io\", auth=basic_auth(\"neo4j\",\"gB9F-fD2doYqInIcXR3DJZwnvvDWm-ZpgvOJ3BGCl54\"))\n",
    "\n",
    "cGraph = Graph(\"neo4j+s://101fd6b7.databases.neo4j.io\", auth=('neo4j', \"gB9F-fD2doYqInIcXR3DJZwnvvDWm-ZpgvOJ3BGCl54\"))"
   ]
  },
  {
   "cell_type": "code",
   "execution_count": 6,
   "metadata": {},
   "outputs": [],
   "source": [
    "G = nx.Graph(graph) #create the empty graph"
   ]
  },
  {
   "cell_type": "code",
   "execution_count": 7,
   "metadata": {},
   "outputs": [],
   "source": [
    "fromFile = pandas.read_csv('../CSV/sbsRecipes3.csv')"
   ]
  },
  {
   "cell_type": "markdown",
   "metadata": {},
   "source": [
    "### Preparing the data for nodes \n",
    "\n",
    "To start we need to get all the unique ingredients in the dataset. These will be used as ingredient nodes in the graph."
   ]
  },
  {
   "cell_type": "code",
   "execution_count": 8,
   "metadata": {},
   "outputs": [],
   "source": [
    "uniqueIng = []\n",
    "for index, row in fromFile.iterrows():\n",
    "    if row[2] not in uniqueIng:\n",
    "        uniqueIng.append(row[2])"
   ]
  },
  {
   "cell_type": "markdown",
   "metadata": {},
   "source": [
    "Next we find all the unique combinations of ingredients. These will be used for the edges later on"
   ]
  },
  {
   "cell_type": "code",
   "execution_count": 9,
   "metadata": {},
   "outputs": [],
   "source": [
    "ingCombo = []\n",
    "for curIndex in range(0, len(uniqueIng)):\n",
    "    for tempIndex in range((curIndex + 1), len(uniqueIng)):\n",
    "        tempCombo = []\n",
    "        tempCombo.append(uniqueIng[curIndex])\n",
    "        tempCombo.append(uniqueIng[tempIndex])\n",
    "        ingCombo.append(tempCombo)"
   ]
  },
  {
   "cell_type": "code",
   "execution_count": 10,
   "metadata": {},
   "outputs": [],
   "source": [
    "ingWeight = [0] * len(ingCombo)"
   ]
  },
  {
   "cell_type": "markdown",
   "metadata": {},
   "source": [
    "Next we create a dictionary that contains all of the recipes as the keys, and all of the ingredients found in that recipe as the content. This will be used to connect the ingredients to there respective recipe in the graph."
   ]
  },
  {
   "cell_type": "code",
   "execution_count": 11,
   "metadata": {},
   "outputs": [],
   "source": [
    "curRecipe = ''\n",
    "recIng = {}\n",
    "ingList = []\n",
    "\n",
    "for index, row in fromFile.iterrows():\n",
    "    if curRecipe == row[0][0:-34]: # the data has a lot of black space after it. This removes it\n",
    "        ingList.append(row[2])\n",
    "    else:\n",
    "        recIng[curRecipe] = ingList\n",
    "        curRecipe = row[0][0:-34]\n",
    "        ingList = []\n",
    "\n",
    "recIng[curRecipe] = ingList\n",
    "curRecipe = row[0][0:-34]\n",
    "ingList = []\n",
    "del recIng['']"
   ]
  },
  {
   "cell_type": "markdown",
   "metadata": {},
   "source": [
    "The weight of the connection is calculated based on the amount of recipes the pair has in common. The next snippet of code does exactly that. The weight is then normalized to be between 0 and 1."
   ]
  },
  {
   "cell_type": "code",
   "execution_count": 12,
   "metadata": {},
   "outputs": [],
   "source": [
    "for ingComboIndex in range(0, len(ingCombo)):\n",
    "    firstIng = ingCombo[ingComboIndex][0]\n",
    "    secondIng = ingCombo[ingComboIndex][1]\n",
    "    for recipe, ings in recIng.items():\n",
    "        if firstIng in ings and secondIng in ings:\n",
    "            ingWeight[ingComboIndex] += 1\n",
    "        else:\n",
    "            continue"
   ]
  },
  {
   "cell_type": "code",
   "execution_count": 13,
   "metadata": {},
   "outputs": [],
   "source": [
    "maxWeight = max(ingWeight)"
   ]
  },
  {
   "cell_type": "code",
   "execution_count": 14,
   "metadata": {},
   "outputs": [],
   "source": [
    "normWeights = [i/maxWeight for i in ingWeight]"
   ]
  },
  {
   "cell_type": "code",
   "execution_count": 15,
   "metadata": {},
   "outputs": [],
   "source": [
    "firstIngs = []\n",
    "secondIngs = []\n",
    "for fI, sI in ingCombo:\n",
    "    firstIngs.append(fI)\n",
    "    secondIngs.append(sI)"
   ]
  },
  {
   "cell_type": "markdown",
   "metadata": {},
   "source": [
    "The Data is saved to CSV so it can be accessed easily "
   ]
  },
  {
   "cell_type": "code",
   "execution_count": 16,
   "metadata": {},
   "outputs": [],
   "source": [
    "combosDataframe = pandas.DataFrame(list(zip(firstIngs, secondIngs, normWeights)),\n",
    "               columns =['FirstIng', 'SecondIng', 'ComboWeight'])"
   ]
  },
  {
   "cell_type": "code",
   "execution_count": 17,
   "metadata": {},
   "outputs": [],
   "source": [
    "combosDataframe.to_csv('../CSV/sbsCompComboWeights.csv', index=False)"
   ]
  },
  {
   "cell_type": "code",
   "execution_count": 18,
   "metadata": {},
   "outputs": [],
   "source": [
    "compFirstIngs = []\n",
    "compSecondIngs = []\n",
    "compNormWeights = []\n",
    "for normWeightsIndex in range(0, len(normWeights)):\n",
    "    if normWeights[normWeightsIndex] != 0.0:\n",
    "        compFirstIngs.append(firstIngs[normWeightsIndex])\n",
    "        compSecondIngs.append(secondIngs[normWeightsIndex])\n",
    "        compNormWeights.append(normWeights[normWeightsIndex])\n",
    "    else:\n",
    "        continue"
   ]
  },
  {
   "cell_type": "code",
   "execution_count": 19,
   "metadata": {},
   "outputs": [],
   "source": [
    "compCombosDataframe = pandas.DataFrame(list(zip(compFirstIngs, compSecondIngs, compNormWeights)),\n",
    "               columns =['FirstIng', 'SecondIng', 'ComboWeight'])\n",
    "compCombosDataframe.to_csv('../CSV/sbsComboWeights.csv', index=False)"
   ]
  },
  {
   "cell_type": "code",
   "execution_count": 20,
   "metadata": {},
   "outputs": [],
   "source": [
    "uniqueConIng = []\n",
    "for index in range(0, len(compFirstIngs)):\n",
    "    if compFirstIngs[index] not in uniqueConIng:\n",
    "        uniqueConIng.append(compFirstIngs[index])\n",
    "\n",
    "    if compSecondIngs[index] not in uniqueConIng:\n",
    "        uniqueConIng.append(compSecondIngs[index])"
   ]
  },
  {
   "cell_type": "code",
   "execution_count": 21,
   "metadata": {},
   "outputs": [
    {
     "name": "stdout",
     "output_type": "stream",
     "text": [
      "125\n",
      "133\n"
     ]
    }
   ],
   "source": [
    "print(len(uniqueConIng))\n",
    "print(len(uniqueIng))"
   ]
  },
  {
   "cell_type": "code",
   "execution_count": 23,
   "metadata": {},
   "outputs": [],
   "source": [
    "for currIng in uniqueIng:\n",
    "    addNode = \"CREATE (n:Ingredient {name : '\" + currIng + \"'})\"\n",
    "\n",
    "    cGraph.query(addNode)"
   ]
  },
  {
   "cell_type": "code",
   "execution_count": 24,
   "metadata": {},
   "outputs": [],
   "source": [
    "for index in range(0,len(compFirstIngs)):\n",
    "    G.add_edge(compFirstIngs[index], compSecondIngs[index], weight = compNormWeights[index])\n",
    "    \n"
   ]
  },
  {
   "cell_type": "code",
   "execution_count": 25,
   "metadata": {},
   "outputs": [
    {
     "name": "stdout",
     "output_type": "stream",
     "text": [
      " COUNT(n) \n",
      "----------\n",
      "      399 \n",
      "\n"
     ]
    }
   ],
   "source": [
    "query = \"MATCH(n) RETURN COUNT(n)\"\n",
    "\n",
    "result = cGraph.query(query)\n",
    "print(result)"
   ]
  }
 ],
 "metadata": {
  "kernelspec": {
   "display_name": "Python 3",
   "language": "python",
   "name": "python3"
  },
  "language_info": {
   "codemirror_mode": {
    "name": "ipython",
    "version": 3
   },
   "file_extension": ".py",
   "mimetype": "text/x-python",
   "name": "python",
   "nbconvert_exporter": "python",
   "pygments_lexer": "ipython3",
   "version": "3.9.10"
  }
 },
 "nbformat": 4,
 "nbformat_minor": 4
}
