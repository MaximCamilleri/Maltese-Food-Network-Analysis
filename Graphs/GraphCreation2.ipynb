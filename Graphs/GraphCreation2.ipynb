{
 "cells": [
  {
   "cell_type": "code",
   "execution_count": 1,
   "metadata": {},
   "outputs": [],
   "source": [
    "from neo4j import GraphDatabase, basic_auth\n",
    "import nxneo4j as nx #using nxneo4j\n",
    "from py2neo import Graph, Node \n",
    "import pandas"
   ]
  },
  {
   "cell_type": "code",
   "execution_count": 2,
   "metadata": {},
   "outputs": [],
   "source": [
    "cGraph = Graph(\"neo4j+s://101fd6b7.databases.neo4j.io\", auth=('neo4j', \"gB9F-fD2doYqInIcXR3DJZwnvvDWm-ZpgvOJ3BGCl54\"))"
   ]
  },
  {
   "cell_type": "code",
   "execution_count": 65,
   "metadata": {},
   "outputs": [],
   "source": [
    "recipeList = pandas.read_csv('../CSV/recipeList.csv')\n",
    "listOfRecipes = pandas.read_csv('../CSV/listOfRecipes.csv')"
   ]
  },
  {
   "cell_type": "code",
   "execution_count": 88,
   "metadata": {},
   "outputs": [
    {
     "data": {
      "text/html": [
       "<div>\n",
       "<style scoped>\n",
       "    .dataframe tbody tr th:only-of-type {\n",
       "        vertical-align: middle;\n",
       "    }\n",
       "\n",
       "    .dataframe tbody tr th {\n",
       "        vertical-align: top;\n",
       "    }\n",
       "\n",
       "    .dataframe thead th {\n",
       "        text-align: right;\n",
       "    }\n",
       "</style>\n",
       "<table border=\"1\" class=\"dataframe\">\n",
       "  <thead>\n",
       "    <tr style=\"text-align: right;\">\n",
       "      <th></th>\n",
       "      <th>Unnamed: 0</th>\n",
       "      <th>Links</th>\n",
       "      <th>Recipe Name</th>\n",
       "    </tr>\n",
       "  </thead>\n",
       "  <tbody>\n",
       "    <tr>\n",
       "      <th>0</th>\n",
       "      <td>0</td>\n",
       "      <td>https://www.sbs.com.au/food/recipes/maltese-ka...</td>\n",
       "      <td>Maltese kapunata                              ...</td>\n",
       "    </tr>\n",
       "    <tr>\n",
       "      <th>1</th>\n",
       "      <td>1</td>\n",
       "      <td>https://www.sbs.com.au/food/recipes/maltese-ba...</td>\n",
       "      <td>Maltese baked ricotta pie                     ...</td>\n",
       "    </tr>\n",
       "    <tr>\n",
       "      <th>2</th>\n",
       "      <td>2</td>\n",
       "      <td>https://www.sbs.com.au/food/recipes/maltese-st...</td>\n",
       "      <td>Maltese-style bruschetta (hobż biż-żejt)      ...</td>\n",
       "    </tr>\n",
       "    <tr>\n",
       "      <th>3</th>\n",
       "      <td>3</td>\n",
       "      <td>https://www.sbs.com.au/food/recipes/maltese-ra...</td>\n",
       "      <td>Maltese rabbit stew (stuffat tal-fenek)       ...</td>\n",
       "    </tr>\n",
       "    <tr>\n",
       "      <th>4</th>\n",
       "      <td>4</td>\n",
       "      <td>https://www.sbs.com.au/food/recipes/bread-oil-...</td>\n",
       "      <td>Bread with oil (hobż biż-żejt)                ...</td>\n",
       "    </tr>\n",
       "    <tr>\n",
       "      <th>...</th>\n",
       "      <td>...</td>\n",
       "      <td>...</td>\n",
       "      <td>...</td>\n",
       "    </tr>\n",
       "    <tr>\n",
       "      <th>201</th>\n",
       "      <td>201</td>\n",
       "      <td>https://maltesecuisine.com/2020/01/13/pumpkin-...</td>\n",
       "      <td>Pumpkin Soup – Soppa tal-Qargha Hamra</td>\n",
       "    </tr>\n",
       "    <tr>\n",
       "      <th>202</th>\n",
       "      <td>202</td>\n",
       "      <td>https://maltesecuisine.com/2020/01/13/kannoli/</td>\n",
       "      <td>Kannoli</td>\n",
       "    </tr>\n",
       "    <tr>\n",
       "      <th>203</th>\n",
       "      <td>203</td>\n",
       "      <td>https://maltesecuisine.com/2020/01/13/christma...</td>\n",
       "      <td>Christmas Pudding</td>\n",
       "    </tr>\n",
       "    <tr>\n",
       "      <th>204</th>\n",
       "      <td>204</td>\n",
       "      <td>https://maltesecuisine.com/2020/01/13/pork-coo...</td>\n",
       "      <td>Pork Cooked in Milk</td>\n",
       "    </tr>\n",
       "    <tr>\n",
       "      <th>205</th>\n",
       "      <td>205</td>\n",
       "      <td>https://maltesecuisine.com/2020/01/11/imbuljut...</td>\n",
       "      <td>Imbuljuta tal-Qastan</td>\n",
       "    </tr>\n",
       "  </tbody>\n",
       "</table>\n",
       "<p>206 rows × 3 columns</p>\n",
       "</div>"
      ],
      "text/plain": [
       "     Unnamed: 0                                              Links  \\\n",
       "0             0  https://www.sbs.com.au/food/recipes/maltese-ka...   \n",
       "1             1  https://www.sbs.com.au/food/recipes/maltese-ba...   \n",
       "2             2  https://www.sbs.com.au/food/recipes/maltese-st...   \n",
       "3             3  https://www.sbs.com.au/food/recipes/maltese-ra...   \n",
       "4             4  https://www.sbs.com.au/food/recipes/bread-oil-...   \n",
       "..          ...                                                ...   \n",
       "201         201  https://maltesecuisine.com/2020/01/13/pumpkin-...   \n",
       "202         202     https://maltesecuisine.com/2020/01/13/kannoli/   \n",
       "203         203  https://maltesecuisine.com/2020/01/13/christma...   \n",
       "204         204  https://maltesecuisine.com/2020/01/13/pork-coo...   \n",
       "205         205  https://maltesecuisine.com/2020/01/11/imbuljut...   \n",
       "\n",
       "                                           Recipe Name  \n",
       "0    Maltese kapunata                              ...  \n",
       "1    Maltese baked ricotta pie                     ...  \n",
       "2    Maltese-style bruschetta (hobż biż-żejt)      ...  \n",
       "3    Maltese rabbit stew (stuffat tal-fenek)       ...  \n",
       "4    Bread with oil (hobż biż-żejt)                ...  \n",
       "..                                                 ...  \n",
       "201              Pumpkin Soup – Soppa tal-Qargha Hamra  \n",
       "202                                            Kannoli  \n",
       "203                                  Christmas Pudding  \n",
       "204                                Pork Cooked in Milk  \n",
       "205                               Imbuljuta tal-Qastan  \n",
       "\n",
       "[206 rows x 3 columns]"
      ]
     },
     "execution_count": 88,
     "metadata": {},
     "output_type": "execute_result"
    }
   ],
   "source": [
    "listOfRecipes"
   ]
  },
  {
   "cell_type": "code",
   "execution_count": 58,
   "metadata": {},
   "outputs": [],
   "source": [
    "uniqueIng = []\n",
    "\n",
    "for index, row in recipeList.iterrows():\n",
    "    temp = [row[1].replace(\"_\", \" \"), row[2]]\n",
    "    if temp not in uniqueIng:\n",
    "        uniqueIng.append(temp)\n",
    "        "
   ]
  },
  {
   "cell_type": "code",
   "execution_count": 101,
   "metadata": {},
   "outputs": [],
   "source": [
    "uniqueRecipe = []\n",
    "\n",
    "for index, row in listOfRecipes.iterrows():\n",
    "    temp = [row[2], row[1]]\n",
    "    if temp not in uniqueRecipe:\n",
    "        uniqueRecipe.append(temp)"
   ]
  },
  {
   "cell_type": "code",
   "execution_count": 105,
   "metadata": {},
   "outputs": [
    {
     "name": "stdout",
     "output_type": "stream",
     "text": [
      "297\n"
     ]
    }
   ],
   "source": [
    "print(len(uniqueIng))"
   ]
  },
  {
   "cell_type": "code",
   "execution_count": 103,
   "metadata": {},
   "outputs": [],
   "source": [
    "for currIng, ingType in uniqueIng:\n",
    "    if isinstance(ingType, float):\n",
    "        currIng = currIng.replace(\"'\", \"-\")\n",
    "        addNode = \"CREATE (n:Ingredient {name : '\" + currIng + \"'})\"\n",
    "    else:\n",
    "        addNode = \"CREATE (n:Ingredient {name : '\" + currIng + \"', type: '\" + str(ingType) + \"'})\"\n",
    "        \n",
    "    cGraph.query(addNode)"
   ]
  },
  {
   "cell_type": "code",
   "execution_count": 104,
   "metadata": {},
   "outputs": [],
   "source": [
    "for recipe in uniqueRecipe:\n",
    "    addNode = \"CREATE (n:Recipe {name : '\" + recipe[0].replace(\"'\", \"-\") + \"', link : '\" + recipe[1] + \"'})\"\n",
    "    cGraph.query(addNode)"
   ]
  },
  {
   "cell_type": "code",
   "execution_count": 71,
   "metadata": {},
   "outputs": [
    {
     "data": {
      "text/html": [
       "<div>\n",
       "<style scoped>\n",
       "    .dataframe tbody tr th:only-of-type {\n",
       "        vertical-align: middle;\n",
       "    }\n",
       "\n",
       "    .dataframe tbody tr th {\n",
       "        vertical-align: top;\n",
       "    }\n",
       "\n",
       "    .dataframe thead th {\n",
       "        text-align: right;\n",
       "    }\n",
       "</style>\n",
       "<table border=\"1\" class=\"dataframe\">\n",
       "  <thead>\n",
       "    <tr style=\"text-align: right;\">\n",
       "      <th></th>\n",
       "      <th>First Ingredient</th>\n",
       "      <th>Second Ingredient</th>\n",
       "      <th>Normalised Weight</th>\n",
       "    </tr>\n",
       "  </thead>\n",
       "  <tbody>\n",
       "    <tr>\n",
       "      <th>0</th>\n",
       "      <td>eggplant</td>\n",
       "      <td>salt</td>\n",
       "      <td>0.000000</td>\n",
       "    </tr>\n",
       "    <tr>\n",
       "      <th>1</th>\n",
       "      <td>eggplant</td>\n",
       "      <td>olive_oil</td>\n",
       "      <td>0.049180</td>\n",
       "    </tr>\n",
       "    <tr>\n",
       "      <th>2</th>\n",
       "      <td>eggplant</td>\n",
       "      <td>onion</td>\n",
       "      <td>0.032787</td>\n",
       "    </tr>\n",
       "    <tr>\n",
       "      <th>3</th>\n",
       "      <td>eggplant</td>\n",
       "      <td>garlic</td>\n",
       "      <td>0.000000</td>\n",
       "    </tr>\n",
       "    <tr>\n",
       "      <th>4</th>\n",
       "      <td>eggplant</td>\n",
       "      <td>green_bell_pepper</td>\n",
       "      <td>0.000000</td>\n",
       "    </tr>\n",
       "    <tr>\n",
       "      <th>...</th>\n",
       "      <td>...</td>\n",
       "      <td>...</td>\n",
       "      <td>...</td>\n",
       "    </tr>\n",
       "    <tr>\n",
       "      <th>43951</th>\n",
       "      <td>cranberry</td>\n",
       "      <td>yogurt</td>\n",
       "      <td>0.000000</td>\n",
       "    </tr>\n",
       "    <tr>\n",
       "      <th>43952</th>\n",
       "      <td>cranberry</td>\n",
       "      <td>rum</td>\n",
       "      <td>0.000000</td>\n",
       "    </tr>\n",
       "    <tr>\n",
       "      <th>43953</th>\n",
       "      <td>400g</td>\n",
       "      <td>yogurt</td>\n",
       "      <td>0.000000</td>\n",
       "    </tr>\n",
       "    <tr>\n",
       "      <th>43954</th>\n",
       "      <td>400g</td>\n",
       "      <td>rum</td>\n",
       "      <td>0.000000</td>\n",
       "    </tr>\n",
       "    <tr>\n",
       "      <th>43955</th>\n",
       "      <td>yogurt</td>\n",
       "      <td>rum</td>\n",
       "      <td>0.000000</td>\n",
       "    </tr>\n",
       "  </tbody>\n",
       "</table>\n",
       "<p>43956 rows × 3 columns</p>\n",
       "</div>"
      ],
      "text/plain": [
       "      First Ingredient  Second Ingredient  Normalised Weight\n",
       "0             eggplant               salt           0.000000\n",
       "1             eggplant          olive_oil           0.049180\n",
       "2             eggplant              onion           0.032787\n",
       "3             eggplant             garlic           0.000000\n",
       "4             eggplant  green_bell_pepper           0.000000\n",
       "...                ...                ...                ...\n",
       "43951        cranberry             yogurt           0.000000\n",
       "43952        cranberry                rum           0.000000\n",
       "43953             400g             yogurt           0.000000\n",
       "43954             400g                rum           0.000000\n",
       "43955           yogurt                rum           0.000000\n",
       "\n",
       "[43956 rows x 3 columns]"
      ]
     },
     "execution_count": 71,
     "metadata": {},
     "output_type": "execute_result"
    }
   ],
   "source": [
    "ingPairWeights = pandas.read_csv('../CSV/ingPairWeights.csv')\n",
    "ingPairWeights"
   ]
  },
  {
   "cell_type": "code",
   "execution_count": 107,
   "metadata": {},
   "outputs": [
    {
     "ename": "ServiceUnavailable",
     "evalue": "No servers available",
     "output_type": "error",
     "traceback": [
      "\u001b[1;31m---------------------------------------------------------------------------\u001b[0m",
      "\u001b[1;31mServiceUnavailable\u001b[0m                        Traceback (most recent call last)",
      "\u001b[1;32mc:\\xampp\\htdocs\\Maltese Food Network Analysis\\Maltese-Food-Network-Analysis\\Graphs\\GraphCreation2.ipynb Cell 11'\u001b[0m in \u001b[0;36m<module>\u001b[1;34m\u001b[0m\n\u001b[0;32m      <a href='vscode-notebook-cell:/c%3A/xampp/htdocs/Maltese%20Food%20Network%20Analysis/Maltese-Food-Network-Analysis/Graphs/GraphCreation2.ipynb#ch0000010?line=1'>2</a>\u001b[0m row[\u001b[39m0\u001b[39m] \u001b[39m=\u001b[39m row[\u001b[39m0\u001b[39m]\u001b[39m.\u001b[39mreplace(\u001b[39m\"\u001b[39m\u001b[39m'\u001b[39m\u001b[39m\"\u001b[39m, \u001b[39m\"\u001b[39m\u001b[39m-\u001b[39m\u001b[39m\"\u001b[39m)\n\u001b[0;32m      <a href='vscode-notebook-cell:/c%3A/xampp/htdocs/Maltese%20Food%20Network%20Analysis/Maltese-Food-Network-Analysis/Graphs/GraphCreation2.ipynb#ch0000010?line=2'>3</a>\u001b[0m row[\u001b[39m1\u001b[39m] \u001b[39m=\u001b[39m row[\u001b[39m1\u001b[39m]\u001b[39m.\u001b[39mreplace(\u001b[39m\"\u001b[39m\u001b[39m'\u001b[39m\u001b[39m\"\u001b[39m, \u001b[39m\"\u001b[39m\u001b[39m-\u001b[39m\u001b[39m\"\u001b[39m)\n\u001b[1;32m----> <a href='vscode-notebook-cell:/c%3A/xampp/htdocs/Maltese%20Food%20Network%20Analysis/Maltese-Food-Network-Analysis/Graphs/GraphCreation2.ipynb#ch0000010?line=4'>5</a>\u001b[0m exists \u001b[39m=\u001b[39m cGraph\u001b[39m.\u001b[39;49mquery(\u001b[39m\"\u001b[39;49m\u001b[39mMATCH (\u001b[39;49m\u001b[39m{\u001b[39;49m\u001b[39mname : \u001b[39;49m\u001b[39m'\u001b[39;49m\u001b[39m\"\u001b[39;49m \u001b[39m+\u001b[39;49m row[\u001b[39m0\u001b[39;49m] \u001b[39m+\u001b[39;49m \u001b[39m\"\u001b[39;49m\u001b[39m'\u001b[39;49m\u001b[39m})-[r]->(\u001b[39;49m\u001b[39m{\u001b[39;49m\u001b[39mname : \u001b[39;49m\u001b[39m'\u001b[39;49m\u001b[39m\"\u001b[39;49m \u001b[39m+\u001b[39;49m row[\u001b[39m1\u001b[39;49m] \u001b[39m+\u001b[39;49m \u001b[39m\"\u001b[39;49m\u001b[39m'\u001b[39;49m\u001b[39m}) RETURN r\u001b[39;49m\u001b[39m\"\u001b[39;49m)\n\u001b[0;32m      <a href='vscode-notebook-cell:/c%3A/xampp/htdocs/Maltese%20Food%20Network%20Analysis/Maltese-Food-Network-Analysis/Graphs/GraphCreation2.ipynb#ch0000010?line=5'>6</a>\u001b[0m exists \u001b[39m=\u001b[39m exists\u001b[39m.\u001b[39mdata()\n\u001b[0;32m      <a href='vscode-notebook-cell:/c%3A/xampp/htdocs/Maltese%20Food%20Network%20Analysis/Maltese-Food-Network-Analysis/Graphs/GraphCreation2.ipynb#ch0000010?line=7'>8</a>\u001b[0m \u001b[39mif\u001b[39;00m \u001b[39mlen\u001b[39m(exists) \u001b[39m==\u001b[39m \u001b[39m0\u001b[39m \u001b[39mand\u001b[39;00m row[\u001b[39m2\u001b[39m] \u001b[39m!=\u001b[39m \u001b[39m0\u001b[39m:\n",
      "File \u001b[1;32m~\\AppData\\Local\\Packages\\PythonSoftwareFoundation.Python.3.9_qbz5n2kfra8p0\\LocalCache\\local-packages\\Python39\\site-packages\\py2neo\\database.py:518\u001b[0m, in \u001b[0;36mGraph.query\u001b[1;34m(self, cypher, parameters, timeout)\u001b[0m\n\u001b[0;32m    <a href='file:///c%3A/Users/maxma/AppData/Local/Packages/PythonSoftwareFoundation.Python.3.9_qbz5n2kfra8p0/LocalCache/local-packages/Python39/site-packages/py2neo/database.py?line=515'>516</a>\u001b[0m n \u001b[39m+\u001b[39m\u001b[39m=\u001b[39m \u001b[39m1\u001b[39m\n\u001b[0;32m    <a href='file:///c%3A/Users/maxma/AppData/Local/Packages/PythonSoftwareFoundation.Python.3.9_qbz5n2kfra8p0/LocalCache/local-packages/Python39/site-packages/py2neo/database.py?line=516'>517</a>\u001b[0m \u001b[39mtry\u001b[39;00m:\n\u001b[1;32m--> <a href='file:///c%3A/Users/maxma/AppData/Local/Packages/PythonSoftwareFoundation.Python.3.9_qbz5n2kfra8p0/LocalCache/local-packages/Python39/site-packages/py2neo/database.py?line=517'>518</a>\u001b[0m     result \u001b[39m=\u001b[39m \u001b[39mself\u001b[39;49m\u001b[39m.\u001b[39;49mauto(readonly\u001b[39m=\u001b[39;49m\u001b[39mTrue\u001b[39;49;00m)\u001b[39m.\u001b[39;49mrun(cypher, parameters)\n\u001b[0;32m    <a href='file:///c%3A/Users/maxma/AppData/Local/Packages/PythonSoftwareFoundation.Python.3.9_qbz5n2kfra8p0/LocalCache/local-packages/Python39/site-packages/py2neo/database.py?line=518'>519</a>\u001b[0m \u001b[39mexcept\u001b[39;00m (ConnectionUnavailable, ConnectionBroken, ConnectionLimit):\n\u001b[0;32m    <a href='file:///c%3A/Users/maxma/AppData/Local/Packages/PythonSoftwareFoundation.Python.3.9_qbz5n2kfra8p0/LocalCache/local-packages/Python39/site-packages/py2neo/database.py?line=519'>520</a>\u001b[0m     \u001b[39mcontinue\u001b[39;00m\n",
      "File \u001b[1;32m~\\AppData\\Local\\Packages\\PythonSoftwareFoundation.Python.3.9_qbz5n2kfra8p0\\LocalCache\\local-packages\\Python39\\site-packages\\py2neo\\database.py:989\u001b[0m, in \u001b[0;36mTransaction.run\u001b[1;34m(self, cypher, parameters, **kwparameters)\u001b[0m\n\u001b[0;32m    <a href='file:///c%3A/Users/maxma/AppData/Local/Packages/PythonSoftwareFoundation.Python.3.9_qbz5n2kfra8p0/LocalCache/local-packages/Python39/site-packages/py2neo/database.py?line=986'>987</a>\u001b[0m     result \u001b[39m=\u001b[39m \u001b[39mself\u001b[39m\u001b[39m.\u001b[39m_connector\u001b[39m.\u001b[39mrun(\u001b[39mself\u001b[39m\u001b[39m.\u001b[39mref, cypher, parameters)\n\u001b[0;32m    <a href='file:///c%3A/Users/maxma/AppData/Local/Packages/PythonSoftwareFoundation.Python.3.9_qbz5n2kfra8p0/LocalCache/local-packages/Python39/site-packages/py2neo/database.py?line=987'>988</a>\u001b[0m \u001b[39melse\u001b[39;00m:\n\u001b[1;32m--> <a href='file:///c%3A/Users/maxma/AppData/Local/Packages/PythonSoftwareFoundation.Python.3.9_qbz5n2kfra8p0/LocalCache/local-packages/Python39/site-packages/py2neo/database.py?line=988'>989</a>\u001b[0m     result \u001b[39m=\u001b[39m \u001b[39mself\u001b[39;49m\u001b[39m.\u001b[39;49m_connector\u001b[39m.\u001b[39;49mauto_run(cypher, parameters,\n\u001b[0;32m    <a href='file:///c%3A/Users/maxma/AppData/Local/Packages/PythonSoftwareFoundation.Python.3.9_qbz5n2kfra8p0/LocalCache/local-packages/Python39/site-packages/py2neo/database.py?line=989'>990</a>\u001b[0m                                       graph_name\u001b[39m=\u001b[39;49m\u001b[39mself\u001b[39;49m\u001b[39m.\u001b[39;49mgraph\u001b[39m.\u001b[39;49mname,\n\u001b[0;32m    <a href='file:///c%3A/Users/maxma/AppData/Local/Packages/PythonSoftwareFoundation.Python.3.9_qbz5n2kfra8p0/LocalCache/local-packages/Python39/site-packages/py2neo/database.py?line=990'>991</a>\u001b[0m                                       readonly\u001b[39m=\u001b[39;49m\u001b[39mself\u001b[39;49m\u001b[39m.\u001b[39;49mreadonly)\n\u001b[0;32m    <a href='file:///c%3A/Users/maxma/AppData/Local/Packages/PythonSoftwareFoundation.Python.3.9_qbz5n2kfra8p0/LocalCache/local-packages/Python39/site-packages/py2neo/database.py?line=991'>992</a>\u001b[0m \u001b[39mself\u001b[39m\u001b[39m.\u001b[39m_connector\u001b[39m.\u001b[39mpull(result, \u001b[39m-\u001b[39m\u001b[39m1\u001b[39m)\n\u001b[0;32m    <a href='file:///c%3A/Users/maxma/AppData/Local/Packages/PythonSoftwareFoundation.Python.3.9_qbz5n2kfra8p0/LocalCache/local-packages/Python39/site-packages/py2neo/database.py?line=992'>993</a>\u001b[0m \u001b[39mreturn\u001b[39;00m Cursor(result, hydrant)\n",
      "File \u001b[1;32m~\\AppData\\Local\\Packages\\PythonSoftwareFoundation.Python.3.9_qbz5n2kfra8p0\\LocalCache\\local-packages\\Python39\\site-packages\\py2neo\\client\\__init__.py:1338\u001b[0m, in \u001b[0;36mConnector.auto_run\u001b[1;34m(self, cypher, parameters, graph_name, readonly)\u001b[0m\n\u001b[0;32m   <a href='file:///c%3A/Users/maxma/AppData/Local/Packages/PythonSoftwareFoundation.Python.3.9_qbz5n2kfra8p0/LocalCache/local-packages/Python39/site-packages/py2neo/client/__init__.py?line=1320'>1321</a>\u001b[0m \u001b[39mdef\u001b[39;00m \u001b[39mauto_run\u001b[39m(\u001b[39mself\u001b[39m, cypher, parameters\u001b[39m=\u001b[39m\u001b[39mNone\u001b[39;00m, graph_name\u001b[39m=\u001b[39m\u001b[39mNone\u001b[39;00m, readonly\u001b[39m=\u001b[39m\u001b[39mFalse\u001b[39;00m,\n\u001b[0;32m   <a href='file:///c%3A/Users/maxma/AppData/Local/Packages/PythonSoftwareFoundation.Python.3.9_qbz5n2kfra8p0/LocalCache/local-packages/Python39/site-packages/py2neo/client/__init__.py?line=1321'>1322</a>\u001b[0m              \u001b[39m# after=None, metadata=None, timeout=None\u001b[39;00m\n\u001b[0;32m   <a href='file:///c%3A/Users/maxma/AppData/Local/Packages/PythonSoftwareFoundation.Python.3.9_qbz5n2kfra8p0/LocalCache/local-packages/Python39/site-packages/py2neo/client/__init__.py?line=1322'>1323</a>\u001b[0m              ):\n\u001b[0;32m   <a href='file:///c%3A/Users/maxma/AppData/Local/Packages/PythonSoftwareFoundation.Python.3.9_qbz5n2kfra8p0/LocalCache/local-packages/Python39/site-packages/py2neo/client/__init__.py?line=1323'>1324</a>\u001b[0m     \u001b[39m\"\"\" Run a Cypher query within a new auto-commit transaction.\u001b[39;00m\n\u001b[0;32m   <a href='file:///c%3A/Users/maxma/AppData/Local/Packages/PythonSoftwareFoundation.Python.3.9_qbz5n2kfra8p0/LocalCache/local-packages/Python39/site-packages/py2neo/client/__init__.py?line=1324'>1325</a>\u001b[0m \n\u001b[0;32m   <a href='file:///c%3A/Users/maxma/AppData/Local/Packages/PythonSoftwareFoundation.Python.3.9_qbz5n2kfra8p0/LocalCache/local-packages/Python39/site-packages/py2neo/client/__init__.py?line=1325'>1326</a>\u001b[0m \u001b[39m    :param cypher:\u001b[39;00m\n\u001b[1;32m   (...)\u001b[0m\n\u001b[0;32m   <a href='file:///c%3A/Users/maxma/AppData/Local/Packages/PythonSoftwareFoundation.Python.3.9_qbz5n2kfra8p0/LocalCache/local-packages/Python39/site-packages/py2neo/client/__init__.py?line=1335'>1336</a>\u001b[0m \u001b[39m        cannot be honoured\u001b[39;00m\n\u001b[0;32m   <a href='file:///c%3A/Users/maxma/AppData/Local/Packages/PythonSoftwareFoundation.Python.3.9_qbz5n2kfra8p0/LocalCache/local-packages/Python39/site-packages/py2neo/client/__init__.py?line=1336'>1337</a>\u001b[0m \u001b[39m    \"\"\"\u001b[39;00m\n\u001b[1;32m-> <a href='file:///c%3A/Users/maxma/AppData/Local/Packages/PythonSoftwareFoundation.Python.3.9_qbz5n2kfra8p0/LocalCache/local-packages/Python39/site-packages/py2neo/client/__init__.py?line=1337'>1338</a>\u001b[0m     cx \u001b[39m=\u001b[39m \u001b[39mself\u001b[39;49m\u001b[39m.\u001b[39;49m_acquire(graph_name)\n\u001b[0;32m   <a href='file:///c%3A/Users/maxma/AppData/Local/Packages/PythonSoftwareFoundation.Python.3.9_qbz5n2kfra8p0/LocalCache/local-packages/Python39/site-packages/py2neo/client/__init__.py?line=1338'>1339</a>\u001b[0m     \u001b[39mtry\u001b[39;00m:\n\u001b[0;32m   <a href='file:///c%3A/Users/maxma/AppData/Local/Packages/PythonSoftwareFoundation.Python.3.9_qbz5n2kfra8p0/LocalCache/local-packages/Python39/site-packages/py2neo/client/__init__.py?line=1339'>1340</a>\u001b[0m         \u001b[39mreturn\u001b[39;00m cx\u001b[39m.\u001b[39mauto_run(cypher, parameters, graph_name\u001b[39m=\u001b[39mgraph_name, readonly\u001b[39m=\u001b[39mreadonly)\n",
      "File \u001b[1;32m~\\AppData\\Local\\Packages\\PythonSoftwareFoundation.Python.3.9_qbz5n2kfra8p0\\LocalCache\\local-packages\\Python39\\site-packages\\py2neo\\client\\__init__.py:1111\u001b[0m, in \u001b[0;36mConnector._acquire\u001b[1;34m(self, graph_name, readonly)\u001b[0m\n\u001b[0;32m   <a href='file:///c%3A/Users/maxma/AppData/Local/Packages/PythonSoftwareFoundation.Python.3.9_qbz5n2kfra8p0/LocalCache/local-packages/Python39/site-packages/py2neo/client/__init__.py?line=1108'>1109</a>\u001b[0m     \u001b[39mreturn\u001b[39;00m \u001b[39mself\u001b[39m\u001b[39m.\u001b[39m_acquire_ro(graph_name)\n\u001b[0;32m   <a href='file:///c%3A/Users/maxma/AppData/Local/Packages/PythonSoftwareFoundation.Python.3.9_qbz5n2kfra8p0/LocalCache/local-packages/Python39/site-packages/py2neo/client/__init__.py?line=1109'>1110</a>\u001b[0m \u001b[39melse\u001b[39;00m:\n\u001b[1;32m-> <a href='file:///c%3A/Users/maxma/AppData/Local/Packages/PythonSoftwareFoundation.Python.3.9_qbz5n2kfra8p0/LocalCache/local-packages/Python39/site-packages/py2neo/client/__init__.py?line=1110'>1111</a>\u001b[0m     \u001b[39mreturn\u001b[39;00m \u001b[39mself\u001b[39;49m\u001b[39m.\u001b[39;49m_acquire_rw(graph_name)\n",
      "File \u001b[1;32m~\\AppData\\Local\\Packages\\PythonSoftwareFoundation.Python.3.9_qbz5n2kfra8p0\\LocalCache\\local-packages\\Python39\\site-packages\\py2neo\\client\\__init__.py:1225\u001b[0m, in \u001b[0;36mConnector._acquire_rw\u001b[1;34m(self, graph_name)\u001b[0m\n\u001b[0;32m   <a href='file:///c%3A/Users/maxma/AppData/Local/Packages/PythonSoftwareFoundation.Python.3.9_qbz5n2kfra8p0/LocalCache/local-packages/Python39/site-packages/py2neo/client/__init__.py?line=1219'>1220</a>\u001b[0m     pools \u001b[39m=\u001b[39m []\n\u001b[0;32m   <a href='file:///c%3A/Users/maxma/AppData/Local/Packages/PythonSoftwareFoundation.Python.3.9_qbz5n2kfra8p0/LocalCache/local-packages/Python39/site-packages/py2neo/client/__init__.py?line=1220'>1221</a>\u001b[0m \u001b[39melse\u001b[39;00m:\n\u001b[0;32m   <a href='file:///c%3A/Users/maxma/AppData/Local/Packages/PythonSoftwareFoundation.Python.3.9_qbz5n2kfra8p0/LocalCache/local-packages/Python39/site-packages/py2neo/client/__init__.py?line=1221'>1222</a>\u001b[0m     \u001b[39m# There are no readers or writers, indicating that\u001b[39;00m\n\u001b[0;32m   <a href='file:///c%3A/Users/maxma/AppData/Local/Packages/PythonSoftwareFoundation.Python.3.9_qbz5n2kfra8p0/LocalCache/local-packages/Python39/site-packages/py2neo/client/__init__.py?line=1222'>1223</a>\u001b[0m     \u001b[39m# the entire service is likely offline. In this case,\u001b[39;00m\n\u001b[0;32m   <a href='file:///c%3A/Users/maxma/AppData/Local/Packages/PythonSoftwareFoundation.Python.3.9_qbz5n2kfra8p0/LocalCache/local-packages/Python39/site-packages/py2neo/client/__init__.py?line=1223'>1224</a>\u001b[0m     \u001b[39m# we have no option but to bail out.\u001b[39;00m\n\u001b[1;32m-> <a href='file:///c%3A/Users/maxma/AppData/Local/Packages/PythonSoftwareFoundation.Python.3.9_qbz5n2kfra8p0/LocalCache/local-packages/Python39/site-packages/py2neo/client/__init__.py?line=1224'>1225</a>\u001b[0m     \u001b[39mraise\u001b[39;00m ServiceUnavailable(\u001b[39m\"\u001b[39m\u001b[39mNo servers available\u001b[39m\u001b[39m\"\u001b[39m)\n\u001b[0;32m   <a href='file:///c%3A/Users/maxma/AppData/Local/Packages/PythonSoftwareFoundation.Python.3.9_qbz5n2kfra8p0/LocalCache/local-packages/Python39/site-packages/py2neo/client/__init__.py?line=1226'>1227</a>\u001b[0m \u001b[39mfor\u001b[39;00m pool \u001b[39min\u001b[39;00m \u001b[39msorted\u001b[39m(pools, key\u001b[39m=\u001b[39m\u001b[39mlambda\u001b[39;00m p: p\u001b[39m.\u001b[39min_use):\n\u001b[0;32m   <a href='file:///c%3A/Users/maxma/AppData/Local/Packages/PythonSoftwareFoundation.Python.3.9_qbz5n2kfra8p0/LocalCache/local-packages/Python39/site-packages/py2neo/client/__init__.py?line=1227'>1228</a>\u001b[0m     log\u001b[39m.\u001b[39mdebug(\u001b[39m\"\u001b[39m\u001b[39mUsing connection pool \u001b[39m\u001b[39m%r\u001b[39;00m\u001b[39m\"\u001b[39m, pool)\n",
      "\u001b[1;31mServiceUnavailable\u001b[0m: No servers available"
     ]
    }
   ],
   "source": [
    "for index, row in ingPairWeights.iterrows():\n",
    "    row[0] = row[0].replace(\"'\", \"-\")\n",
    "    row[1] = row[1].replace(\"'\", \"-\")\n",
    "\n",
    "    exists = cGraph.query(\"MATCH ({name : '\" + row[0] + \"'})-[r]->({name : '\" + row[1] + \"'}) RETURN r\")\n",
    "    exists = exists.data()\n",
    "\n",
    "    if len(exists) == 0 and row[2] != 0:\n",
    "        addEdge = \"MATCH (a:Ingredient), (b:Ingredient) WHERE a.name = '\" + row[0] + \"' AND b.name = '\" + row[1] + \"' CREATE (a)-[r:CommonRecipes {weight:\" + str(row[2]) + \" }]->(b) RETURN type(r)\"\n",
    "        cGraph.query(addEdge)"
   ]
  }
 ],
 "metadata": {
  "interpreter": {
   "hash": "40705e9542a8b496168c7de40fc20a1bf74806b2ae9ef80841c701ebaf97a414"
  },
  "kernelspec": {
   "display_name": "Python 3.9.10 64-bit (windows store)",
   "language": "python",
   "name": "python3"
  },
  "language_info": {
   "codemirror_mode": {
    "name": "ipython",
    "version": 3
   },
   "file_extension": ".py",
   "mimetype": "text/x-python",
   "name": "python",
   "nbconvert_exporter": "python",
   "pygments_lexer": "ipython3",
   "version": "3.9.10"
  },
  "orig_nbformat": 4
 },
 "nbformat": 4,
 "nbformat_minor": 2
}
