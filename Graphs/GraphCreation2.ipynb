{
 "cells": [
  {
   "cell_type": "code",
   "execution_count": 1,
   "metadata": {},
   "outputs": [],
   "source": [
    "from neo4j import GraphDatabase, basic_auth\n",
    "import nxneo4j as nx #using nxneo4j\n",
    "from py2neo import Graph, Node \n",
    "import pandas"
   ]
  },
  {
   "cell_type": "code",
   "execution_count": 2,
   "metadata": {},
   "outputs": [],
   "source": [
    "cGraph = Graph(\"neo4j+s://101fd6b7.databases.neo4j.io\", auth=('neo4j', \"gB9F-fD2doYqInIcXR3DJZwnvvDWm-ZpgvOJ3BGCl54\"))"
   ]
  },
  {
   "cell_type": "code",
   "execution_count": 65,
   "metadata": {},
   "outputs": [],
   "source": [
    "recipeList = pandas.read_csv('../CSV/recipeList.csv')\n",
    "listOfRecipes = pandas.read_csv('../CSV/listOfRecipes.csv')"
   ]
  },
  {
   "cell_type": "code",
   "execution_count": 88,
   "metadata": {},
   "outputs": [
    {
     "data": {
      "text/html": [
       "<div>\n",
       "<style scoped>\n",
       "    .dataframe tbody tr th:only-of-type {\n",
       "        vertical-align: middle;\n",
       "    }\n",
       "\n",
       "    .dataframe tbody tr th {\n",
       "        vertical-align: top;\n",
       "    }\n",
       "\n",
       "    .dataframe thead th {\n",
       "        text-align: right;\n",
       "    }\n",
       "</style>\n",
       "<table border=\"1\" class=\"dataframe\">\n",
       "  <thead>\n",
       "    <tr style=\"text-align: right;\">\n",
       "      <th></th>\n",
       "      <th>Unnamed: 0</th>\n",
       "      <th>Links</th>\n",
       "      <th>Recipe Name</th>\n",
       "    </tr>\n",
       "  </thead>\n",
       "  <tbody>\n",
       "    <tr>\n",
       "      <th>0</th>\n",
       "      <td>0</td>\n",
       "      <td>https://www.sbs.com.au/food/recipes/maltese-ka...</td>\n",
       "      <td>Maltese kapunata                              ...</td>\n",
       "    </tr>\n",
       "    <tr>\n",
       "      <th>1</th>\n",
       "      <td>1</td>\n",
       "      <td>https://www.sbs.com.au/food/recipes/maltese-ba...</td>\n",
       "      <td>Maltese baked ricotta pie                     ...</td>\n",
       "    </tr>\n",
       "    <tr>\n",
       "      <th>2</th>\n",
       "      <td>2</td>\n",
       "      <td>https://www.sbs.com.au/food/recipes/maltese-st...</td>\n",
       "      <td>Maltese-style bruschetta (hobż biż-żejt)      ...</td>\n",
       "    </tr>\n",
       "    <tr>\n",
       "      <th>3</th>\n",
       "      <td>3</td>\n",
       "      <td>https://www.sbs.com.au/food/recipes/maltese-ra...</td>\n",
       "      <td>Maltese rabbit stew (stuffat tal-fenek)       ...</td>\n",
       "    </tr>\n",
       "    <tr>\n",
       "      <th>4</th>\n",
       "      <td>4</td>\n",
       "      <td>https://www.sbs.com.au/food/recipes/bread-oil-...</td>\n",
       "      <td>Bread with oil (hobż biż-żejt)                ...</td>\n",
       "    </tr>\n",
       "    <tr>\n",
       "      <th>...</th>\n",
       "      <td>...</td>\n",
       "      <td>...</td>\n",
       "      <td>...</td>\n",
       "    </tr>\n",
       "    <tr>\n",
       "      <th>201</th>\n",
       "      <td>201</td>\n",
       "      <td>https://maltesecuisine.com/2020/01/13/pumpkin-...</td>\n",
       "      <td>Pumpkin Soup – Soppa tal-Qargha Hamra</td>\n",
       "    </tr>\n",
       "    <tr>\n",
       "      <th>202</th>\n",
       "      <td>202</td>\n",
       "      <td>https://maltesecuisine.com/2020/01/13/kannoli/</td>\n",
       "      <td>Kannoli</td>\n",
       "    </tr>\n",
       "    <tr>\n",
       "      <th>203</th>\n",
       "      <td>203</td>\n",
       "      <td>https://maltesecuisine.com/2020/01/13/christma...</td>\n",
       "      <td>Christmas Pudding</td>\n",
       "    </tr>\n",
       "    <tr>\n",
       "      <th>204</th>\n",
       "      <td>204</td>\n",
       "      <td>https://maltesecuisine.com/2020/01/13/pork-coo...</td>\n",
       "      <td>Pork Cooked in Milk</td>\n",
       "    </tr>\n",
       "    <tr>\n",
       "      <th>205</th>\n",
       "      <td>205</td>\n",
       "      <td>https://maltesecuisine.com/2020/01/11/imbuljut...</td>\n",
       "      <td>Imbuljuta tal-Qastan</td>\n",
       "    </tr>\n",
       "  </tbody>\n",
       "</table>\n",
       "<p>206 rows × 3 columns</p>\n",
       "</div>"
      ],
      "text/plain": [
       "     Unnamed: 0                                              Links  \\\n",
       "0             0  https://www.sbs.com.au/food/recipes/maltese-ka...   \n",
       "1             1  https://www.sbs.com.au/food/recipes/maltese-ba...   \n",
       "2             2  https://www.sbs.com.au/food/recipes/maltese-st...   \n",
       "3             3  https://www.sbs.com.au/food/recipes/maltese-ra...   \n",
       "4             4  https://www.sbs.com.au/food/recipes/bread-oil-...   \n",
       "..          ...                                                ...   \n",
       "201         201  https://maltesecuisine.com/2020/01/13/pumpkin-...   \n",
       "202         202     https://maltesecuisine.com/2020/01/13/kannoli/   \n",
       "203         203  https://maltesecuisine.com/2020/01/13/christma...   \n",
       "204         204  https://maltesecuisine.com/2020/01/13/pork-coo...   \n",
       "205         205  https://maltesecuisine.com/2020/01/11/imbuljut...   \n",
       "\n",
       "                                           Recipe Name  \n",
       "0    Maltese kapunata                              ...  \n",
       "1    Maltese baked ricotta pie                     ...  \n",
       "2    Maltese-style bruschetta (hobż biż-żejt)      ...  \n",
       "3    Maltese rabbit stew (stuffat tal-fenek)       ...  \n",
       "4    Bread with oil (hobż biż-żejt)                ...  \n",
       "..                                                 ...  \n",
       "201              Pumpkin Soup – Soppa tal-Qargha Hamra  \n",
       "202                                            Kannoli  \n",
       "203                                  Christmas Pudding  \n",
       "204                                Pork Cooked in Milk  \n",
       "205                               Imbuljuta tal-Qastan  \n",
       "\n",
       "[206 rows x 3 columns]"
      ]
     },
     "execution_count": 88,
     "metadata": {},
     "output_type": "execute_result"
    }
   ],
   "source": [
    "listOfRecipes"
   ]
  },
  {
   "cell_type": "code",
   "execution_count": 58,
   "metadata": {},
   "outputs": [],
   "source": [
    "uniqueIng = []\n",
    "\n",
    "for index, row in recipeList.iterrows():\n",
    "    temp = [row[1].replace(\"_\", \" \"), row[2]]\n",
    "    if temp not in uniqueIng:\n",
    "        uniqueIng.append(temp)\n",
    "        "
   ]
  },
  {
   "cell_type": "code",
   "execution_count": 101,
   "metadata": {},
   "outputs": [],
   "source": [
    "uniqueRecipe = []\n",
    "\n",
    "for index, row in listOfRecipes.iterrows():\n",
    "    temp = [row[2], row[1]]\n",
    "    if temp not in uniqueRecipe:\n",
    "        uniqueRecipe.append(temp)"
   ]
  },
  {
   "cell_type": "code",
   "execution_count": 105,
   "metadata": {},
   "outputs": [
    {
     "name": "stdout",
     "output_type": "stream",
     "text": [
      "297\n"
     ]
    }
   ],
   "source": [
    "print(len(uniqueIng))"
   ]
  },
  {
   "cell_type": "code",
   "execution_count": 103,
   "metadata": {},
   "outputs": [],
   "source": [
    "for currIng, ingType in uniqueIng:\n",
    "    if isinstance(ingType, float):\n",
    "        currIng = currIng.replace(\"'\", \"-\")\n",
    "        addNode = \"CREATE (n:Ingredient {name : '\" + currIng + \"'})\"\n",
    "    else:\n",
    "        addNode = \"CREATE (n:Ingredient {name : '\" + currIng + \"', type: '\" + str(ingType) + \"'})\"\n",
    "        \n",
    "    cGraph.query(addNode)"
   ]
  },
  {
   "cell_type": "code",
   "execution_count": 104,
   "metadata": {},
   "outputs": [],
   "source": [
    "for recipe in uniqueRecipe:\n",
    "    addNode = \"CREATE (n:Recipe {name : '\" + recipe[0].replace(\"'\", \"-\") + \"', link : '\" + recipe[1] + \"'})\"\n",
    "    cGraph.query(addNode)"
   ]
  },
  {
   "cell_type": "code",
   "execution_count": 71,
   "metadata": {},
   "outputs": [
    {
     "data": {
      "text/html": [
       "<div>\n",
       "<style scoped>\n",
       "    .dataframe tbody tr th:only-of-type {\n",
       "        vertical-align: middle;\n",
       "    }\n",
       "\n",
       "    .dataframe tbody tr th {\n",
       "        vertical-align: top;\n",
       "    }\n",
       "\n",
       "    .dataframe thead th {\n",
       "        text-align: right;\n",
       "    }\n",
       "</style>\n",
       "<table border=\"1\" class=\"dataframe\">\n",
       "  <thead>\n",
       "    <tr style=\"text-align: right;\">\n",
       "      <th></th>\n",
       "      <th>First Ingredient</th>\n",
       "      <th>Second Ingredient</th>\n",
       "      <th>Normalised Weight</th>\n",
       "    </tr>\n",
       "  </thead>\n",
       "  <tbody>\n",
       "    <tr>\n",
       "      <th>0</th>\n",
       "      <td>eggplant</td>\n",
       "      <td>salt</td>\n",
       "      <td>0.000000</td>\n",
       "    </tr>\n",
       "    <tr>\n",
       "      <th>1</th>\n",
       "      <td>eggplant</td>\n",
       "      <td>olive_oil</td>\n",
       "      <td>0.049180</td>\n",
       "    </tr>\n",
       "    <tr>\n",
       "      <th>2</th>\n",
       "      <td>eggplant</td>\n",
       "      <td>onion</td>\n",
       "      <td>0.032787</td>\n",
       "    </tr>\n",
       "    <tr>\n",
       "      <th>3</th>\n",
       "      <td>eggplant</td>\n",
       "      <td>garlic</td>\n",
       "      <td>0.000000</td>\n",
       "    </tr>\n",
       "    <tr>\n",
       "      <th>4</th>\n",
       "      <td>eggplant</td>\n",
       "      <td>green_bell_pepper</td>\n",
       "      <td>0.000000</td>\n",
       "    </tr>\n",
       "    <tr>\n",
       "      <th>...</th>\n",
       "      <td>...</td>\n",
       "      <td>...</td>\n",
       "      <td>...</td>\n",
       "    </tr>\n",
       "    <tr>\n",
       "      <th>43951</th>\n",
       "      <td>cranberry</td>\n",
       "      <td>yogurt</td>\n",
       "      <td>0.000000</td>\n",
       "    </tr>\n",
       "    <tr>\n",
       "      <th>43952</th>\n",
       "      <td>cranberry</td>\n",
       "      <td>rum</td>\n",
       "      <td>0.000000</td>\n",
       "    </tr>\n",
       "    <tr>\n",
       "      <th>43953</th>\n",
       "      <td>400g</td>\n",
       "      <td>yogurt</td>\n",
       "      <td>0.000000</td>\n",
       "    </tr>\n",
       "    <tr>\n",
       "      <th>43954</th>\n",
       "      <td>400g</td>\n",
       "      <td>rum</td>\n",
       "      <td>0.000000</td>\n",
       "    </tr>\n",
       "    <tr>\n",
       "      <th>43955</th>\n",
       "      <td>yogurt</td>\n",
       "      <td>rum</td>\n",
       "      <td>0.000000</td>\n",
       "    </tr>\n",
       "  </tbody>\n",
       "</table>\n",
       "<p>43956 rows × 3 columns</p>\n",
       "</div>"
      ],
      "text/plain": [
       "      First Ingredient  Second Ingredient  Normalised Weight\n",
       "0             eggplant               salt           0.000000\n",
       "1             eggplant          olive_oil           0.049180\n",
       "2             eggplant              onion           0.032787\n",
       "3             eggplant             garlic           0.000000\n",
       "4             eggplant  green_bell_pepper           0.000000\n",
       "...                ...                ...                ...\n",
       "43951        cranberry             yogurt           0.000000\n",
       "43952        cranberry                rum           0.000000\n",
       "43953             400g             yogurt           0.000000\n",
       "43954             400g                rum           0.000000\n",
       "43955           yogurt                rum           0.000000\n",
       "\n",
       "[43956 rows x 3 columns]"
      ]
     },
     "execution_count": 71,
     "metadata": {},
     "output_type": "execute_result"
    }
   ],
   "source": [
    "ingPairWeights = pandas.read_csv('../CSV/ingPairWeights.csv')\n",
    "ingPairWeights"
   ]
  },
  {
   "cell_type": "code",
   "execution_count": null,
   "metadata": {},
   "outputs": [],
   "source": [
    "for index, row in ingPairWeights.iterrows():\n",
    "    row[0] = row[0].replace(\"'\", \"-\")\n",
    "    row[1] = row[1].replace(\"'\", \"-\")\n",
    "\n",
    "    exists = cGraph.query(\"MATCH ({name : '\" + row[0] + \"'})-[r]->({name : '\" + row[1] + \"'}) RETURN r\")\n",
    "    exists = exists.data()\n",
    "\n",
    "    if len(exists) == 0 and row[2] != 0:\n",
    "        addEdge = \"MATCH (a:Ingredient), (b:Ingredient) WHERE a.name = '\" + row[0] + \"' AND b.name = '\" + row[1] + \"' CREATE (a)-[r:CommonRecipes {weight:\" + str(row[2]) + \" }]->(b) RETURN type(r)\"\n",
    "        cGraph.query(addEdge)"
   ]
  },
  {
   "cell_type": "code",
   "execution_count": null,
   "metadata": {},
   "outputs": [],
   "source": []
  }
 ],
 "metadata": {
  "interpreter": {
   "hash": "40705e9542a8b496168c7de40fc20a1bf74806b2ae9ef80841c701ebaf97a414"
  },
  "kernelspec": {
   "display_name": "Python 3.9.10 64-bit (windows store)",
   "language": "python",
   "name": "python3"
  },
  "language_info": {
   "codemirror_mode": {
    "name": "ipython",
    "version": 3
   },
   "file_extension": ".py",
   "mimetype": "text/x-python",
   "name": "python",
   "nbconvert_exporter": "python",
   "pygments_lexer": "ipython3",
   "version": "3.9.10"
  },
  "orig_nbformat": 4
 },
 "nbformat": 4,
 "nbformat_minor": 2
}
