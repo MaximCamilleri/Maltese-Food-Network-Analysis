{
 "cells": [
  {
   "cell_type": "code",
   "execution_count": 2,
   "metadata": {},
   "outputs": [],
   "source": [
    "import pandas as pd"
   ]
  },
  {
   "cell_type": "code",
   "execution_count": 3,
   "metadata": {},
   "outputs": [],
   "source": [
    "RecList = pd.read_csv('../CSV/recipeList.csv')"
   ]
  },
  {
   "cell_type": "code",
   "execution_count": 10,
   "metadata": {},
   "outputs": [],
   "source": [
    "iwDict = {}\n",
    "\n",
    "for row in RecList.iterrows():\n",
    "    curRecipe = row[1][0]\n",
    "    \n",
    "    if row[1][1] in iwDict:\n",
    "        iwDict[row[1][1]] += 1\n",
    "    else:\n",
    "        iwDict[row[1][1]] = 0"
   ]
  },
  {
   "cell_type": "code",
   "execution_count": 11,
   "metadata": {},
   "outputs": [
    {
     "name": "stdout",
     "output_type": "stream",
     "text": [
      "{'eggplant': 4, 'salt': 26, 'olive_oil': 146, 'onion': 84, 'garlic': 99, 'green_bell_pepper': 0, 'carrot': 17, 'tomato': 114, 'celery_salt': 1, 'caper': 31, 'black_olive': 17, 'thyme': 18, 'basil': 14, 'oregano': 26, 'red_wine_vinegar': 0, 'sugar': 62, 'pepper': 98, 'corn_flour': 19, 'water': 46, 'butter': 38, 'zucchini': 4, 'pumpkin': 3, 'green_pepper': 2, 'parsley': 69, 'mint': 5, 'egg': 61, 'ricotta': 21, 'goiaba': 0, 'anchova': 4, 'red_onion': 24, 'anise': 6, 'cinnamon': 14, 'green_leaves': 29, 'white_pepper': 1, 'lemon': 69, 'orange': 16, 'fresh_cheese': 25, 'rabbit': 9, 'vegetable_broth': 8, 'curry': 6, 'turmeric': 0, 'paprika': 6, 'cumin': 5, 'chicken': 24, 'potato': 32, 'pea': 8, 'red_wine': 16, 'clove': 11, 'pizza_dough': 2, 'icing_sugar': 21, 'Qing_Pi': 4, 'salted_butter': 10, 'orange_blossom': 0, 'marzapane': 0, 'salmon_eggs': 19, 'white_meat': 14, 'bacon': 9, 'beef': 19, 'pork': 26, 'nutmeg': 7, 'pasta': 0, 'parmesan': 29, 'puff_pastry': 3, 'milk': 11, 'schalotte': 0, 'broad_bean': 10, 'chilli': 16, 'pear': 0, 'sweet_pepper': 0, 'almond_milk': 4, 'amarena': 0, 'vanilla': 18, 'apple': 11, 'dried_grapes': 3, 'grated_cheese': 23, 'raisin': 13, 'five_spices': 13, 'whipped_cream': 0, 'sea_almonds': 8, 'soy_sauce': 44, 'brown_sugar': 3, 'albahaca': 0, 'Jie_Mo': 0, 'mustard': 23, 'honey': 8, 'white_wine': 12, 'rosemary': 14, 'mushroom': 2, 'rice': 3, 'peach': 2, 'rye_flour': 6, 'wheat_flour': 0, 'joghurt': 9, 'date': 1, 'concentrated_milk': 2, 'whiskey': 1, 'biscuit': 4, 'hazelnut': 3, 'apricot': 1, 'chocolate': 15, 'anchovy': 19, 'tuna': 23, 'fish': 0, 'semolina': 5, 'margarine': 0, 'raclette': 0, 'mandarin': 1, 'wholemeal_bread': 0, 'aromatic_herbs': 0, 'olive': 17, 'artichoke': 5, 'cocoa': 6, 'chestnut': 1, 'sesame': 5, 'bread': 8, 'flour': 20, 'almond': 8, 'berries': 4, 'whisky': 0, 'macaroni': 0, 'blue_cheese': 25, 'steak': 3, 'veal': 1, 'shallots': 3, 'sherry_vinegar': 1, 'porto': 1, 'sausage': 10, 'rocket': 1, 'bran': 2, 'truffle_oil': 0, 'truffle': 0, 'herbs_of_provence': 0, 'erva_doce': 5, 'breadcrumbs': 23, 'Ying_Su': 0, 'Lian_Ru': 0, 'mozzarella': 18, 'cream_cheese': 6, 'pasta_sfoglia': 7, 'spinach': 10, 'shells': 1, \"mont_d'or\": 0, 'mussel': 0, 'acqua': 6, 'green_olive': 1, 'ham': 4, 'pesto': 2, 'sunflower_oil': 12, 'mascarpone': 7, 'ginger': 4, 'coffee': 1, 'broccoli': 3, 'the': 1, 'walnut': 3, 'pomegranate': 1, 'aceto_balsamico': 1, 'He_Tao': 1, 'maple_syrup': 7, 'calamari': 1, 'white_bread': 1, 'hard_cheese': 3, 'chili_pepper': 1, 'henne': 3, 'fresa': 1, 'wild_strawberry': 1, 'sour_cream': 9, 'shortcrust_pastry': 1, 'filling': 16, 'sheep': 3, 'cornstarch': 1, 'red_cabbage': 5, 'balsamic_vinegar': 5, 'groundcherry': 1, 'lettuce': 4, 'Ning_Ru': 4, 'cabbage': 1, 'pastry': 8, 'ananas': 3, 'fennel': 1, 'stockente': 3, 'smoked_paprika': 12, 'goat_cheese': 10, 'pistachio': 1, 'ceci': 11, 'cannelle': 1, 'lasagna': 1, 'cauliflower': 11, 'mung_bean': 3, 'cheddar': 11, 'quince': 2, 'currant': 3, 'eel': 3, 'whole_macaroni': 1, 'salade': 8, 'soft_bread': 1, 'vinaigrette': 9, 'rucola': 6, 'cherry_tomato': 4, 'pate_brisee': 1, 'psillio': 1, 'corn': 4, 'rapsol': 1, 'avocado': 5, 'kidney_bean': 1, 'tortilla': 7, 'sucre_glace': 1, 'canela': 1, 'tbsp': 6, 'tsp': 10, 'chick_pea_flour': 1, 'latte': 1, 'aubergine': 9, 'pickle': 1, 'riso': 1, 'salmon': 2, 'smoker_salmon': 2, 'erbse_gespalten': 1, 'sandwichbrot': 1, 'cucumber': 3, 'speck': 3, 'smoked_trout': 3, 'strawberry': 2, 'cashew': 1, 'chili': 1, 'pancetta': 2, 'marjoram': 2, 'spaghetti': 6, 'red_meat': 2, 'gressin': 4, 'Ma_He': 1, 'spargel': 1, 'fines_herbs_vinaigrette': 2, 'yeast': 3, 'huile_d_olive': 9, 'galletto': 1, 'makkaroni': 1, 'rye_bread': 3, 'yellow_bell_pepper': 1, 'prawn': 2, 'courgette': 4, 'caviar': 3, 'chitterlings': 1, 'pasta_pizza': 1, 'vermicelli': 1, 'leek': 4, 'melisse': 1, 'split_pea': 3, 'jerusalem_artichoke': 1, 'cetriolo': 1, 'rusk': 1, 'mother_dough': 1, 'Ya_Ma_Zi': 1, 'white_chocolate': 2, 'viande_blanche': 1, 'koriander': 1, 'x150g': 1, 'buttermilk': 6, 'beet': 1, 'red_potato': 2, 'pine_nut': 3, 'toast': 1, 'nouilles': 1, 'bell_pepper': 0, 'vinagre_balsamico': 1, 'pigeon': 0, 'raisin_sec': 0, 'pumpkin_seeds': 0, 'sauerkirsche': 1, 'courge': 0, 'lapereau': 0, 'the_vert': 0, '4': 0, 'cup': 3, 'sweet_vera_paprika': 1, 'cannelloni': 0, 'An_Chun': 0, 'shrimp': 0, 'lasagne': 1, 'penne_rigate': 0, 'parmigiano': 0, 'fennel_seeds': 0, 'ice': 0, 'Qing_Wa': 0, 'sojasauce': 0, 'red_fish': 0, 'coconut': 0, 'feta': 0, 'filet': 0, 'saffron': 0, 'navy_bean': 0, 'bone_marrow': 0, 'octopus': 0, 'tangerine': 1, 'cranberry': 0, '400g': 0, 'yogurt': 0, 'rum': 0}\n"
     ]
    }
   ],
   "source": [
    "print(iwDict)"
   ]
  }
 ],
 "metadata": {
  "interpreter": {
   "hash": "1f8d80d535cfd832283e4e3a1095d2ce45fe6627336684f2622a1965babb2f1c"
  },
  "kernelspec": {
   "display_name": "Python 3.9.10 64-bit (windows store)",
   "language": "python",
   "name": "python3"
  },
  "language_info": {
   "codemirror_mode": {
    "name": "ipython",
    "version": 3
   },
   "file_extension": ".py",
   "mimetype": "text/x-python",
   "name": "python",
   "nbconvert_exporter": "python",
   "pygments_lexer": "ipython3",
   "version": "3.9.10"
  },
  "orig_nbformat": 4
 },
 "nbformat": 4,
 "nbformat_minor": 2
}
