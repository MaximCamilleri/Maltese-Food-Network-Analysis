{
 "cells": [
  {
   "cell_type": "markdown",
   "metadata": {},
   "source": [
    "# Computing Graph Weights\n",
    "---"
   ]
  },
  {
   "cell_type": "code",
   "execution_count": 2,
   "metadata": {},
   "outputs": [],
   "source": [
    "import pandas as pd"
   ]
  },
  {
   "cell_type": "code",
   "execution_count": 3,
   "metadata": {},
   "outputs": [],
   "source": [
    "RecList = pd.read_csv('../CSV/recipeList.csv')\n",
    "ingr_info = pd.read_csv('../CSV/Compound CSVs/ingr_info.tsv', sep=\"\\t\")\n",
    "ingr_comp = pd.read_csv('../CSV/Compound CSVs/ingr_comp.tsv', sep=\"\\t\")"
   ]
  },
  {
   "cell_type": "markdown",
   "metadata": {},
   "source": [
    "## Getting the occurrences of each ingredient\n",
    "\n",
    "This is done by looping over each row in the recipeList dataStructure and creating a new dictionary key for each new ingredient. If an ingredient is already in the dictionary then 1 is added to its value. "
   ]
  },
  {
   "cell_type": "code",
   "execution_count": 4,
   "metadata": {},
   "outputs": [],
   "source": [
    "ioDict = {}\n",
    "\n",
    "for row in RecList.iterrows(): \n",
    "      \n",
    "    if row[1][1] in ioDict:\n",
    "        ioDict[row[1][1]] += 1\n",
    "    else:\n",
    "        ioDict[row[1][1]] = 0 # should this be 1\n"
   ]
  },
  {
   "cell_type": "markdown",
   "metadata": {},
   "source": [
    "Next we find the value of the ingredient that apers the most "
   ]
  },
  {
   "cell_type": "code",
   "execution_count": 5,
   "metadata": {},
   "outputs": [],
   "source": [
    "maxVal = 0\n",
    "for key, val in ioDict.items():\n",
    "    if val > maxVal:\n",
    "        maxVal = val\n",
    "    else:\n",
    "        continue"
   ]
  },
  {
   "cell_type": "markdown",
   "metadata": {},
   "source": [
    "The values are then normalized to make them easier to work with down the line"
   ]
  },
  {
   "cell_type": "code",
   "execution_count": 6,
   "metadata": {},
   "outputs": [],
   "source": [
    "for key, val in ioDict.items():\n",
    "    ioDict[key] = val/maxVal"
   ]
  },
  {
   "cell_type": "markdown",
   "metadata": {},
   "source": [
    "Next we calculate all the possible combinations of ingredients. This is done using a simple nested for loop setup"
   ]
  },
  {
   "cell_type": "code",
   "execution_count": 7,
   "metadata": {},
   "outputs": [],
   "source": [
    "ingPairs = []\n",
    "keyList = list(ioDict.keys())\n",
    "\n",
    "for key1idx in range(0, len(keyList)):\n",
    "    for key2idx in range((key1idx + 1), len(keyList)):\n",
    "        temp = []\n",
    "        temp.append(keyList[key1idx])\n",
    "        temp.append(keyList[key2idx])\n",
    "        ingPairs.append(temp)\n",
    "\n",
    "del temp\n",
    "del keyList"
   ]
  },
  {
   "cell_type": "markdown",
   "metadata": {},
   "source": [
    "## Calculating the weighted value for common recipes"
   ]
  },
  {
   "cell_type": "code",
   "execution_count": 8,
   "metadata": {},
   "outputs": [],
   "source": [
    "ipWeights = [0] * len(ingPairs) # ingredient pair weights array"
   ]
  },
  {
   "cell_type": "code",
   "execution_count": 9,
   "metadata": {},
   "outputs": [],
   "source": [
    "curRecipe = ''\n",
    "ingList = []\n",
    "for row in RecList.iterrows():\n",
    "    if curRecipe == row[1][0]:\n",
    "        ingList.append(row[1][1])\n",
    "    else:\n",
    "        curRecipe = row[1][0]\n",
    "        for pairidx in range(0, len(ingPairs)):\n",
    "            if ingPairs[pairidx][0] in ingList and ingPairs[pairidx][1] in ingList:\n",
    "                ipWeights[pairidx] += 1\n",
    "        ingList = []\n",
    "\n",
    "del ingList"
   ]
  },
  {
   "cell_type": "code",
   "execution_count": 10,
   "metadata": {},
   "outputs": [],
   "source": [
    "normIPweights = [0] * len(ipWeights)\n",
    "maxWeight = max(ipWeights)\n",
    "\n",
    "for idx in range(0, len(ipWeights)):\n",
    "    normIPweights[idx] = ipWeights[idx]/maxWeight"
   ]
  },
  {
   "cell_type": "markdown",
   "metadata": {},
   "source": [
    "## Calculating the weighted value for common compounds"
   ]
  },
  {
   "cell_type": "code",
   "execution_count": 11,
   "metadata": {},
   "outputs": [],
   "source": [
    "import enum\n",
    "\n",
    "class findingCompounds(enum.Enum):\n",
    "   looking = 1\n",
    "   found = 2\n",
    "   done = 3"
   ]
  },
  {
   "cell_type": "code",
   "execution_count": 12,
   "metadata": {},
   "outputs": [],
   "source": [
    "def findIndex(ingName):\n",
    "    for row in ingr_info.iterrows():\n",
    "        if row[1][1] == ingName:\n",
    "            return row[1][0]\n",
    "    return -1"
   ]
  },
  {
   "cell_type": "code",
   "execution_count": 13,
   "metadata": {},
   "outputs": [],
   "source": [
    "def findCompounds(ingID):\n",
    "    tracker = findingCompounds.looking\n",
    "    rowCounter = 0\n",
    "    compList = []\n",
    "\n",
    "    while (rowCounter < len(ingr_comp)) & (tracker != findingCompounds.done):\n",
    "        if(ingr_comp['# ingredient id'][rowCounter] == ingID):\n",
    "            if tracker != findingCompounds.found:\n",
    "                tracker = findingCompounds.found\n",
    "            \n",
    "            compList.append(ingr_comp['compound id'])\n",
    "\n",
    "        elif tracker == findingCompounds.found:\n",
    "            tracker = findingCompounds.done\n",
    "        rowCounter  += 1\n",
    "    \n",
    "    return compList"
   ]
  },
  {
   "cell_type": "code",
   "execution_count": 14,
   "metadata": {},
   "outputs": [],
   "source": [
    "def intersection(lst1, lst2):\n",
    "    lst3 = [value for value in lst1 if value in lst2]\n",
    "    return lst3"
   ]
  },
  {
   "cell_type": "code",
   "execution_count": 15,
   "metadata": {},
   "outputs": [],
   "source": [
    "epWeights = [0] * len(ingPairs) # element pair weights array"
   ]
  },
  {
   "cell_type": "code",
   "execution_count": 16,
   "metadata": {},
   "outputs": [],
   "source": [
    "for rowIndex in range(0, len(ingPairs)):\n",
    "    ing1Id = findIndex(ingPairs[rowIndex][0])\n",
    "    ing2Id = findIndex(ingPairs[rowIndex][1])\n",
    "\n",
    "    if(ing1Id == -1 or ing2Id == -1):\n",
    "        epWeights[rowIndex] = -1\n",
    "    else:\n",
    "        ing1Comp = findCompounds(ing1Id)\n",
    "        ing2Comp = findCompounds(ing2Id)\n",
    "        epWeights[rowIndex] = len(intersection(ing2Comp, ing1Comp))"
   ]
  },
  {
   "cell_type": "code",
   "execution_count": 17,
   "metadata": {},
   "outputs": [
    {
     "name": "stdout",
     "output_type": "stream",
     "text": [
      "38226 38226\n"
     ]
    }
   ],
   "source": [
    "print(len(epWeights), len(ingPairs))"
   ]
  },
  {
   "cell_type": "code",
   "execution_count": 18,
   "metadata": {},
   "outputs": [],
   "source": [
    "normEPweights = [0] * len(epWeights)\n",
    "maxWeight = max(epWeights)\n",
    "\n",
    "tempWeights = []\n",
    "for i in epWeights:\n",
    "    if i != -1:\n",
    "        tempWeights.append(i)\n",
    "\n",
    "minWeight = min(tempWeights)\n",
    "\n",
    "for idx in range(0, len(epWeights)):\n",
    "    if epWeights[idx] != -1:\n",
    "        normEPweights[idx] = (epWeights[idx] - minWeight) / (maxWeight - minWeight)\n",
    "    else:\n",
    "        normEPweights[idx] = epWeights"
   ]
  },
  {
   "cell_type": "markdown",
   "metadata": {},
   "source": [
    "## Creating the weights CSV"
   ]
  },
  {
   "cell_type": "code",
   "execution_count": 19,
   "metadata": {},
   "outputs": [],
   "source": [
    "firstIng = []\n",
    "secondIng = []\n",
    "\n",
    "for idx in range(0, len(ingPairs)):\n",
    "    firstIng.append(ingPairs[idx][0])\n",
    "    secondIng.append(ingPairs[idx][1])"
   ]
  },
  {
   "cell_type": "code",
   "execution_count": 20,
   "metadata": {},
   "outputs": [],
   "source": [
    "ingPairWeights = pd.DataFrame(list(zip(firstIng, secondIng, normIPweights, normEPweights)), columns=['First Ingredient', 'Second Ingredient', 'Normalized Common Recipe Weight', 'Normalized Common Compound weight'])"
   ]
  },
  {
   "cell_type": "code",
   "execution_count": 21,
   "metadata": {},
   "outputs": [],
   "source": [
    "ingPairWeights.to_csv(\"../CSV/ingPairWeights2.csv\", index = False)"
   ]
  }
 ],
 "metadata": {
  "interpreter": {
   "hash": "1f8d80d535cfd832283e4e3a1095d2ce45fe6627336684f2622a1965babb2f1c"
  },
  "kernelspec": {
   "display_name": "Python 3.9.10 64-bit (windows store)",
   "language": "python",
   "name": "python3"
  },
  "language_info": {
   "codemirror_mode": {
    "name": "ipython",
    "version": 3
   },
   "file_extension": ".py",
   "mimetype": "text/x-python",
   "name": "python",
   "nbconvert_exporter": "python",
   "pygments_lexer": "ipython3",
   "version": "3.9.10"
  },
  "orig_nbformat": 4
 },
 "nbformat": 4,
 "nbformat_minor": 2
}
