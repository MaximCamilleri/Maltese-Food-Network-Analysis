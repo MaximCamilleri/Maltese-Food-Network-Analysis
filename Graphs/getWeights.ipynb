{
 "cells": [
  {
   "cell_type": "code",
   "execution_count": 16,
   "metadata": {},
   "outputs": [],
   "source": [
    "import pandas as pd"
   ]
  },
  {
   "cell_type": "code",
   "execution_count": 17,
   "metadata": {},
   "outputs": [],
   "source": [
    "RecList = pd.read_csv('../CSV/recipeList.csv')"
   ]
  },
  {
   "cell_type": "code",
   "execution_count": 18,
   "metadata": {},
   "outputs": [],
   "source": [
    "ioDict = {}\n",
    "\n",
    "for row in RecList.iterrows():    \n",
    "    if row[1][1] in ioDict:\n",
    "        ioDict[row[1][1]] += 1\n",
    "    else:\n",
    "        ioDict[row[1][1]] = 0"
   ]
  },
  {
   "cell_type": "code",
   "execution_count": 19,
   "metadata": {},
   "outputs": [],
   "source": [
    "maxVal = 0\n",
    "for key, val in ioDict.items():\n",
    "    if val > maxVal:\n",
    "        maxVal = val\n",
    "    else:\n",
    "        continue"
   ]
  },
  {
   "cell_type": "code",
   "execution_count": 20,
   "metadata": {},
   "outputs": [],
   "source": [
    "for key, val in ioDict.items():\n",
    "    ioDict[key] = val/maxVal"
   ]
  },
  {
   "cell_type": "code",
   "execution_count": 27,
   "metadata": {},
   "outputs": [],
   "source": [
    "ingPairs = []\n",
    "keyList = list(ioDict.keys())\n",
    "\n",
    "for key1idx in range(0, len(keyList)):\n",
    "    for key2idx in range((key1idx + 1), len(keyList)):\n",
    "        temp = []\n",
    "        temp.append(keyList[key1idx])\n",
    "        temp.append(keyList[key2idx])\n",
    "        ingPairs.append(temp)\n",
    "\n",
    "del temp\n",
    "del keyList"
   ]
  },
  {
   "cell_type": "code",
   "execution_count": 28,
   "metadata": {},
   "outputs": [],
   "source": [
    "ipWeights = [0] * len(ingPairs)"
   ]
  },
  {
   "cell_type": "code",
   "execution_count": 29,
   "metadata": {},
   "outputs": [],
   "source": [
    "curRecipe = ''\n",
    "ingList = []\n",
    "for row in RecList.iterrows():\n",
    "    if curRecipe == row[1][0]:\n",
    "        ingList.append(row[1][1])\n",
    "    else:\n",
    "        curRecipe = row[1][0]\n",
    "        for pairidx in range(0, len(ingPairs)):\n",
    "            if ingPairs[pairidx][0] in ingList and ingPairs[pairidx][1] in ingList:\n",
    "                ipWeights[pairidx] += 1\n",
    "        ingList = []\n",
    "\n",
    "del ingList"
   ]
  },
  {
   "cell_type": "code",
   "execution_count": 32,
   "metadata": {},
   "outputs": [
    {
     "name": "stdout",
     "output_type": "stream",
     "text": [
      "43956 43956\n"
     ]
    }
   ],
   "source": [
    "print(len(ipWeights), len(ingPairs))"
   ]
  },
  {
   "cell_type": "code",
   "execution_count": 33,
   "metadata": {},
   "outputs": [],
   "source": [
    "normIPweights = [0] * len(ipWeights)"
   ]
  },
  {
   "cell_type": "code",
   "execution_count": 34,
   "metadata": {},
   "outputs": [],
   "source": [
    "maxWeight = max(ipWeights)\n",
    "\n",
    "for idx in range(0, len(ipWeights)):\n",
    "    normIPweights[idx] = ipWeights[idx]/maxWeight"
   ]
  },
  {
   "cell_type": "code",
   "execution_count": 37,
   "metadata": {},
   "outputs": [],
   "source": [
    "firstIng = []\n",
    "secondIng = []\n",
    "\n",
    "for idx in range(0, len(ingPairs)):\n",
    "    firstIng.append(ingPairs[idx][0])\n",
    "    secondIng.append(ingPairs[idx][1])"
   ]
  },
  {
   "cell_type": "code",
   "execution_count": 38,
   "metadata": {},
   "outputs": [],
   "source": [
    "ingPairWeights = pd.DataFrame(list(zip(firstIng, secondIng, normIPweights)), columns=['First Ingredient', 'Second Ingredient', 'Normalised Weight'])"
   ]
  },
  {
   "cell_type": "code",
   "execution_count": null,
   "metadata": {},
   "outputs": [],
   "source": [
    "ingPairWeights.to_csv(\"../CSV/ingPairWeights.csv\", index = False)"
   ]
  }
 ],
 "metadata": {
  "interpreter": {
   "hash": "1f8d80d535cfd832283e4e3a1095d2ce45fe6627336684f2622a1965babb2f1c"
  },
  "kernelspec": {
   "display_name": "Python 3.9.10 64-bit (windows store)",
   "language": "python",
   "name": "python3"
  },
  "language_info": {
   "codemirror_mode": {
    "name": "ipython",
    "version": 3
   },
   "file_extension": ".py",
   "mimetype": "text/x-python",
   "name": "python",
   "nbconvert_exporter": "python",
   "pygments_lexer": "ipython3",
   "version": "3.9.10"
  },
  "orig_nbformat": 4
 },
 "nbformat": 4,
 "nbformat_minor": 2
}
