{
 "cells": [
  {
   "cell_type": "code",
   "execution_count": 2,
   "metadata": {},
   "outputs": [],
   "source": [
    "import pyfood as pyf\n",
    "import openfoodfacts"
   ]
  },
  {
   "cell_type": "code",
   "execution_count": null,
   "metadata": {},
   "outputs": [],
   "source": [
    "shelf = pyf.Shelf(region='Italy', month_id=0)\n",
    "\n",
    "results = shelf.process_ingredients(['eggs'])\n",
    "\n",
    "try:\n",
    "    temp = results['ingredients'][0]['foodname'] # vegetarian, vegan, nutrition, seasonality\n",
    "except:\n",
    "    temp = results['HS'][0]\n",
    "\n",
    "temp\n",
    "\n",
    "categories = openfoodfacts.facets.get_categories()\n",
    "\n",
    "categories"
   ]
  },
  {
   "cell_type": "code",
   "execution_count": 11,
   "metadata": {},
   "outputs": [
    {
     "ename": "AttributeError",
     "evalue": "module 'openfoodfacts.openbeautyfacts' has no attribute 'products'",
     "output_type": "error",
     "traceback": [
      "\u001b[1;31m---------------------------------------------------------------------------\u001b[0m",
      "\u001b[1;31mAttributeError\u001b[0m                            Traceback (most recent call last)",
      "\u001b[1;32mc:\\Users\\maxma\\Documents\\GitHub Projects\\Maltese-Food-Network-Analysis\\test.ipynb Cell 3'\u001b[0m in \u001b[0;36m<module>\u001b[1;34m\u001b[0m\n\u001b[1;32m----> <a href='vscode-notebook-cell:/c%3A/Users/maxma/Documents/GitHub%20Projects/Maltese-Food-Network-Analysis/test.ipynb#ch0000003?line=0'>1</a>\u001b[0m \u001b[39mfor\u001b[39;00m product \u001b[39min\u001b[39;00m openfoodfacts\u001b[39m.\u001b[39;49mbeauty_products\u001b[39m.\u001b[39;49mproducts\u001b[39m.\u001b[39msearch(temp):\n\u001b[0;32m      <a href='vscode-notebook-cell:/c%3A/Users/maxma/Documents/GitHub%20Projects/Maltese-Food-Network-Analysis/test.ipynb#ch0000003?line=1'>2</a>\u001b[0m     \u001b[39mprint\u001b[39m (product[\u001b[39m'\u001b[39m\u001b[39mproduct_name\u001b[39m\u001b[39m'\u001b[39m])\n",
      "\u001b[1;31mAttributeError\u001b[0m: module 'openfoodfacts.openbeautyfacts' has no attribute 'products'"
     ]
    }
   ],
   "source": [
    "for product in openfoodfacts.beauty_products.products.search(temp):\n",
    "    print (product['product_name'])"
   ]
  }
 ],
 "metadata": {
  "interpreter": {
   "hash": "69eb92836b941e979072a76c7fcfffe5419cca933cedd02cfafbdfca1a93358c"
  },
  "kernelspec": {
   "display_name": "Python 3.9.10 64-bit",
   "language": "python",
   "name": "python3"
  },
  "language_info": {
   "codemirror_mode": {
    "name": "ipython",
    "version": 3
   },
   "file_extension": ".py",
   "mimetype": "text/x-python",
   "name": "python",
   "nbconvert_exporter": "python",
   "pygments_lexer": "ipython3",
   "version": "3.9.10"
  },
  "orig_nbformat": 4
 },
 "nbformat": 4,
 "nbformat_minor": 2
}
