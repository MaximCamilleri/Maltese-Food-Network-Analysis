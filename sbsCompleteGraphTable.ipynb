{
 "cells": [
  {
   "cell_type": "code",
   "execution_count": 1,
   "metadata": {},
   "outputs": [],
   "source": [
    "import pandas"
   ]
  },
  {
   "cell_type": "code",
   "execution_count": 6,
   "metadata": {},
   "outputs": [],
   "source": [
    "weightsTable = pandas.read_csv('CSV/sbsComboWeights.csv')\n",
    "firstIngs = []\n",
    "secondIngs = []\n",
    "normWeights = []\n",
    "\n",
    "for row in weightsTable.iterrows():\n",
    "    firstIngs.append(row[1][0])\n",
    "    secondIngs.append(row[1][1])\n",
    "    normWeights.append(row[1][2])"
   ]
  },
  {
   "cell_type": "code",
   "execution_count": 22,
   "metadata": {},
   "outputs": [],
   "source": [
    "categoriesTable = pandas.read_csv('CSV/sbsRecipes3.cat.csv')\n",
    "ingCat = {}\n",
    "ingIdx = {}\n",
    "\n",
    "for row in categoriesTable.iterrows():\n",
    "    ingCat[row[1][3]] = row[1][4]\n",
    "    ingIdx[row[1][3]] = row[1][5]"
   ]
  },
  {
   "cell_type": "code",
   "execution_count": 19,
   "metadata": {},
   "outputs": [],
   "source": [
    "firstCategory = []\n",
    "secondCategory = []\n",
    "\n",
    "for index in range(0, len(firstIngs)):\n",
    "    firstStr = ingCat[firstIngs[index].replace(' ', '_')]\n",
    "    secondStr = ingCat[secondIngs[index].replace(' ', '_')]\n",
    "    firstCategory.append(firstStr)\n",
    "    secondCategory.append(secondStr)  "
   ]
  },
  {
   "cell_type": "code",
   "execution_count": 33,
   "metadata": {},
   "outputs": [],
   "source": [
    "ingsCompTable = pandas.read_csv('CSV/sbsCommonComp.csv')\n",
    "commonComp = []\n",
    "\n",
    "for index in range(0, len(firstIngs)):\n",
    "    found = False\n",
    "    for row in ingsCompTable.iterrows():\n",
    "        if row[1][0] == ingIdx[firstIngs[index].replace(' ', '_')] and row[1][1] == ingIdx[secondIngs[index].replace(' ', '_')]:\n",
    "            commonComp.append(row[1][2])\n",
    "            found = True\n",
    "            break\n",
    "        else:\n",
    "            continue\n",
    "    if found == False:\n",
    "        commonComp.append(0)"
   ]
  },
  {
   "cell_type": "code",
   "execution_count": 34,
   "metadata": {},
   "outputs": [],
   "source": [
    "maxComComp = max(commonComp)\n",
    "normComComp = [i/maxComComp for i in commonComp]"
   ]
  },
  {
   "cell_type": "code",
   "execution_count": 36,
   "metadata": {},
   "outputs": [
    {
     "name": "stdout",
     "output_type": "stream",
     "text": [
      "1319\n",
      "1319\n",
      "1319\n",
      "1319\n",
      "1319\n",
      "1319\n"
     ]
    }
   ],
   "source": [
    "print(len(firstIngs))\n",
    "print(len(secondIngs))\n",
    "print(len(firstCategory))\n",
    "print(len(secondCategory))\n",
    "print(len(normWeights))\n",
    "print(len(normComComp))"
   ]
  },
  {
   "cell_type": "code",
   "execution_count": 39,
   "metadata": {},
   "outputs": [],
   "source": [
    "sbsComplete = pandas.DataFrame(list(zip(firstIngs, firstCategory,secondIngs, secondCategory,normWeights, normComComp)),\n",
    "               columns =['FirstIng', 'FirstCategory','SecondIng', 'SecondCategory', 'CommonRec.n', 'CommonComp.n'])"
   ]
  },
  {
   "cell_type": "code",
   "execution_count": 40,
   "metadata": {},
   "outputs": [],
   "source": [
    "sbsComplete.to_csv('CSV/Complete.csv')"
   ]
  },
  {
   "cell_type": "code",
   "execution_count": null,
   "metadata": {},
   "outputs": [],
   "source": []
  }
 ],
 "metadata": {
  "kernelspec": {
   "display_name": "Python 3",
   "language": "python",
   "name": "python3"
  },
  "language_info": {
   "codemirror_mode": {
    "name": "ipython",
    "version": 3
   },
   "file_extension": ".py",
   "mimetype": "text/x-python",
   "name": "python",
   "nbconvert_exporter": "python",
   "pygments_lexer": "ipython3",
   "version": "3.8.5"
  }
 },
 "nbformat": 4,
 "nbformat_minor": 4
}
