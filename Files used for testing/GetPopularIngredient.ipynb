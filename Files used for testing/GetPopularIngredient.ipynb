{
 "cells": [
  {
   "cell_type": "code",
   "execution_count": 1,
   "metadata": {},
   "outputs": [],
   "source": [
    "from neo4j import GraphDatabase, basic_auth\n",
    "import nxneo4j as nx #using nxneo4j\n",
    "from py2neo import Graph, Node "
   ]
  },
  {
   "cell_type": "code",
   "execution_count": 4,
   "metadata": {},
   "outputs": [
    {
     "name": "stdout",
     "output_type": "stream",
     "text": [
      "['Olive oil', 'Garlic', 'Tomato', 'Water', 'Lemon', 'Green leaves', 'Egg', 'Parsley', 'Onion', 'Pepper']\n"
     ]
    }
   ],
   "source": [
    "cGraph = Graph(\"neo4j+s://101fd6b7.databases.neo4j.io\", auth=('neo4j', \"gB9F-fD2doYqInIcXR3DJZwnvvDWm-ZpgvOJ3BGCl54\"))\n",
    "\n",
    "query = \"MATCH (i:Ingredient)-[r:inRecipe]-(c:Recipe) RETURN i.name, count(r) AS connections ORDER BY connections DESC LIMIT 10\"\n",
    "\n",
    "result = cGraph.query(query)\n",
    "result = result.data()\n",
    "\n",
    "ret  = []\n",
    "\n",
    "for temp in result:\n",
    "    temp = str(temp).split(\"'\")\n",
    "    ret.append(temp[3].replace(\"_\", \" \").capitalize())\n",
    "\n",
    "print(ret)"
   ]
  },
  {
   "cell_type": "code",
   "execution_count": null,
   "metadata": {},
   "outputs": [],
   "source": []
  }
 ],
 "metadata": {
  "interpreter": {
   "hash": "69eb92836b941e979072a76c7fcfffe5419cca933cedd02cfafbdfca1a93358c"
  },
  "kernelspec": {
   "display_name": "Python 3.9.10 64-bit",
   "language": "python",
   "name": "python3"
  },
  "language_info": {
   "codemirror_mode": {
    "name": "ipython",
    "version": 3
   },
   "file_extension": ".py",
   "mimetype": "text/x-python",
   "name": "python",
   "nbconvert_exporter": "python",
   "pygments_lexer": "ipython3",
   "version": "3.9.10"
  },
  "orig_nbformat": 4
 },
 "nbformat": 4,
 "nbformat_minor": 2
}
