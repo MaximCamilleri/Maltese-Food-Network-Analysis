{
 "cells": [
  {
   "cell_type": "code",
   "execution_count": 1,
   "metadata": {},
   "outputs": [],
   "source": [
    "from bs4 import BeautifulSoup as bs\n",
    "import requests"
   ]
  },
  {
   "cell_type": "code",
   "execution_count": 2,
   "metadata": {},
   "outputs": [],
   "source": [
    "def compare(recipeLinks, recipeIn):\n",
    "    for i in recipeLinks:\n",
    "        if(i == recipeIn):\n",
    "            return False\n",
    "    return True\n",
    "\n",
    "def funcRecipeLinks(hrefsIn, baseLinkIn, recipeLinks):\n",
    "    for i in hrefsIn:\n",
    "        recipeLinks.append(i.get('href'))\n",
    "    return recipeLinks\n",
    "\n",
    "def printHrefs(hrefsIn):\n",
    "    for i in hrefsIn:\n",
    "        print(i.get('href'), \"\\n\")\n",
    "\n",
    "def getHrefs(articles):\n",
    "    hrefs = []\n",
    "    for article in articles:\n",
    "        categories = article.findAll(\"div\", class_=\"post_categories\");\n",
    "        for cat in categories:\n",
    "            As = cat.findAll(\"a\")\n",
    "            for a in As:\n",
    "                if(a.get('href') == \"https://littlerock.com.mt/category/food/recipes/\"):\n",
    "                    hrefs.append(article.find(\"a\"))\n",
    "    return hrefs\n"
   ]
  },
  {
   "cell_type": "code",
   "execution_count": 3,
   "metadata": {},
   "outputs": [
    {
     "name": "stdout",
     "output_type": "stream",
     "text": [
      "https://littlerock.com.mt/food/ricetta-tradizzjonali-mqarrun-il-forn-u-timpana/ \n",
      "\n",
      "https://littlerock.com.mt/food/ricetta-arancini-zghar-bit-tonn-u-l-mozzarella/ \n",
      "\n",
      "https://littlerock.com.mt/food/recipe-pudina-tal-hobz-bread-pudding/ \n",
      "\n",
      "https://littlerock.com.mt/food/traditional-maltese-recipe-baked-rice/ \n",
      "\n",
      "https://littlerock.com.mt/food/ricetta-tradizzjonali-il-bigilla/ \n",
      "\n",
      "https://littlerock.com.mt/food/maltese-traditional-recipe-stuffat-tal-qarnit-octopus-stew/ \n",
      "\n",
      "https://littlerock.com.mt/food/recipe-beef-olive-stew/ \n",
      "\n",
      "https://littlerock.com.mt/food/traditional-recipe-almond-and-chocolate-tart-torta-tal-marmurat/ \n",
      "\n",
      "https://littlerock.com.mt/food/ricetta-tradizzjonali-brungiel-mimli-bil-laham/ \n",
      "\n"
     ]
    }
   ],
   "source": [
    "mainURL = \"https://littlerock.com.mt/category/food/maltese-recipes-ricetti-minn-malta\"\n",
    "req = requests.get(mainURL)\n",
    "soup = bs(req.text, \"html.parser\")\n",
    "\n",
    "baseLink = 'https://littlerock.com.mt'\n",
    "\n",
    "articles  = soup.findAll(\"article\", class_=\"post\")\n",
    "# print(articles)\n",
    "hrefs = getHrefs(articles)\n",
    "\n",
    "printHrefs(hrefs)\n",
    "\n",
    "recipeLinks = []\n",
    "recipeLinks = funcRecipeLinks(hrefs, baseLink, recipeLinks)"
   ]
  },
  {
   "cell_type": "code",
   "execution_count": 4,
   "metadata": {},
   "outputs": [
    {
     "name": "stdout",
     "output_type": "stream",
     "text": [
      "['https://littlerock.com.mt/food/ricetta-tradizzjonali-mqarrun-il-forn-u-timpana/', 'https://littlerock.com.mt/food/ricetta-arancini-zghar-bit-tonn-u-l-mozzarella/', 'https://littlerock.com.mt/food/recipe-pudina-tal-hobz-bread-pudding/', 'https://littlerock.com.mt/food/traditional-maltese-recipe-baked-rice/', 'https://littlerock.com.mt/food/ricetta-tradizzjonali-il-bigilla/', 'https://littlerock.com.mt/food/maltese-traditional-recipe-stuffat-tal-qarnit-octopus-stew/', 'https://littlerock.com.mt/food/recipe-beef-olive-stew/', 'https://littlerock.com.mt/food/traditional-recipe-almond-and-chocolate-tart-torta-tal-marmurat/', 'https://littlerock.com.mt/food/ricetta-tradizzjonali-brungiel-mimli-bil-laham/']\n",
      "9\n"
     ]
    }
   ],
   "source": [
    "print(recipeLinks)\n",
    "print(len(recipeLinks))"
   ]
  },
  {
   "cell_type": "code",
   "execution_count": null,
   "metadata": {},
   "outputs": [],
   "source": []
  }
 ],
 "metadata": {
  "kernelspec": {
   "display_name": "Python 3",
   "language": "python",
   "name": "python3"
  },
  "language_info": {
   "codemirror_mode": {
    "name": "ipython",
    "version": 3
   },
   "file_extension": ".py",
   "mimetype": "text/x-python",
   "name": "python",
   "nbconvert_exporter": "python",
   "pygments_lexer": "ipython3",
   "version": "3.9.10"
  }
 },
 "nbformat": 4,
 "nbformat_minor": 4
}
