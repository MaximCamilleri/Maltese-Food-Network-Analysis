{
 "cells": [
  {
   "cell_type": "code",
   "execution_count": 2,
   "metadata": {},
   "outputs": [],
   "source": [
    "import pandas"
   ]
  },
  {
   "cell_type": "code",
   "execution_count": 3,
   "metadata": {},
   "outputs": [],
   "source": [
    "sbsData = pandas.read_csv('CSV/sbsRecipes3.cat.csv')"
   ]
  },
  {
   "cell_type": "code",
   "execution_count": 18,
   "metadata": {},
   "outputs": [],
   "source": [
    "CommonElementsCounter = []\n",
    "\n",
    "uniqueIngIndex = []\n",
    "for index, row in sbsData.iterrows():\n",
    "    if row[5] not in uniqueIngIndex and (not pandas.isna(row[5])):\n",
    "        uniqueIngIndex.append(row[5])"
   ]
  },
  {
   "cell_type": "code",
   "execution_count": 19,
   "metadata": {},
   "outputs": [
    {
     "name": "stdout",
     "output_type": "stream",
     "text": [
      "[298.0, 998.0, 1447.0, 136.0, 1080.0, 575.0, 251.0, 166.0, 848.0, 1471.0, 1240.0, 707.0, 439.0, 675.0, 1132.0, 1257.0, 849.0, 579.0, 1338.0, 385.0, 1088.0, 619.0, 1320.0, 19.0, 248.0, 417.0, 1356.0, 749.0, 396.0, 1216.0, 735.0, 1399.0, 1197.0, 133.0, 1183.0, 1140.0, 64.0, 1428.0, 112.0, 260.0, 205.0, 1133.0, 516.0, 483.0, 361.0, 152.0, 1120.0, 296.0, 1382.0, 878.0, 590.0, 466.0, 1251.0, 1488.0, 638.0, 994.0, 652.0, 105.0, 18.0, 1469.0, 1232.0, 1370.0]\n",
      "62\n"
     ]
    }
   ],
   "source": [
    "print(uniqueIngIndex)\n",
    "print(len(uniqueIngIndex))"
   ]
  },
  {
   "cell_type": "code",
   "execution_count": 20,
   "metadata": {},
   "outputs": [],
   "source": [
    "ingCombo = []\n",
    "for curIndex in range(0, len(uniqueIngIndex)):\n",
    "    for tempIndex in range((curIndex + 1), len(uniqueIngIndex)):\n",
    "        tempCombo = []\n",
    "        tempCombo.append(uniqueIngIndex[curIndex])\n",
    "        tempCombo.append(uniqueIngIndex[tempIndex])\n",
    "        ingCombo.append(tempCombo)"
   ]
  },
  {
   "cell_type": "code",
   "execution_count": null,
   "metadata": {},
   "outputs": [],
   "source": [
    "print(ingCombo)"
   ]
  },
  {
   "cell_type": "code",
   "execution_count": 23,
   "metadata": {},
   "outputs": [],
   "source": [
    "compIngCSV = pandas.read_csv('CSV/ingr_comp.tsv', sep = \"\\t\")"
   ]
  },
  {
   "cell_type": "code",
   "execution_count": 38,
   "metadata": {},
   "outputs": [],
   "source": [
    "ing1Comp = []\n",
    "ing2Comp = []\n",
    "\n",
    "commonComp = []\n",
    "\n",
    "for pair in ingCombo:\n",
    "    for row in compIngCSV.iterrows():\n",
    "        if row[1][0] == pair[0]:\n",
    "            ing1Comp.append(row[1][1])\n",
    "        elif row[1][0] == pair[1]:\n",
    "            ing2Comp.append(row[1][1])\n",
    "\n",
    "    commonComp.append(len(list(set(ing1Comp) & set(ing2Comp))))"
   ]
  },
  {
   "cell_type": "code",
   "execution_count": null,
   "metadata": {},
   "outputs": [],
   "source": []
  }
 ],
 "metadata": {
  "interpreter": {
   "hash": "69eb92836b941e979072a76c7fcfffe5419cca933cedd02cfafbdfca1a93358c"
  },
  "kernelspec": {
   "display_name": "Python 3.9.10 64-bit",
   "language": "python",
   "name": "python3"
  },
  "language_info": {
   "codemirror_mode": {
    "name": "ipython",
    "version": 3
   },
   "file_extension": ".py",
   "mimetype": "text/x-python",
   "name": "python",
   "nbconvert_exporter": "python",
   "pygments_lexer": "ipython3",
   "version": "3.9.10"
  },
  "orig_nbformat": 4
 },
 "nbformat": 4,
 "nbformat_minor": 2
}
