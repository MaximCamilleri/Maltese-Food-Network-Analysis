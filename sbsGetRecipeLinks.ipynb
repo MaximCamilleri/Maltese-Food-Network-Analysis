{
 "cells": [
  {
   "cell_type": "code",
   "execution_count": 1,
   "metadata": {},
   "outputs": [],
   "source": [
    "# Libraries needed to get the html from a site and to parse the html\n",
    "from bs4 import BeautifulSoup as bs\n",
    "import requests"
   ]
  },
  {
   "cell_type": "code",
   "execution_count": 2,
   "metadata": {},
   "outputs": [],
   "source": [
    "# Saving the url to a variable, getting the url and parsing the html\n",
    "mainURL = \"https://www.sbs.com.au/food/cuisine/maltese\"\n",
    "req = requests.get(mainURL)\n",
    "soup = bs(req.text, \"html.parser\")"
   ]
  },
  {
   "cell_type": "code",
   "execution_count": 16,
   "metadata": {},
   "outputs": [],
   "source": [
    "# Base link that hrefs will be added onto\n",
    "baseLink = 'https://www.sbs.com.au'"
   ]
  },
  {
   "cell_type": "code",
   "execution_count": 29,
   "metadata": {},
   "outputs": [],
   "source": [
    "# The tag that stores the href to the recipes\n",
    "hrefs = soup.findAll(class_='link-underlay')"
   ]
  },
  {
   "cell_type": "code",
   "execution_count": 30,
   "metadata": {
    "scrolled": true
   },
   "outputs": [
    {
     "name": "stdout",
     "output_type": "stream",
     "text": [
      "/food/recipes/maltese-baked-ricotta-pie \n",
      "\n",
      "/food/recipes/maltese-style-bruschetta-hobz-biz-zejt \n",
      "\n",
      "/food/recipes/maltese-rabbit-stew-stuffat-tal-fenek \n",
      "\n",
      "/food/recipes/bread-oil-hobz-biz-zejt \n",
      "\n",
      "/food/recipes/maltese-easter-biscuits-figolli \n",
      "\n",
      "/food/recipes/timpana \n",
      "\n",
      "/food/recipes/broad-bean-dip-bigilla \n",
      "\n",
      "/food/recipes/pears-baked-white-wine-almonds-and-armaretto-langas-mimli-bil-lewz \n",
      "\n",
      "/food/recipes/apple-and-fig-cake \n",
      "\n",
      "/food/recipes/pork-and-pea-pastizzi \n",
      "\n",
      "/food/recipes/rabbit-tomato-and-wine-sauce-rice \n",
      "\n",
      "/food/recipes/peach-and-almond-crumble \n",
      "\n",
      "/food/recipes/christmas-chocolate-salami-romblu-tal-milied-bic-cikkulata \n",
      "\n",
      "/food/recipes/pumpkin-and-rice-pie \n",
      "\n",
      "/food/recipes/grilled-garfish-roasted-potatoes-imsell-mixwi \n",
      "\n",
      "/food/article/2021/11/25/episode-guide-cook-adam-liaw-episodes-176-200 \n",
      "\n",
      "https://www.sbs.com.au/ondemand/program/the-pizza-show \n",
      "\n"
     ]
    }
   ],
   "source": [
    "# Simply printing out the contents to see what the hrefs of the tags are\n",
    "for i in hrefs:\n",
    "    print(i.get('href'), \"\\n\")"
   ]
  },
  {
   "cell_type": "code",
   "execution_count": 37,
   "metadata": {},
   "outputs": [],
   "source": [
    "# This for loop will generate the links to all the recipes that are shown on the mainURL\n",
    "# However, it only shows those recipes that appear before clicking the\n",
    "recipeLinks = []\n",
    "for i in hrefs:\n",
    "    fullLink = baseLink + i.get('href')\n",
    "    if i.get('href')[6] == 'r':\n",
    "        recipeLinks.append(fullLink)"
   ]
  },
  {
   "cell_type": "code",
   "execution_count": 38,
   "metadata": {},
   "outputs": [
    {
     "name": "stdout",
     "output_type": "stream",
     "text": [
      "['https://www.sbs.com.au/food/recipes/maltese-baked-ricotta-pie', 'https://www.sbs.com.au/food/recipes/maltese-style-bruschetta-hobz-biz-zejt', 'https://www.sbs.com.au/food/recipes/maltese-rabbit-stew-stuffat-tal-fenek', 'https://www.sbs.com.au/food/recipes/bread-oil-hobz-biz-zejt', 'https://www.sbs.com.au/food/recipes/maltese-easter-biscuits-figolli', 'https://www.sbs.com.au/food/recipes/timpana', 'https://www.sbs.com.au/food/recipes/broad-bean-dip-bigilla', 'https://www.sbs.com.au/food/recipes/pears-baked-white-wine-almonds-and-armaretto-langas-mimli-bil-lewz', 'https://www.sbs.com.au/food/recipes/apple-and-fig-cake', 'https://www.sbs.com.au/food/recipes/pork-and-pea-pastizzi', 'https://www.sbs.com.au/food/recipes/rabbit-tomato-and-wine-sauce-rice', 'https://www.sbs.com.au/food/recipes/peach-and-almond-crumble', 'https://www.sbs.com.au/food/recipes/christmas-chocolate-salami-romblu-tal-milied-bic-cikkulata', 'https://www.sbs.com.au/food/recipes/pumpkin-and-rice-pie', 'https://www.sbs.com.au/food/recipes/grilled-garfish-roasted-potatoes-imsell-mixwi']\n"
     ]
    }
   ],
   "source": [
    "# Printing the links to all the recipes shown before clicking the show more button\n",
    "print(recipeLinks)"
   ]
  }
 ],
 "metadata": {
  "kernelspec": {
   "display_name": "Python 3",
   "language": "python",
   "name": "python3"
  },
  "language_info": {
   "codemirror_mode": {
    "name": "ipython",
    "version": 3
   },
   "file_extension": ".py",
   "mimetype": "text/x-python",
   "name": "python",
   "nbconvert_exporter": "python",
   "pygments_lexer": "ipython3",
   "version": "3.8.5"
  }
 },
 "nbformat": 4,
 "nbformat_minor": 4
}
