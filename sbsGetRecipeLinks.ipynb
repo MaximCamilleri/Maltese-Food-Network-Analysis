{
 "cells": [
  {
   "cell_type": "code",
   "execution_count": 1,
   "metadata": {},
   "outputs": [
    {
     "name": "stdout",
     "output_type": "stream",
     "text": [
      "Requirement already satisfied: parse-ingredients in c:\\users\\max\\anaconda3\\lib\\site-packages (0.0.3)\n"
     ]
    }
   ],
   "source": [
    "!pip install parse-ingredients"
   ]
  },
  {
   "cell_type": "code",
   "execution_count": 5,
   "metadata": {},
   "outputs": [],
   "source": [
    "# Libraries needed to get the html from a site and to parse the html\n",
    "from bs4 import BeautifulSoup as bs\n",
    "import requests\n",
    "import numpy as np\n",
    "import csv\n",
    "from parse_ingredients import parse_ingredient"
   ]
  },
  {
   "cell_type": "code",
   "execution_count": 6,
   "metadata": {},
   "outputs": [],
   "source": [
    "# Saving the url to a variable, getting the url and parsing the html\n",
    "mainURL = \"https://www.sbs.com.au/food/cuisine/maltese\"\n",
    "req = requests.get(mainURL)\n",
    "soup = bs(req.text, \"html.parser\")"
   ]
  },
  {
   "cell_type": "code",
   "execution_count": 7,
   "metadata": {},
   "outputs": [],
   "source": [
    "# Base link that hrefs will be added onto\n",
    "baseLink = 'https://www.sbs.com.au'"
   ]
  },
  {
   "cell_type": "code",
   "execution_count": 8,
   "metadata": {},
   "outputs": [],
   "source": [
    "# The tag that stores the href to the recipes\n",
    "hrefs = soup.findAll(class_='link-underlay')"
   ]
  },
  {
   "cell_type": "code",
   "execution_count": 9,
   "metadata": {
    "scrolled": true
   },
   "outputs": [],
   "source": [
    "# Simply printing out the contents to see what the hrefs of the tags are\n",
    "\n",
    "def printHrefs(hrefsIn):\n",
    "    for i in hrefsIn:\n",
    "        print(i.get('href'), \"\\n\")\n",
    "\n",
    "# printHrefs(hrefs)"
   ]
  },
  {
   "cell_type": "code",
   "execution_count": 10,
   "metadata": {},
   "outputs": [],
   "source": [
    "# This for loop will generate the links to all the recipes that are shown on the mainURL\n",
    "\n",
    "def funcRecipeLinks(hrefsIn, baseLinkIn, recipeLinks):\n",
    "    for i in hrefsIn:\n",
    "        fullLink = baseLinkIn + i.get('href')\n",
    "        if i.get('href')[6] == 'r':\n",
    "            recipeLinks.append(fullLink)\n",
    "    return recipeLinks\n",
    "\n",
    "recipeLinks = []\n",
    "recipeLinks = funcRecipeLinks(hrefs, baseLink, recipeLinks)"
   ]
  },
  {
   "cell_type": "code",
   "execution_count": 11,
   "metadata": {},
   "outputs": [],
   "source": [
    "mainURL = \"https://www.sbs.com.au/food/cuisine/maltese?sort_by=created&page=1\"\n",
    "req = requests.get(mainURL)\n",
    "soup = bs(req.text, \"html.parser\")\n",
    "\n",
    "baseLink = 'https://www.sbs.com.au'\n",
    "hrefs = soup.findAll(class_='link-underlay')\n",
    "\n",
    "# printHrefs(hrefs)\n",
    "\n",
    "recipeLinks = funcRecipeLinks(hrefs, baseLink, recipeLinks)\n"
   ]
  },
  {
   "cell_type": "code",
   "execution_count": 12,
   "metadata": {},
   "outputs": [
    {
     "name": "stdout",
     "output_type": "stream",
     "text": [
      "['https://www.sbs.com.au/food/recipes/maltese-baked-ricotta-pie', 'https://www.sbs.com.au/food/recipes/maltese-style-bruschetta-hobz-biz-zejt', 'https://www.sbs.com.au/food/recipes/maltese-rabbit-stew-stuffat-tal-fenek', 'https://www.sbs.com.au/food/recipes/bread-oil-hobz-biz-zejt', 'https://www.sbs.com.au/food/recipes/maltese-easter-biscuits-figolli', 'https://www.sbs.com.au/food/recipes/timpana', 'https://www.sbs.com.au/food/recipes/broad-bean-dip-bigilla', 'https://www.sbs.com.au/food/recipes/pears-baked-white-wine-almonds-and-armaretto-langas-mimli-bil-lewz', 'https://www.sbs.com.au/food/recipes/apple-and-fig-cake', 'https://www.sbs.com.au/food/recipes/pork-and-pea-pastizzi', 'https://www.sbs.com.au/food/recipes/rabbit-tomato-and-wine-sauce-rice', 'https://www.sbs.com.au/food/recipes/peach-and-almond-crumble', 'https://www.sbs.com.au/food/recipes/christmas-chocolate-salami-romblu-tal-milied-bic-cikkulata', 'https://www.sbs.com.au/food/recipes/pumpkin-and-rice-pie', 'https://www.sbs.com.au/food/recipes/grilled-garfish-roasted-potatoes-imsell-mixwi', 'https://www.sbs.com.au/food/recipes/traditional-maltese-christmas-honey-rings', 'https://www.sbs.com.au/food/recipes/sugarless-cake-apricots-dates-and-almonds', 'https://www.sbs.com.au/food/recipes/chicken-rissoles', 'https://www.sbs.com.au/food/recipes/caponata-0', 'https://www.sbs.com.au/food/recipes/stuffed-artichokes', 'https://www.sbs.com.au/food/recipes/lenten-biscuits-kwarezimal', 'https://www.sbs.com.au/food/recipes/sweet-chestnut-soup', 'https://www.sbs.com.au/food/recipes/maltese-traditional-biscuit-sesame-seeds', 'https://www.sbs.com.au/food/recipes/food-safaris-timpana', 'https://www.sbs.com.au/food/recipes/beef-olives-bragioli', 'https://www.sbs.com.au/food/recipes/bread-and-butter-pudding-puddina', 'https://www.sbs.com.au/food/recipes/braised-potatoes-maltese-sausage', 'https://www.sbs.com.au/food/recipes/rabbit-stew-stuffat-tal-fenek', 'https://www.sbs.com.au/food/recipes/open-sandwich-hobz-biz-zejt', 'https://www.sbs.com.au/food/recipes/widows-soup-soppa-tal-armla']\n",
      "30\n"
     ]
    }
   ],
   "source": [
    "# Printing the links to all the recipes shown before clicking the show more button\n",
    "print(recipeLinks)\n",
    "print(len(recipeLinks))"
   ]
  },
  {
   "cell_type": "code",
   "execution_count": 15,
   "metadata": {},
   "outputs": [
    {
     "name": "stdout",
     "output_type": "stream",
     "text": [
      "Found results: \n",
      " Ingredient(name='lean ground beef', quantity=12.0, unit='oz', comment='preferably 85 percent lean', original_string='12 ounces lean ground beef, preferably 85 percent lean')\n"
     ]
    }
   ],
   "source": [
    "#Test\n",
    "#result = parse_ingredient(\"12 ounces lean ground beef, preferably 85 percent lean\")\n",
    "#print(f\"Found results: \\n {result}\")\n",
    "\n",
    "# Included Attributes: name, quantity, unit, comment, original_string"
   ]
  },
  {
   "cell_type": "code",
   "execution_count": 24,
   "metadata": {},
   "outputs": [],
   "source": [
    "data = []\n",
    "ingredientList = []\n",
    "\n",
    "for recipe in recipeLinks:\n",
    "    req = requests.get(recipe) # Accesses the next recipe\n",
    "    soup = bs(req.text, \"html.parser\")\n",
    "    title = soup.findAll('h1') # finds the name of the recipe\n",
    "    \n",
    "    ingredientsDiv = soup.findAll('div', class_='field-name-field-ingredients') # finds all the divs containing the ingredients\n",
    "    \n",
    "    # For each div go trough and extract the ingredients\n",
    "    for ul in ingredientsDiv:\n",
    "        ingredients = ul.findAll(\"li\")\n",
    "        \n",
    "        for i in ingredients:\n",
    "            for j in title:\n",
    "                data.append(str(j.get_text(strip=False))) # Dish Name\n",
    "                \n",
    "            parseResult = parse_ingredient(str(i.get_text(strip=False)))\n",
    "            \n",
    "            data.append(parseResult.original_string) #Original String\n",
    "            data.append(parseResult.name) #Ingredient\n",
    "            data.append(parseResult.quantity) #Quantity\n",
    "            data.append(parseResult.unit) #Unit\n",
    "            data.append(parseResult.comment) #Comment\n",
    "            \n",
    "            ingredientList.append(data)   \n",
    "            data = []"
   ]
  },
  {
   "cell_type": "code",
   "execution_count": 25,
   "metadata": {},
   "outputs": [],
   "source": [
    "import csv\n",
    "\n",
    "header = ['Dish Name', 'Original String', 'Ingredient', 'Quantity', 'Unit', 'Comment']\n",
    "\n",
    "\n",
    "with open('CSV/sbsRecipes.csv', 'w', encoding='UTF8', newline='') as f:\n",
    "    writer = csv.writer(f)\n",
    "\n",
    "    # write the header\n",
    "    writer.writerow(header)\n",
    "\n",
    "    # write multiple rows\n",
    "    writer.writerows(ingredientList)"
   ]
  }
 ],
 "metadata": {
  "kernelspec": {
   "display_name": "Python 3",
   "language": "python",
   "name": "python3"
  },
  "language_info": {
   "codemirror_mode": {
    "name": "ipython",
    "version": 3
   },
   "file_extension": ".py",
   "mimetype": "text/x-python",
   "name": "python",
   "nbconvert_exporter": "python",
   "pygments_lexer": "ipython3",
   "version": "3.7.6"
  }
 },
 "nbformat": 4,
 "nbformat_minor": 4
}
